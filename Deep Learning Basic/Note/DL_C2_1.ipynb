{
 "cells": [
  {
   "cell_type": "markdown",
   "id": "ef1bbb64-c2ed-4abf-b754-1dcc70b098db",
   "metadata": {
    "jp-MarkdownHeadingCollapsed": true
   },
   "source": [
    "# Deep Learning --PyTorch $Chapter2"
   ]
  },
  {
   "cell_type": "markdown",
   "id": "807118a6-7037-48ef-87d2-6fd45b86e03e",
   "metadata": {
    "jp-MarkdownHeadingCollapsed": true
   },
   "source": [
    "# 1.1 Basic knowledge"
   ]
  },
  {
   "cell_type": "code",
   "execution_count": 1,
   "id": "dbad73fd-ecea-4f9d-b63e-86568af52049",
   "metadata": {},
   "outputs": [],
   "source": [
    "import torch"
   ]
  },
  {
   "cell_type": "code",
   "execution_count": 2,
   "id": "e39d67c9-6865-4414-b8af-5d7ef9350ff4",
   "metadata": {},
   "outputs": [],
   "source": [
    "x = torch.arange(12)        #crate a row vector"
   ]
  },
  {
   "cell_type": "code",
   "execution_count": 3,
   "id": "e60b2e01-079f-40d2-8d89-e7f256b157c2",
   "metadata": {},
   "outputs": [
    {
     "data": {
      "text/plain": [
       "tensor([ 0,  1,  2,  3,  4,  5,  6,  7,  8,  9, 10, 11])"
      ]
     },
     "execution_count": 3,
     "metadata": {},
     "output_type": "execute_result"
    }
   ],
   "source": [
    "x"
   ]
  },
  {
   "cell_type": "code",
   "execution_count": 4,
   "id": "8985da0e-9d3a-42d1-8ac6-92db441163b7",
   "metadata": {},
   "outputs": [
    {
     "data": {
      "text/plain": [
       "torch.Size([12])"
      ]
     },
     "execution_count": 4,
     "metadata": {},
     "output_type": "execute_result"
    }
   ],
   "source": [
    "x.shape                    # the shape of x, such as (m,n), which mean the x is m row and n column"
   ]
  },
  {
   "cell_type": "code",
   "execution_count": 5,
   "id": "42555741-0bbb-4282-89f7-5f3de5f97614",
   "metadata": {},
   "outputs": [
    {
     "data": {
      "text/plain": [
       "12"
      ]
     },
     "execution_count": 5,
     "metadata": {},
     "output_type": "execute_result"
    }
   ],
   "source": [
    "x.numel()                 # the size of x, such as num = m*n, which mean the number of element in x"
   ]
  },
  {
   "cell_type": "code",
   "execution_count": 6,
   "id": "70ae1fb8-8143-4e07-a536-7b276108ea94",
   "metadata": {},
   "outputs": [],
   "source": [
    "x1 = x.reshape(3,4)"
   ]
  },
  {
   "cell_type": "code",
   "execution_count": 7,
   "id": "9e91bb7f-9518-4d56-a899-143d6474f784",
   "metadata": {},
   "outputs": [
    {
     "data": {
      "text/plain": [
       "tensor([[ 0,  1,  2,  3],\n",
       "        [ 4,  5,  6,  7],\n",
       "        [ 8,  9, 10, 11]])"
      ]
     },
     "execution_count": 7,
     "metadata": {},
     "output_type": "execute_result"
    }
   ],
   "source": [
    "x1"
   ]
  },
  {
   "cell_type": "code",
   "execution_count": 8,
   "id": "6b9cbff1-9336-4d0b-8135-4195110487b9",
   "metadata": {},
   "outputs": [
    {
     "data": {
      "text/plain": [
       "torch.Size([3, 4])"
      ]
     },
     "execution_count": 8,
     "metadata": {},
     "output_type": "execute_result"
    }
   ],
   "source": [
    "x1.shape"
   ]
  },
  {
   "cell_type": "code",
   "execution_count": 9,
   "id": "47e9f84f-7719-40c2-be5b-67d0131d4a23",
   "metadata": {},
   "outputs": [
    {
     "data": {
      "text/plain": [
       "12"
      ]
     },
     "execution_count": 9,
     "metadata": {},
     "output_type": "execute_result"
    }
   ],
   "source": [
    "x1.numel()"
   ]
  },
  {
   "cell_type": "code",
   "execution_count": 10,
   "id": "7fca13bf-b833-42f9-8937-bcee4652ddf4",
   "metadata": {},
   "outputs": [
    {
     "data": {
      "text/plain": [
       "tensor([[[0., 0., 0., 0.],\n",
       "         [0., 0., 0., 0.],\n",
       "         [0., 0., 0., 0.]],\n",
       "\n",
       "        [[0., 0., 0., 0.],\n",
       "         [0., 0., 0., 0.],\n",
       "         [0., 0., 0., 0.]]])"
      ]
     },
     "execution_count": 10,
     "metadata": {},
     "output_type": "execute_result"
    }
   ],
   "source": [
    "torch.zeros((2,3,4))"
   ]
  },
  {
   "cell_type": "code",
   "execution_count": 11,
   "id": "916066fe-901c-4c0d-bd70-21c6682021b2",
   "metadata": {},
   "outputs": [
    {
     "data": {
      "text/plain": [
       "tensor([[[1., 1., 1., 1.],\n",
       "         [1., 1., 1., 1.],\n",
       "         [1., 1., 1., 1.]],\n",
       "\n",
       "        [[1., 1., 1., 1.],\n",
       "         [1., 1., 1., 1.],\n",
       "         [1., 1., 1., 1.]]])"
      ]
     },
     "execution_count": 11,
     "metadata": {},
     "output_type": "execute_result"
    }
   ],
   "source": [
    "torch.ones((2,3,4))"
   ]
  },
  {
   "cell_type": "code",
   "execution_count": 12,
   "id": "762a228e-3b2b-4910-af98-67be11a4268e",
   "metadata": {},
   "outputs": [
    {
     "data": {
      "text/plain": [
       "tensor([[ 0.0837,  1.5369,  0.3443,  1.2756],\n",
       "        [-0.2860,  1.1274, -0.1696, -0.0977],\n",
       "        [-0.9075, -0.8949, -0.4916, -0.4726]])"
      ]
     },
     "execution_count": 12,
     "metadata": {},
     "output_type": "execute_result"
    }
   ],
   "source": [
    "torch.randn(3,4)"
   ]
  },
  {
   "cell_type": "code",
   "execution_count": 13,
   "id": "844a2f0d-771f-47ee-985a-8706a11846a0",
   "metadata": {},
   "outputs": [
    {
     "data": {
      "text/plain": [
       "tensor([[2, 1, 4, 3],\n",
       "        [1, 2, 3, 4],\n",
       "        [5, 6, 7, 8]])"
      ]
     },
     "execution_count": 13,
     "metadata": {},
     "output_type": "execute_result"
    }
   ],
   "source": [
    "torch.tensor([[2,1,4,3],[1,2,3,4],[5,6,7,8]])"
   ]
  },
  {
   "cell_type": "markdown",
   "id": "92583fbc-bc34-4011-b792-807f2000b93b",
   "metadata": {
    "jp-MarkdownHeadingCollapsed": true
   },
   "source": [
    "# 1.2 operator"
   ]
  },
  {
   "cell_type": "code",
   "execution_count": 14,
   "id": "159e2bd2-a27e-4b7e-8c9c-9ce887fe5d31",
   "metadata": {},
   "outputs": [],
   "source": [
    "x = torch.tensor([1.0, 2, 4, 8])"
   ]
  },
  {
   "cell_type": "code",
   "execution_count": 15,
   "id": "82f70c9e-533f-4915-9f3f-54a1607db478",
   "metadata": {},
   "outputs": [],
   "source": [
    "y = torch.tensor([2, 2, 2, 2])"
   ]
  },
  {
   "cell_type": "code",
   "execution_count": 16,
   "id": "f844b681-d11b-489c-ad90-fd40c269cd76",
   "metadata": {},
   "outputs": [
    {
     "data": {
      "text/plain": [
       "(tensor([ 3.,  4.,  6., 10.]),\n",
       " tensor([-1.,  0.,  2.,  6.]),\n",
       " tensor([ 2.,  4.,  8., 16.]),\n",
       " tensor([0.5000, 1.0000, 2.0000, 4.0000]),\n",
       " tensor([ 1.,  4., 16., 64.]))"
      ]
     },
     "execution_count": 16,
     "metadata": {},
     "output_type": "execute_result"
    }
   ],
   "source": [
    "x+y, x-y, x*y, x/y, x**y"
   ]
  },
  {
   "cell_type": "code",
   "execution_count": 17,
   "id": "5c39f832-6335-45a7-8a39-17b37e6e1a3c",
   "metadata": {},
   "outputs": [
    {
     "data": {
      "text/plain": [
       "tensor([2.7183e+00, 7.3891e+00, 5.4598e+01, 2.9810e+03])"
      ]
     },
     "execution_count": 17,
     "metadata": {},
     "output_type": "execute_result"
    }
   ],
   "source": [
    "torch.exp(x)"
   ]
  },
  {
   "cell_type": "code",
   "execution_count": 18,
   "id": "392b9a0f-eaf2-4dc3-87e2-f9e9929c8937",
   "metadata": {},
   "outputs": [],
   "source": [
    "X = torch.arange(12, dtype = torch.float32).reshape((3,4))"
   ]
  },
  {
   "cell_type": "code",
   "execution_count": 19,
   "id": "12862388-926b-44ee-8262-7aa5af064b45",
   "metadata": {},
   "outputs": [
    {
     "data": {
      "text/plain": [
       "tensor([[ 0.,  1.,  2.,  3.],\n",
       "        [ 4.,  5.,  6.,  7.],\n",
       "        [ 8.,  9., 10., 11.]])"
      ]
     },
     "execution_count": 19,
     "metadata": {},
     "output_type": "execute_result"
    }
   ],
   "source": [
    "X"
   ]
  },
  {
   "cell_type": "code",
   "execution_count": 20,
   "id": "a2e97a02-7e0e-4926-bbc6-fad700a56815",
   "metadata": {},
   "outputs": [],
   "source": [
    "Y = torch.tensor([[2.0, 1, 4, 3], [1, 2, 3, 4], [4, 3, 2, 1]])"
   ]
  },
  {
   "cell_type": "code",
   "execution_count": 21,
   "id": "b3e7742f-8fba-4c90-827e-0d3dbf8afd59",
   "metadata": {},
   "outputs": [
    {
     "data": {
      "text/plain": [
       "tensor([[2., 1., 4., 3.],\n",
       "        [1., 2., 3., 4.],\n",
       "        [4., 3., 2., 1.]])"
      ]
     },
     "execution_count": 21,
     "metadata": {},
     "output_type": "execute_result"
    }
   ],
   "source": [
    "Y"
   ]
  },
  {
   "cell_type": "code",
   "execution_count": 22,
   "id": "8c19ea2c-9b84-4a9e-b772-9ae6be42ee89",
   "metadata": {},
   "outputs": [
    {
     "data": {
      "text/plain": [
       "(tensor([[ 0.,  1.,  2.,  3.],\n",
       "         [ 4.,  5.,  6.,  7.],\n",
       "         [ 8.,  9., 10., 11.],\n",
       "         [ 2.,  1.,  4.,  3.],\n",
       "         [ 1.,  2.,  3.,  4.],\n",
       "         [ 4.,  3.,  2.,  1.]]),\n",
       " tensor([[ 0.,  1.,  2.,  3.,  2.,  1.,  4.,  3.],\n",
       "         [ 4.,  5.,  6.,  7.,  1.,  2.,  3.,  4.],\n",
       "         [ 8.,  9., 10., 11.,  4.,  3.,  2.,  1.]]))"
      ]
     },
     "execution_count": 22,
     "metadata": {},
     "output_type": "execute_result"
    }
   ],
   "source": [
    "torch.cat((X, Y), dim = 0), torch.cat((X, Y), dim = 1)"
   ]
  },
  {
   "cell_type": "code",
   "execution_count": 23,
   "id": "f2d87c06-c99f-4556-86ba-b21e8f2dfddc",
   "metadata": {},
   "outputs": [
    {
     "data": {
      "text/plain": [
       "tensor([[False,  True, False,  True],\n",
       "        [False, False, False, False],\n",
       "        [False, False, False, False]])"
      ]
     },
     "execution_count": 23,
     "metadata": {},
     "output_type": "execute_result"
    }
   ],
   "source": [
    "X==Y"
   ]
  },
  {
   "cell_type": "code",
   "execution_count": 24,
   "id": "dfa55e7d-64d1-4630-90d3-7e63a98e1be2",
   "metadata": {},
   "outputs": [
    {
     "data": {
      "text/plain": [
       "tensor(66.)"
      ]
     },
     "execution_count": 24,
     "metadata": {},
     "output_type": "execute_result"
    }
   ],
   "source": [
    "X.sum()"
   ]
  },
  {
   "cell_type": "code",
   "execution_count": 25,
   "id": "949a3b46-0ec3-443f-8371-e602feeca640",
   "metadata": {},
   "outputs": [
    {
     "data": {
      "text/plain": [
       "tensor(30.)"
      ]
     },
     "execution_count": 25,
     "metadata": {},
     "output_type": "execute_result"
    }
   ],
   "source": [
    "Y.sum()"
   ]
  },
  {
   "cell_type": "code",
   "execution_count": 26,
   "id": "d19da767-b511-495f-ae75-a71802fcc724",
   "metadata": {},
   "outputs": [],
   "source": [
    "a = torch.arange(3).reshape(3,1)"
   ]
  },
  {
   "cell_type": "code",
   "execution_count": 27,
   "id": "74b96fc0-14ea-49f4-b38d-155f658bc9bb",
   "metadata": {},
   "outputs": [],
   "source": [
    "b = torch.arange(2).reshape(1,2)"
   ]
  },
  {
   "cell_type": "code",
   "execution_count": 28,
   "id": "2e05a806-1b4d-4707-a65c-0234664d786c",
   "metadata": {},
   "outputs": [
    {
     "data": {
      "text/plain": [
       "(tensor([[0],\n",
       "         [1],\n",
       "         [2]]),\n",
       " tensor([[0, 1]]))"
      ]
     },
     "execution_count": 28,
     "metadata": {},
     "output_type": "execute_result"
    }
   ],
   "source": [
    "a, b"
   ]
  },
  {
   "cell_type": "code",
   "execution_count": 29,
   "id": "51dd4f93-6774-4518-a06f-b1d53fc70a75",
   "metadata": {},
   "outputs": [
    {
     "data": {
      "text/plain": [
       "tensor([[0, 1],\n",
       "        [1, 2],\n",
       "        [2, 3]])"
      ]
     },
     "execution_count": 29,
     "metadata": {},
     "output_type": "execute_result"
    }
   ],
   "source": [
    "a+b"
   ]
  },
  {
   "cell_type": "code",
   "execution_count": 30,
   "id": "582864bf-fa63-4480-aa75-83346a5b822f",
   "metadata": {},
   "outputs": [
    {
     "data": {
      "text/plain": [
       "tensor([[ 0.,  1.,  2.,  3.],\n",
       "        [ 4.,  5.,  6.,  7.],\n",
       "        [ 8.,  9., 10., 11.]])"
      ]
     },
     "execution_count": 30,
     "metadata": {},
     "output_type": "execute_result"
    }
   ],
   "source": [
    "X"
   ]
  },
  {
   "cell_type": "code",
   "execution_count": 31,
   "id": "e0485a2e-323f-4a0e-992c-5de5170a9572",
   "metadata": {},
   "outputs": [
    {
     "data": {
      "text/plain": [
       "(tensor([ 8.,  9., 10., 11.]),\n",
       " tensor([[ 4.,  5.,  6.,  7.],\n",
       "         [ 8.,  9., 10., 11.]]))"
      ]
     },
     "execution_count": 31,
     "metadata": {},
     "output_type": "execute_result"
    }
   ],
   "source": [
    "X[-1], X[1:3]"
   ]
  },
  {
   "cell_type": "code",
   "execution_count": 32,
   "id": "d5fc66a0-9715-4815-93a2-dea58d68acd1",
   "metadata": {},
   "outputs": [
    {
     "data": {
      "text/plain": [
       "tensor(1.)"
      ]
     },
     "execution_count": 32,
     "metadata": {},
     "output_type": "execute_result"
    }
   ],
   "source": [
    "X[0,1]"
   ]
  },
  {
   "cell_type": "code",
   "execution_count": 33,
   "id": "146c3b6b-23fa-48e9-be72-e0a0455aa786",
   "metadata": {},
   "outputs": [],
   "source": [
    "X[1,2] = 9"
   ]
  },
  {
   "cell_type": "code",
   "execution_count": 34,
   "id": "583c0aab-4b18-434f-9536-f3ff5b0c8473",
   "metadata": {},
   "outputs": [
    {
     "data": {
      "text/plain": [
       "tensor([[ 0.,  1.,  2.,  3.],\n",
       "        [ 4.,  5.,  9.,  7.],\n",
       "        [ 8.,  9., 10., 11.]])"
      ]
     },
     "execution_count": 34,
     "metadata": {},
     "output_type": "execute_result"
    }
   ],
   "source": [
    "X"
   ]
  },
  {
   "cell_type": "code",
   "execution_count": 35,
   "id": "3251bc92-7d6d-4dc6-bd8e-1a6e7075b0bb",
   "metadata": {},
   "outputs": [],
   "source": [
    "X[0:2, :] = 12"
   ]
  },
  {
   "cell_type": "code",
   "execution_count": 36,
   "id": "9105cbc1-3db4-44a3-8f12-eabcf0b9aaef",
   "metadata": {},
   "outputs": [
    {
     "data": {
      "text/plain": [
       "tensor([[12., 12., 12., 12.],\n",
       "        [12., 12., 12., 12.],\n",
       "        [ 8.,  9., 10., 11.]])"
      ]
     },
     "execution_count": 36,
     "metadata": {},
     "output_type": "execute_result"
    }
   ],
   "source": [
    "X"
   ]
  },
  {
   "cell_type": "code",
   "execution_count": 37,
   "id": "825c3213-3be8-4339-8ac7-2bef25dc22f5",
   "metadata": {},
   "outputs": [
    {
     "data": {
      "text/plain": [
       "False"
      ]
     },
     "execution_count": 37,
     "metadata": {},
     "output_type": "execute_result"
    }
   ],
   "source": [
    "before = id(Y)\n",
    "Y = Y + X\n",
    "id(Y) == before"
   ]
  },
  {
   "cell_type": "code",
   "execution_count": 38,
   "id": "f6af14c3-f597-49e2-b799-9d0df114b268",
   "metadata": {},
   "outputs": [],
   "source": [
    "Z = torch.zeros_like(Y)"
   ]
  },
  {
   "cell_type": "code",
   "execution_count": 39,
   "id": "992ebb9c-db26-4394-9b79-8b5923bc5dbe",
   "metadata": {},
   "outputs": [
    {
     "data": {
      "text/plain": [
       "tensor([[0., 0., 0., 0.],\n",
       "        [0., 0., 0., 0.],\n",
       "        [0., 0., 0., 0.]])"
      ]
     },
     "execution_count": 39,
     "metadata": {},
     "output_type": "execute_result"
    }
   ],
   "source": [
    "Z"
   ]
  },
  {
   "cell_type": "code",
   "execution_count": 40,
   "id": "365f6977-fae8-4292-bfba-0a886bf02ecc",
   "metadata": {},
   "outputs": [
    {
     "name": "stdout",
     "output_type": "stream",
     "text": [
      "id(Z):  2384912158288\n"
     ]
    }
   ],
   "source": [
    "print(\"id(Z): \", id(Z))"
   ]
  },
  {
   "cell_type": "code",
   "execution_count": 41,
   "id": "bc998b2b-f18d-4a88-92f5-e2b6f277c081",
   "metadata": {},
   "outputs": [],
   "source": [
    "Z[:] = X + Y"
   ]
  },
  {
   "cell_type": "code",
   "execution_count": 42,
   "id": "065cf9f0-dba2-49ab-93e4-3b0ca451183a",
   "metadata": {},
   "outputs": [
    {
     "data": {
      "text/plain": [
       "tensor([[26., 25., 28., 27.],\n",
       "        [25., 26., 27., 28.],\n",
       "        [20., 21., 22., 23.]])"
      ]
     },
     "execution_count": 42,
     "metadata": {},
     "output_type": "execute_result"
    }
   ],
   "source": [
    "Z"
   ]
  },
  {
   "cell_type": "code",
   "execution_count": 43,
   "id": "f69f18e6-e95e-4770-be81-d56216103146",
   "metadata": {},
   "outputs": [
    {
     "name": "stdout",
     "output_type": "stream",
     "text": [
      "id(Z):  2384912158288\n"
     ]
    }
   ],
   "source": [
    "print(\"id(Z): \", id(Z))"
   ]
  },
  {
   "cell_type": "code",
   "execution_count": 44,
   "id": "cc194a8d-0c54-44fd-91d5-dda32ce233c0",
   "metadata": {},
   "outputs": [],
   "source": [
    "before = id(X)"
   ]
  },
  {
   "cell_type": "code",
   "execution_count": 45,
   "id": "9c07df4d-4a1c-4739-8be6-157382c6da8b",
   "metadata": {},
   "outputs": [],
   "source": [
    "X = X + Y"
   ]
  },
  {
   "cell_type": "code",
   "execution_count": 46,
   "id": "39e8baa8-43a1-4192-ad24-c481016c9428",
   "metadata": {},
   "outputs": [
    {
     "data": {
      "text/plain": [
       "False"
      ]
     },
     "execution_count": 46,
     "metadata": {},
     "output_type": "execute_result"
    }
   ],
   "source": [
    "id(X)==before"
   ]
  },
  {
   "cell_type": "markdown",
   "id": "36127cf2-28f1-42e9-9a3a-8ba295f03f01",
   "metadata": {
    "jp-MarkdownHeadingCollapsed": true
   },
   "source": [
    "# 1.3 Convert python object"
   ]
  },
  {
   "cell_type": "code",
   "execution_count": 47,
   "id": "f0573a2c-cda5-44cc-9b8a-ea58270cfd53",
   "metadata": {},
   "outputs": [],
   "source": [
    "A = X.numpy()"
   ]
  },
  {
   "cell_type": "code",
   "execution_count": 48,
   "id": "360e13a8-ae30-4640-8f0b-183aa0bc995c",
   "metadata": {},
   "outputs": [],
   "source": [
    "B = torch.tensor(A)"
   ]
  },
  {
   "cell_type": "code",
   "execution_count": 49,
   "id": "6d41dfdf-e6d5-4a86-bd9c-774ebf219840",
   "metadata": {},
   "outputs": [
    {
     "data": {
      "text/plain": [
       "(numpy.ndarray, torch.Tensor)"
      ]
     },
     "execution_count": 49,
     "metadata": {},
     "output_type": "execute_result"
    }
   ],
   "source": [
    "type(A), type(B)"
   ]
  },
  {
   "cell_type": "code",
   "execution_count": 50,
   "id": "97bf78f8-2b70-4cef-b49b-13a1f5147d32",
   "metadata": {},
   "outputs": [],
   "source": [
    "a = torch.tensor([3.5])"
   ]
  },
  {
   "cell_type": "code",
   "execution_count": 51,
   "id": "c0b07fde-acec-4319-882d-fd371a6418a8",
   "metadata": {},
   "outputs": [
    {
     "data": {
      "text/plain": [
       "(tensor([3.5000]), 3.5, 3.5, 3)"
      ]
     },
     "execution_count": 51,
     "metadata": {},
     "output_type": "execute_result"
    }
   ],
   "source": [
    "a, a.item(), float(a), int(a)"
   ]
  },
  {
   "cell_type": "markdown",
   "id": "3e323901-515b-4984-a943-9d35ca2d4cd3",
   "metadata": {
    "jp-MarkdownHeadingCollapsed": true
   },
   "source": [
    "# 1.4 Exercise"
   ]
  },
  {
   "cell_type": "code",
   "execution_count": 52,
   "id": "71f1198b-0692-4830-983b-9cff9f7b195e",
   "metadata": {},
   "outputs": [],
   "source": [
    "X3 = torch.tensor([\n",
    "    [\n",
    "        [1, 2, 3],\n",
    "        [4, 5, 6]\n",
    "    ],\n",
    "    [\n",
    "        [7, 8, 9],\n",
    "        [10, 11, 12]\n",
    "    ]\n",
    "])"
   ]
  },
  {
   "cell_type": "code",
   "execution_count": 53,
   "id": "f33356ef-06f4-4129-b0ed-dc25180a2496",
   "metadata": {},
   "outputs": [
    {
     "data": {
      "text/plain": [
       "tensor([[[ 1,  2,  3],\n",
       "         [ 4,  5,  6]],\n",
       "\n",
       "        [[ 7,  8,  9],\n",
       "         [10, 11, 12]]])"
      ]
     },
     "execution_count": 53,
     "metadata": {},
     "output_type": "execute_result"
    }
   ],
   "source": [
    "X3"
   ]
  },
  {
   "cell_type": "code",
   "execution_count": 54,
   "id": "5ddf5c9b-026d-49c2-81d6-5aee81aede36",
   "metadata": {},
   "outputs": [],
   "source": [
    "Y3 = torch.tensor([\n",
    "    [\n",
    "        [1, 2, 3],\n",
    "        [4, 5, 6]\n",
    "    ],\n",
    "    [\n",
    "        [7, 8, 9],\n",
    "        [10, 11, 12]\n",
    "    ]\n",
    "])"
   ]
  },
  {
   "cell_type": "code",
   "execution_count": 55,
   "id": "559a4dfe-bda8-4e8e-b8f9-8b799511da63",
   "metadata": {},
   "outputs": [
    {
     "data": {
      "text/plain": [
       "tensor([[[ 2,  4,  6],\n",
       "         [ 8, 10, 12]],\n",
       "\n",
       "        [[14, 16, 18],\n",
       "         [20, 22, 24]]])"
      ]
     },
     "execution_count": 55,
     "metadata": {},
     "output_type": "execute_result"
    }
   ],
   "source": [
    "X3+Y3"
   ]
  },
  {
   "cell_type": "code",
   "execution_count": 56,
   "id": "6a6434f2-e660-4690-b68b-0aa77c89acb6",
   "metadata": {},
   "outputs": [],
   "source": [
    "Z3 = torch.torch.tensor([\n",
    "    [\n",
    "        [1, 2, 3]\n",
    "    ],\n",
    "    [\n",
    "        [3, 4, 5]\n",
    "    ]\n",
    "])"
   ]
  },
  {
   "cell_type": "code",
   "execution_count": 57,
   "id": "44e321a3-a4e4-4bc8-877d-55fa8260a7b7",
   "metadata": {},
   "outputs": [
    {
     "data": {
      "text/plain": [
       "tensor([[[1, 2, 3]],\n",
       "\n",
       "        [[3, 4, 5]]])"
      ]
     },
     "execution_count": 57,
     "metadata": {},
     "output_type": "execute_result"
    }
   ],
   "source": [
    "Z3"
   ]
  },
  {
   "cell_type": "code",
   "execution_count": 58,
   "id": "7ce63bfc-15db-4336-874f-36b1bfbfd4a2",
   "metadata": {},
   "outputs": [
    {
     "data": {
      "text/plain": [
       "tensor([[[ 2,  4,  6],\n",
       "         [ 5,  7,  9]],\n",
       "\n",
       "        [[10, 12, 14],\n",
       "         [13, 15, 17]]])"
      ]
     },
     "execution_count": 58,
     "metadata": {},
     "output_type": "execute_result"
    }
   ],
   "source": [
    "X3 + Z3"
   ]
  },
  {
   "cell_type": "code",
   "execution_count": 59,
   "id": "3192ba55-33e3-40f0-9455-5bd161221099",
   "metadata": {},
   "outputs": [
    {
     "data": {
      "text/plain": [
       "torch.Size([2, 2, 3])"
      ]
     },
     "execution_count": 59,
     "metadata": {},
     "output_type": "execute_result"
    }
   ],
   "source": [
    "X3.shape"
   ]
  },
  {
   "cell_type": "code",
   "execution_count": 60,
   "id": "59d736b7-5ef8-42fb-8fda-a7da35a36a3c",
   "metadata": {},
   "outputs": [
    {
     "data": {
      "text/plain": [
       "torch.Size([2, 1, 3])"
      ]
     },
     "execution_count": 60,
     "metadata": {},
     "output_type": "execute_result"
    }
   ],
   "source": [
    "Z3.shape"
   ]
  },
  {
   "cell_type": "markdown",
   "id": "4ba17792-dd0d-416d-80bc-5b019fc06e67",
   "metadata": {
    "jp-MarkdownHeadingCollapsed": true
   },
   "source": [
    "# 2.1 Data preprocessing"
   ]
  },
  {
   "cell_type": "code",
   "execution_count": 61,
   "id": "bacb5f1b-d0d5-4c9b-ba17-5d628e4cb1cd",
   "metadata": {},
   "outputs": [],
   "source": [
    "import os"
   ]
  },
  {
   "cell_type": "code",
   "execution_count": 62,
   "id": "1d8c1689-b352-4edf-ab3c-d0f1ecd5e871",
   "metadata": {},
   "outputs": [],
   "source": [
    "os.makedirs(os.path.join('..', 'data'), exist_ok = True)\n",
    "data_file = os.path.join('..', 'data', 'house_tiny.csv')\n",
    "with open(data_file, 'w') as f:\n",
    "    f.write('NumRooms,Alley,Price\\n')\n",
    "    f.write('NA,Pave,127500\\n')\n",
    "    f.write('2,NA,10600\\n')\n",
    "    f.write('4,NA,178100\\n')\n",
    "    f.write('NA,NA,140000\\n')"
   ]
  },
  {
   "cell_type": "code",
   "execution_count": 63,
   "id": "28186b0b-7b54-4d7c-a2a0-3f5a1e20388d",
   "metadata": {},
   "outputs": [],
   "source": [
    "import pandas as pd"
   ]
  },
  {
   "cell_type": "code",
   "execution_count": 64,
   "id": "14a425f8-069a-4082-b9e1-78a0b47b3f2a",
   "metadata": {},
   "outputs": [
    {
     "name": "stdout",
     "output_type": "stream",
     "text": [
      "   NumRooms Alley   Price\n",
      "0       NaN  Pave  127500\n",
      "1       2.0   NaN   10600\n",
      "2       4.0   NaN  178100\n",
      "3       NaN   NaN  140000\n"
     ]
    }
   ],
   "source": [
    "data = pd.read_csv(data_file)\n",
    "print(data)"
   ]
  },
  {
   "cell_type": "code",
   "execution_count": 65,
   "id": "023f2250-1bde-47fc-a0af-5845e433a7d1",
   "metadata": {},
   "outputs": [],
   "source": [
    "inputs, outputs = data.iloc[:, 0:2], data.iloc[:, 2]"
   ]
  },
  {
   "cell_type": "code",
   "execution_count": 66,
   "id": "118306ec-062b-4b74-a301-0d6a276eb6da",
   "metadata": {},
   "outputs": [
    {
     "data": {
      "text/plain": [
       "(   NumRooms Alley\n",
       " 0       NaN  Pave\n",
       " 1       2.0   NaN\n",
       " 2       4.0   NaN\n",
       " 3       NaN   NaN,\n",
       " 0    127500\n",
       " 1     10600\n",
       " 2    178100\n",
       " 3    140000\n",
       " Name: Price, dtype: int64)"
      ]
     },
     "execution_count": 66,
     "metadata": {},
     "output_type": "execute_result"
    }
   ],
   "source": [
    "inputs, outputs"
   ]
  },
  {
   "cell_type": "code",
   "execution_count": 67,
   "id": "5d3d938e-2ceb-4d38-bf63-3dbdacadceec",
   "metadata": {},
   "outputs": [
    {
     "data": {
      "text/html": [
       "<div>\n",
       "<style scoped>\n",
       "    .dataframe tbody tr th:only-of-type {\n",
       "        vertical-align: middle;\n",
       "    }\n",
       "\n",
       "    .dataframe tbody tr th {\n",
       "        vertical-align: top;\n",
       "    }\n",
       "\n",
       "    .dataframe thead th {\n",
       "        text-align: right;\n",
       "    }\n",
       "</style>\n",
       "<table border=\"1\" class=\"dataframe\">\n",
       "  <thead>\n",
       "    <tr style=\"text-align: right;\">\n",
       "      <th></th>\n",
       "      <th>NumRooms</th>\n",
       "      <th>Alley</th>\n",
       "    </tr>\n",
       "  </thead>\n",
       "  <tbody>\n",
       "    <tr>\n",
       "      <th>0</th>\n",
       "      <td>NaN</td>\n",
       "      <td>Pave</td>\n",
       "    </tr>\n",
       "    <tr>\n",
       "      <th>1</th>\n",
       "      <td>2.0</td>\n",
       "      <td>NaN</td>\n",
       "    </tr>\n",
       "    <tr>\n",
       "      <th>2</th>\n",
       "      <td>4.0</td>\n",
       "      <td>NaN</td>\n",
       "    </tr>\n",
       "    <tr>\n",
       "      <th>3</th>\n",
       "      <td>NaN</td>\n",
       "      <td>NaN</td>\n",
       "    </tr>\n",
       "  </tbody>\n",
       "</table>\n",
       "</div>"
      ],
      "text/plain": [
       "   NumRooms Alley\n",
       "0       NaN  Pave\n",
       "1       2.0   NaN\n",
       "2       4.0   NaN\n",
       "3       NaN   NaN"
      ]
     },
     "execution_count": 67,
     "metadata": {},
     "output_type": "execute_result"
    }
   ],
   "source": [
    "inputs"
   ]
  },
  {
   "cell_type": "code",
   "execution_count": 68,
   "id": "94e36453-e1db-4083-964a-dc9bd79ad8d5",
   "metadata": {},
   "outputs": [
    {
     "data": {
      "text/plain": [
       "0    127500\n",
       "1     10600\n",
       "2    178100\n",
       "3    140000\n",
       "Name: Price, dtype: int64"
      ]
     },
     "execution_count": 68,
     "metadata": {},
     "output_type": "execute_result"
    }
   ],
   "source": [
    "outputs"
   ]
  },
  {
   "cell_type": "code",
   "execution_count": 69,
   "id": "641d1294-1c8d-42c6-a138-5620a2faae6d",
   "metadata": {},
   "outputs": [],
   "source": [
    "inputs = inputs.fillna(inputs.mean(numeric_only=True))   #Average only for numeric columns "
   ]
  },
  {
   "cell_type": "code",
   "execution_count": 70,
   "id": "9634e9d5-8eaf-4341-b909-03e0e3c4c555",
   "metadata": {},
   "outputs": [
    {
     "name": "stdout",
     "output_type": "stream",
     "text": [
      "   NumRooms Alley\n",
      "0       3.0  Pave\n",
      "1       2.0   NaN\n",
      "2       4.0   NaN\n",
      "3       3.0   NaN\n"
     ]
    }
   ],
   "source": [
    "print(inputs)"
   ]
  },
  {
   "cell_type": "code",
   "execution_count": 71,
   "id": "71393e61-ec9a-45a6-bed8-c6fc046a3068",
   "metadata": {},
   "outputs": [],
   "source": [
    "import numpy as np"
   ]
  },
  {
   "cell_type": "code",
   "execution_count": 72,
   "id": "5158f96c-2c97-4293-97ef-edfb600f8d73",
   "metadata": {},
   "outputs": [
    {
     "name": "stdout",
     "output_type": "stream",
     "text": [
      "   NumRooms  Alley_Pave  Alley_nan\n",
      "0       3.0           1          0\n",
      "1       2.0           0          1\n",
      "2       4.0           0          1\n",
      "3       3.0           0          1\n"
     ]
    }
   ],
   "source": [
    "inputs = pd.get_dummies(inputs, dummy_na = True, dtype=int)\n",
    "print(inputs)"
   ]
  },
  {
   "cell_type": "code",
   "execution_count": 73,
   "id": "4a0ade91-a2ba-4ce9-8480-6b44bccf0c9b",
   "metadata": {},
   "outputs": [],
   "source": [
    "x = torch.tensor(inputs.to_numpy(dtype = float)) "
   ]
  },
  {
   "cell_type": "code",
   "execution_count": 74,
   "id": "26d44f5d-8dc9-443b-a7df-476bfbaaf932",
   "metadata": {},
   "outputs": [],
   "source": [
    "y = torch.tensor(outputs.to_numpy(dtype = float))"
   ]
  },
  {
   "cell_type": "code",
   "execution_count": 75,
   "id": "ee455543-0a89-4506-9fa7-9fa1920fa1ab",
   "metadata": {},
   "outputs": [
    {
     "data": {
      "text/plain": [
       "(tensor([[3., 1., 0.],\n",
       "         [2., 0., 1.],\n",
       "         [4., 0., 1.],\n",
       "         [3., 0., 1.]], dtype=torch.float64),\n",
       " tensor([127500.,  10600., 178100., 140000.], dtype=torch.float64))"
      ]
     },
     "execution_count": 75,
     "metadata": {},
     "output_type": "execute_result"
    }
   ],
   "source": [
    "x, y"
   ]
  },
  {
   "cell_type": "markdown",
   "id": "34a543e9-caf7-4899-9433-a3fabf06d37e",
   "metadata": {},
   "source": [
    "# Linear Algebra"
   ]
  },
  {
   "cell_type": "code",
   "execution_count": 76,
   "id": "1c172232-9264-4605-b940-c04d967355e0",
   "metadata": {},
   "outputs": [],
   "source": [
    "x = torch.tensor(3.0)"
   ]
  },
  {
   "cell_type": "code",
   "execution_count": 77,
   "id": "cd047cac-0056-4576-93ab-e6ef1717530e",
   "metadata": {},
   "outputs": [],
   "source": [
    "y = torch.tensor(2.0)"
   ]
  },
  {
   "cell_type": "code",
   "execution_count": 78,
   "id": "24b73213-9167-4eb3-9db8-6fb3a5cd452f",
   "metadata": {},
   "outputs": [
    {
     "data": {
      "text/plain": [
       "tensor(5.)"
      ]
     },
     "execution_count": 78,
     "metadata": {},
     "output_type": "execute_result"
    }
   ],
   "source": [
    "x + y"
   ]
  },
  {
   "cell_type": "code",
   "execution_count": 79,
   "id": "9f683d95-394d-43b7-ab6d-01e36720c4aa",
   "metadata": {},
   "outputs": [],
   "source": [
    "x = torch.arange(4)"
   ]
  },
  {
   "cell_type": "code",
   "execution_count": 80,
   "id": "7f4c17ce-c225-491e-91cd-7a4780d87877",
   "metadata": {},
   "outputs": [
    {
     "data": {
      "text/plain": [
       "tensor([0, 1, 2, 3])"
      ]
     },
     "execution_count": 80,
     "metadata": {},
     "output_type": "execute_result"
    }
   ],
   "source": [
    "x"
   ]
  },
  {
   "cell_type": "code",
   "execution_count": 81,
   "id": "34654853-5ff6-4644-a271-b76000fe0f3f",
   "metadata": {},
   "outputs": [
    {
     "data": {
      "text/plain": [
       "tensor(1)"
      ]
     },
     "execution_count": 81,
     "metadata": {},
     "output_type": "execute_result"
    }
   ],
   "source": [
    "x[1]"
   ]
  },
  {
   "cell_type": "code",
   "execution_count": 82,
   "id": "0ae4ba1d-e443-47e3-add6-e54b3d393d86",
   "metadata": {},
   "outputs": [
    {
     "data": {
      "text/plain": [
       "4"
      ]
     },
     "execution_count": 82,
     "metadata": {},
     "output_type": "execute_result"
    }
   ],
   "source": [
    "len(x)"
   ]
  },
  {
   "cell_type": "code",
   "execution_count": 86,
   "id": "0c950ead-87bd-4b90-b259-0924b5100dbc",
   "metadata": {},
   "outputs": [
    {
     "data": {
      "text/plain": [
       "torch.Size([4])"
      ]
     },
     "execution_count": 86,
     "metadata": {},
     "output_type": "execute_result"
    }
   ],
   "source": [
    "x.shape"
   ]
  },
  {
   "cell_type": "code",
   "execution_count": 87,
   "id": "7e456785",
   "metadata": {},
   "outputs": [],
   "source": [
    "A = torch.arange(20).reshape(5,4)"
   ]
  },
  {
   "cell_type": "code",
   "execution_count": 88,
   "id": "c5a73d11",
   "metadata": {},
   "outputs": [
    {
     "data": {
      "text/plain": [
       "tensor([[ 0,  1,  2,  3],\n",
       "        [ 4,  5,  6,  7],\n",
       "        [ 8,  9, 10, 11],\n",
       "        [12, 13, 14, 15],\n",
       "        [16, 17, 18, 19]])"
      ]
     },
     "execution_count": 88,
     "metadata": {},
     "output_type": "execute_result"
    }
   ],
   "source": [
    "A"
   ]
  },
  {
   "cell_type": "code",
   "execution_count": 89,
   "id": "7b6bf46e",
   "metadata": {},
   "outputs": [
    {
     "data": {
      "text/plain": [
       "tensor([[ 0,  4,  8, 12, 16],\n",
       "        [ 1,  5,  9, 13, 17],\n",
       "        [ 2,  6, 10, 14, 18],\n",
       "        [ 3,  7, 11, 15, 19]])"
      ]
     },
     "execution_count": 89,
     "metadata": {},
     "output_type": "execute_result"
    }
   ],
   "source": [
    "A.T"
   ]
  },
  {
   "cell_type": "code",
   "execution_count": 90,
   "id": "3efd1661",
   "metadata": {},
   "outputs": [],
   "source": [
    "X = torch.arange(24).reshape(2, 3, 4)"
   ]
  },
  {
   "cell_type": "code",
   "execution_count": 91,
   "id": "9ffb3b2f",
   "metadata": {},
   "outputs": [
    {
     "data": {
      "text/plain": [
       "tensor([[[ 0,  1,  2,  3],\n",
       "         [ 4,  5,  6,  7],\n",
       "         [ 8,  9, 10, 11]],\n",
       "\n",
       "        [[12, 13, 14, 15],\n",
       "         [16, 17, 18, 19],\n",
       "         [20, 21, 22, 23]]])"
      ]
     },
     "execution_count": 91,
     "metadata": {},
     "output_type": "execute_result"
    }
   ],
   "source": [
    "X"
   ]
  },
  {
   "cell_type": "code",
   "execution_count": 92,
   "id": "29b52920",
   "metadata": {},
   "outputs": [],
   "source": [
    "A = torch.arange(20, dtype=torch.float32).reshape(5, 4)"
   ]
  },
  {
   "cell_type": "code",
   "execution_count": 93,
   "id": "83a9bd7a",
   "metadata": {},
   "outputs": [
    {
     "data": {
      "text/plain": [
       "tensor([[ 0.,  1.,  2.,  3.],\n",
       "        [ 4.,  5.,  6.,  7.],\n",
       "        [ 8.,  9., 10., 11.],\n",
       "        [12., 13., 14., 15.],\n",
       "        [16., 17., 18., 19.]])"
      ]
     },
     "execution_count": 93,
     "metadata": {},
     "output_type": "execute_result"
    }
   ],
   "source": [
    "A"
   ]
  },
  {
   "cell_type": "code",
   "execution_count": 94,
   "id": "bb00d4ee",
   "metadata": {},
   "outputs": [],
   "source": [
    "B = A.clone()"
   ]
  },
  {
   "cell_type": "code",
   "execution_count": 95,
   "id": "a1db8799",
   "metadata": {},
   "outputs": [
    {
     "data": {
      "text/plain": [
       "tensor([[ 0.,  1.,  2.,  3.],\n",
       "        [ 4.,  5.,  6.,  7.],\n",
       "        [ 8.,  9., 10., 11.],\n",
       "        [12., 13., 14., 15.],\n",
       "        [16., 17., 18., 19.]])"
      ]
     },
     "execution_count": 95,
     "metadata": {},
     "output_type": "execute_result"
    }
   ],
   "source": [
    "B"
   ]
  },
  {
   "cell_type": "code",
   "execution_count": 96,
   "id": "d2e8b10c",
   "metadata": {},
   "outputs": [
    {
     "data": {
      "text/plain": [
       "tensor([[ 0.,  2.,  4.,  6.],\n",
       "        [ 8., 10., 12., 14.],\n",
       "        [16., 18., 20., 22.],\n",
       "        [24., 26., 28., 30.],\n",
       "        [32., 34., 36., 38.]])"
      ]
     },
     "execution_count": 96,
     "metadata": {},
     "output_type": "execute_result"
    }
   ],
   "source": [
    "A+B"
   ]
  },
  {
   "cell_type": "code",
   "execution_count": 97,
   "id": "3331eb84",
   "metadata": {},
   "outputs": [
    {
     "data": {
      "text/plain": [
       "tensor([[  0.,   1.,   4.,   9.],\n",
       "        [ 16.,  25.,  36.,  49.],\n",
       "        [ 64.,  81., 100., 121.],\n",
       "        [144., 169., 196., 225.],\n",
       "        [256., 289., 324., 361.]])"
      ]
     },
     "execution_count": 97,
     "metadata": {},
     "output_type": "execute_result"
    }
   ],
   "source": [
    "A*B"
   ]
  },
  {
   "cell_type": "code",
   "execution_count": 98,
   "id": "5db5538c",
   "metadata": {},
   "outputs": [],
   "source": [
    "a = 2"
   ]
  },
  {
   "cell_type": "code",
   "execution_count": 99,
   "id": "f31b9f20",
   "metadata": {},
   "outputs": [],
   "source": [
    "X = torch.arange(24).reshape(2, 3, 4)"
   ]
  },
  {
   "cell_type": "code",
   "execution_count": 164,
   "id": "c8ee260a",
   "metadata": {},
   "outputs": [
    {
     "data": {
      "text/plain": [
       "(tensor([[[ 0,  1,  2,  3],\n",
       "          [ 4,  5,  6,  7],\n",
       "          [ 8,  9, 10, 11]],\n",
       " \n",
       "         [[12, 13, 14, 15],\n",
       "          [16, 17, 18, 19],\n",
       "          [20, 21, 22, 23]]]),\n",
       " 2)"
      ]
     },
     "execution_count": 164,
     "metadata": {},
     "output_type": "execute_result"
    }
   ],
   "source": [
    "X, len(X)"
   ]
  },
  {
   "cell_type": "code",
   "execution_count": 101,
   "id": "0b3b744e",
   "metadata": {},
   "outputs": [
    {
     "data": {
      "text/plain": [
       "tensor([[[ 0,  2,  4,  6],\n",
       "         [ 8, 10, 12, 14],\n",
       "         [16, 18, 20, 22]],\n",
       "\n",
       "        [[24, 26, 28, 30],\n",
       "         [32, 34, 36, 38],\n",
       "         [40, 42, 44, 46]]])"
      ]
     },
     "execution_count": 101,
     "metadata": {},
     "output_type": "execute_result"
    }
   ],
   "source": [
    "2*X"
   ]
  },
  {
   "cell_type": "code",
   "execution_count": 102,
   "id": "66f28370",
   "metadata": {},
   "outputs": [
    {
     "data": {
      "text/plain": [
       "tensor([[[ 2,  3,  4,  5],\n",
       "         [ 6,  7,  8,  9],\n",
       "         [10, 11, 12, 13]],\n",
       "\n",
       "        [[14, 15, 16, 17],\n",
       "         [18, 19, 20, 21],\n",
       "         [22, 23, 24, 25]]])"
      ]
     },
     "execution_count": 102,
     "metadata": {},
     "output_type": "execute_result"
    }
   ],
   "source": [
    "2+X"
   ]
  },
  {
   "cell_type": "code",
   "execution_count": 103,
   "id": "961d4fff",
   "metadata": {},
   "outputs": [],
   "source": [
    "x = torch.arange(4, dtype = torch.float32)"
   ]
  },
  {
   "cell_type": "code",
   "execution_count": 104,
   "id": "bcf7eec1",
   "metadata": {},
   "outputs": [
    {
     "data": {
      "text/plain": [
       "(tensor([0., 1., 2., 3.]), tensor(6.))"
      ]
     },
     "execution_count": 104,
     "metadata": {},
     "output_type": "execute_result"
    }
   ],
   "source": [
    "x, x.sum()"
   ]
  },
  {
   "cell_type": "code",
   "execution_count": 105,
   "id": "8586608a",
   "metadata": {},
   "outputs": [
    {
     "data": {
      "text/plain": [
       "tensor([[ 0.,  1.,  2.,  3.],\n",
       "        [ 4.,  5.,  6.,  7.],\n",
       "        [ 8.,  9., 10., 11.],\n",
       "        [12., 13., 14., 15.],\n",
       "        [16., 17., 18., 19.]])"
      ]
     },
     "execution_count": 105,
     "metadata": {},
     "output_type": "execute_result"
    }
   ],
   "source": [
    "A"
   ]
  },
  {
   "cell_type": "code",
   "execution_count": 106,
   "id": "c2f0abf1",
   "metadata": {},
   "outputs": [],
   "source": [
    "A_sum_axis0 = A.sum(axis = 0)"
   ]
  },
  {
   "cell_type": "code",
   "execution_count": 107,
   "id": "f29dc001",
   "metadata": {},
   "outputs": [
    {
     "data": {
      "text/plain": [
       "tensor([40., 45., 50., 55.])"
      ]
     },
     "execution_count": 107,
     "metadata": {},
     "output_type": "execute_result"
    }
   ],
   "source": [
    "A_sum_axis0"
   ]
  },
  {
   "cell_type": "code",
   "execution_count": 109,
   "id": "0c0079ca",
   "metadata": {},
   "outputs": [
    {
     "data": {
      "text/plain": [
       "torch.Size([4])"
      ]
     },
     "execution_count": 109,
     "metadata": {},
     "output_type": "execute_result"
    }
   ],
   "source": [
    "A_sum_axis0.shape"
   ]
  },
  {
   "cell_type": "code",
   "execution_count": 110,
   "id": "b6aa512a",
   "metadata": {},
   "outputs": [],
   "source": [
    "A_sum_axis1 = A.sum(axis = 1)"
   ]
  },
  {
   "cell_type": "code",
   "execution_count": 111,
   "id": "54345956",
   "metadata": {},
   "outputs": [
    {
     "data": {
      "text/plain": [
       "tensor([ 6., 22., 38., 54., 70.])"
      ]
     },
     "execution_count": 111,
     "metadata": {},
     "output_type": "execute_result"
    }
   ],
   "source": [
    "A_sum_axis1"
   ]
  },
  {
   "cell_type": "code",
   "execution_count": 112,
   "id": "70555b4a",
   "metadata": {},
   "outputs": [
    {
     "data": {
      "text/plain": [
       "torch.Size([5])"
      ]
     },
     "execution_count": 112,
     "metadata": {},
     "output_type": "execute_result"
    }
   ],
   "source": [
    "A_sum_axis1.shape"
   ]
  },
  {
   "cell_type": "code",
   "execution_count": 113,
   "id": "54e3fa10",
   "metadata": {},
   "outputs": [
    {
     "data": {
      "text/plain": [
       "tensor(190.)"
      ]
     },
     "execution_count": 113,
     "metadata": {},
     "output_type": "execute_result"
    }
   ],
   "source": [
    "A.sum(axis=[0,1])"
   ]
  },
  {
   "cell_type": "code",
   "execution_count": 114,
   "id": "368ee230",
   "metadata": {},
   "outputs": [
    {
     "data": {
      "text/plain": [
       "tensor(190.)"
      ]
     },
     "execution_count": 114,
     "metadata": {},
     "output_type": "execute_result"
    }
   ],
   "source": [
    "A.sum()"
   ]
  },
  {
   "cell_type": "code",
   "execution_count": 115,
   "id": "e138c4e8",
   "metadata": {},
   "outputs": [
    {
     "data": {
      "text/plain": [
       "(tensor(9.5000), tensor(9.5000))"
      ]
     },
     "execution_count": 115,
     "metadata": {},
     "output_type": "execute_result"
    }
   ],
   "source": [
    "A.mean(), A.sum() / A.numel()"
   ]
  },
  {
   "cell_type": "code",
   "execution_count": 133,
   "id": "b36b3291",
   "metadata": {},
   "outputs": [
    {
     "data": {
      "text/plain": [
       "tensor([ 8.,  9., 10., 11.])"
      ]
     },
     "execution_count": 133,
     "metadata": {},
     "output_type": "execute_result"
    }
   ],
   "source": [
    "A.mean(axis = 0)"
   ]
  },
  {
   "cell_type": "code",
   "execution_count": 137,
   "id": "2c0d5a00",
   "metadata": {},
   "outputs": [
    {
     "data": {
      "text/plain": [
       "(tensor([[ 0.,  1.,  2.,  3.],\n",
       "         [ 4.,  5.,  6.,  7.],\n",
       "         [ 8.,  9., 10., 11.],\n",
       "         [12., 13., 14., 15.],\n",
       "         [16., 17., 18., 19.]]),\n",
       " torch.Size([5, 4]))"
      ]
     },
     "execution_count": 137,
     "metadata": {},
     "output_type": "execute_result"
    }
   ],
   "source": [
    "A, A.shape"
   ]
  },
  {
   "cell_type": "code",
   "execution_count": 131,
   "id": "d2685970",
   "metadata": {},
   "outputs": [
    {
     "data": {
      "text/plain": [
       "(tensor([[ 6.],\n",
       "         [22.],\n",
       "         [38.],\n",
       "         [54.],\n",
       "         [70.]]),\n",
       " torch.Size([5, 1]))"
      ]
     },
     "execution_count": 131,
     "metadata": {},
     "output_type": "execute_result"
    }
   ],
   "source": [
    "sum_A = A.sum(axis=1, keepdims = True)\n",
    "sum_A, sum_A.shape"
   ]
  },
  {
   "cell_type": "code",
   "execution_count": 140,
   "id": "2775b1e3",
   "metadata": {},
   "outputs": [
    {
     "data": {
      "text/plain": [
       "(tensor([[40., 45., 50., 55.]]), torch.Size([1, 4]))"
      ]
     },
     "execution_count": 140,
     "metadata": {},
     "output_type": "execute_result"
    }
   ],
   "source": [
    "sum_A = A.sum(axis=0, keepdims = True)\n",
    "sum_A, sum_A.shape"
   ]
  },
  {
   "cell_type": "code",
   "execution_count": 132,
   "id": "fec83353",
   "metadata": {},
   "outputs": [
    {
     "data": {
      "text/plain": [
       "(tensor([ 6., 22., 38., 54., 70.]), torch.Size([5]))"
      ]
     },
     "execution_count": 132,
     "metadata": {},
     "output_type": "execute_result"
    }
   ],
   "source": [
    "sum_A1 = A.sum(axis = 1)\n",
    "sum_A1, sum_A1.shape"
   ]
  },
  {
   "cell_type": "code",
   "execution_count": 135,
   "id": "f0d0f576",
   "metadata": {},
   "outputs": [
    {
     "data": {
      "text/plain": [
       "tensor([[0.0000, 0.1667, 0.3333, 0.5000],\n",
       "        [0.1818, 0.2273, 0.2727, 0.3182],\n",
       "        [0.2105, 0.2368, 0.2632, 0.2895],\n",
       "        [0.2222, 0.2407, 0.2593, 0.2778],\n",
       "        [0.2286, 0.2429, 0.2571, 0.2714]])"
      ]
     },
     "execution_count": 135,
     "metadata": {},
     "output_type": "execute_result"
    }
   ],
   "source": [
    "A / sum_A"
   ]
  },
  {
   "cell_type": "code",
   "execution_count": 136,
   "id": "090eb32f",
   "metadata": {},
   "outputs": [
    {
     "ename": "RuntimeError",
     "evalue": "The size of tensor a (4) must match the size of tensor b (5) at non-singleton dimension 1",
     "output_type": "error",
     "traceback": [
      "\u001b[1;31m---------------------------------------------------------------------------\u001b[0m",
      "\u001b[1;31mRuntimeError\u001b[0m                              Traceback (most recent call last)",
      "Cell \u001b[1;32mIn[136], line 1\u001b[0m\n\u001b[1;32m----> 1\u001b[0m \u001b[43mA\u001b[49m\u001b[43m \u001b[49m\u001b[38;5;241;43m/\u001b[39;49m\u001b[43m \u001b[49m\u001b[43msum_A1\u001b[49m\n",
      "\u001b[1;31mRuntimeError\u001b[0m: The size of tensor a (4) must match the size of tensor b (5) at non-singleton dimension 1"
     ]
    }
   ],
   "source": [
    "A / sum_A1"
   ]
  },
  {
   "cell_type": "code",
   "execution_count": 138,
   "id": "cb836286",
   "metadata": {},
   "outputs": [
    {
     "data": {
      "text/plain": [
       "5"
      ]
     },
     "execution_count": 138,
     "metadata": {},
     "output_type": "execute_result"
    }
   ],
   "source": [
    "len(sum_A)"
   ]
  },
  {
   "cell_type": "code",
   "execution_count": 139,
   "id": "7b2ef8a6",
   "metadata": {},
   "outputs": [
    {
     "data": {
      "text/plain": [
       "5"
      ]
     },
     "execution_count": 139,
     "metadata": {},
     "output_type": "execute_result"
    }
   ],
   "source": [
    "len(sum_A1)"
   ]
  },
  {
   "cell_type": "code",
   "execution_count": 141,
   "id": "7013f45e",
   "metadata": {},
   "outputs": [
    {
     "data": {
      "text/plain": [
       "tensor([[ 0.,  1.,  2.,  3.],\n",
       "        [ 4.,  6.,  8., 10.],\n",
       "        [12., 15., 18., 21.],\n",
       "        [24., 28., 32., 36.],\n",
       "        [40., 45., 50., 55.]])"
      ]
     },
     "execution_count": 141,
     "metadata": {},
     "output_type": "execute_result"
    }
   ],
   "source": [
    "A.cumsum(axis = 0)"
   ]
  },
  {
   "cell_type": "code",
   "execution_count": 142,
   "id": "57a3ca29",
   "metadata": {},
   "outputs": [
    {
     "data": {
      "text/plain": [
       "tensor([[ 0.,  1.,  2.,  3.],\n",
       "        [ 4.,  5.,  6.,  7.],\n",
       "        [ 8.,  9., 10., 11.],\n",
       "        [12., 13., 14., 15.],\n",
       "        [16., 17., 18., 19.]])"
      ]
     },
     "execution_count": 142,
     "metadata": {},
     "output_type": "execute_result"
    }
   ],
   "source": [
    "A"
   ]
  },
  {
   "cell_type": "code",
   "execution_count": 143,
   "id": "095e581f",
   "metadata": {},
   "outputs": [],
   "source": [
    "y = torch.ones(4, dtype = torch.float32)"
   ]
  },
  {
   "cell_type": "code",
   "execution_count": 144,
   "id": "5ca7e36a",
   "metadata": {},
   "outputs": [
    {
     "data": {
      "text/plain": [
       "tensor([1., 1., 1., 1.])"
      ]
     },
     "execution_count": 144,
     "metadata": {},
     "output_type": "execute_result"
    }
   ],
   "source": [
    "y"
   ]
  },
  {
   "cell_type": "code",
   "execution_count": 145,
   "id": "80292e1b",
   "metadata": {},
   "outputs": [
    {
     "data": {
      "text/plain": [
       "(tensor([0., 1., 2., 3.]), tensor([1., 1., 1., 1.]), tensor(6.))"
      ]
     },
     "execution_count": 145,
     "metadata": {},
     "output_type": "execute_result"
    }
   ],
   "source": [
    "x, y, torch.dot(x, y)"
   ]
  },
  {
   "cell_type": "code",
   "execution_count": 146,
   "id": "b48ef9d2",
   "metadata": {},
   "outputs": [
    {
     "data": {
      "text/plain": [
       "tensor([0., 1., 2., 3.])"
      ]
     },
     "execution_count": 146,
     "metadata": {},
     "output_type": "execute_result"
    }
   ],
   "source": [
    "x"
   ]
  },
  {
   "cell_type": "code",
   "execution_count": 147,
   "id": "9620eead",
   "metadata": {},
   "outputs": [
    {
     "data": {
      "text/plain": [
       "(torch.Size([5, 4]), torch.Size([4]), tensor([ 14.,  38.,  62.,  86., 110.]))"
      ]
     },
     "execution_count": 147,
     "metadata": {},
     "output_type": "execute_result"
    }
   ],
   "source": [
    "A.shape, x.shape, torch.mv(A, x)"
   ]
  },
  {
   "cell_type": "code",
   "execution_count": 148,
   "id": "944a47c5",
   "metadata": {},
   "outputs": [
    {
     "data": {
      "text/plain": [
       "tensor([[ 0.,  1.,  2.,  3.],\n",
       "        [ 4.,  5.,  6.,  7.],\n",
       "        [ 8.,  9., 10., 11.],\n",
       "        [12., 13., 14., 15.],\n",
       "        [16., 17., 18., 19.]])"
      ]
     },
     "execution_count": 148,
     "metadata": {},
     "output_type": "execute_result"
    }
   ],
   "source": [
    "A"
   ]
  },
  {
   "cell_type": "code",
   "execution_count": 150,
   "id": "05c2fff5",
   "metadata": {},
   "outputs": [
    {
     "data": {
      "text/plain": [
       "tensor([0., 1., 2., 3.])"
      ]
     },
     "execution_count": 150,
     "metadata": {},
     "output_type": "execute_result"
    }
   ],
   "source": [
    "x"
   ]
  },
  {
   "cell_type": "code",
   "execution_count": 151,
   "id": "2a05442f",
   "metadata": {},
   "outputs": [],
   "source": [
    "B = torch.ones(4, 3)"
   ]
  },
  {
   "cell_type": "code",
   "execution_count": 152,
   "id": "290ea642",
   "metadata": {},
   "outputs": [
    {
     "data": {
      "text/plain": [
       "tensor([[1., 1., 1.],\n",
       "        [1., 1., 1.],\n",
       "        [1., 1., 1.],\n",
       "        [1., 1., 1.]])"
      ]
     },
     "execution_count": 152,
     "metadata": {},
     "output_type": "execute_result"
    }
   ],
   "source": [
    "B"
   ]
  },
  {
   "cell_type": "code",
   "execution_count": 153,
   "id": "e228097c",
   "metadata": {},
   "outputs": [
    {
     "data": {
      "text/plain": [
       "tensor([[ 6.,  6.,  6.],\n",
       "        [22., 22., 22.],\n",
       "        [38., 38., 38.],\n",
       "        [54., 54., 54.],\n",
       "        [70., 70., 70.]])"
      ]
     },
     "execution_count": 153,
     "metadata": {},
     "output_type": "execute_result"
    }
   ],
   "source": [
    "torch.mm(A, B)"
   ]
  },
  {
   "cell_type": "code",
   "execution_count": 154,
   "id": "494d77f4",
   "metadata": {},
   "outputs": [],
   "source": [
    "u = torch.tensor([3.0, -4.0])"
   ]
  },
  {
   "cell_type": "code",
   "execution_count": 155,
   "id": "1d3a3f32",
   "metadata": {},
   "outputs": [
    {
     "data": {
      "text/plain": [
       "tensor([ 3., -4.])"
      ]
     },
     "execution_count": 155,
     "metadata": {},
     "output_type": "execute_result"
    }
   ],
   "source": [
    "u"
   ]
  },
  {
   "cell_type": "code",
   "execution_count": 156,
   "id": "3b712dc9",
   "metadata": {},
   "outputs": [
    {
     "data": {
      "text/plain": [
       "tensor(5.)"
      ]
     },
     "execution_count": 156,
     "metadata": {},
     "output_type": "execute_result"
    }
   ],
   "source": [
    "torch.norm(u)"
   ]
  },
  {
   "cell_type": "code",
   "execution_count": 158,
   "id": "6e13cda1",
   "metadata": {},
   "outputs": [
    {
     "data": {
      "text/plain": [
       "tensor(7.)"
      ]
     },
     "execution_count": 158,
     "metadata": {},
     "output_type": "execute_result"
    }
   ],
   "source": [
    "torch.abs(u).sum()"
   ]
  },
  {
   "cell_type": "code",
   "execution_count": 159,
   "id": "f14b44d4",
   "metadata": {},
   "outputs": [
    {
     "data": {
      "text/plain": [
       "tensor(6.)"
      ]
     },
     "execution_count": 159,
     "metadata": {},
     "output_type": "execute_result"
    }
   ],
   "source": [
    "torch.norm(torch.ones((4, 9)))"
   ]
  },
  {
   "cell_type": "code",
   "execution_count": 160,
   "id": "75eff560",
   "metadata": {},
   "outputs": [
    {
     "data": {
      "text/plain": [
       "tensor([[1., 1., 1., 1., 1., 1., 1., 1., 1.],\n",
       "        [1., 1., 1., 1., 1., 1., 1., 1., 1.],\n",
       "        [1., 1., 1., 1., 1., 1., 1., 1., 1.],\n",
       "        [1., 1., 1., 1., 1., 1., 1., 1., 1.]])"
      ]
     },
     "execution_count": 160,
     "metadata": {},
     "output_type": "execute_result"
    }
   ],
   "source": [
    "torch.ones((4, 9))"
   ]
  },
  {
   "cell_type": "code",
   "execution_count": 169,
   "id": "50ae6d58",
   "metadata": {},
   "outputs": [],
   "source": [
    "L = torch.ones(2,3,4)"
   ]
  },
  {
   "cell_type": "code",
   "execution_count": 163,
   "id": "c28d9ba6",
   "metadata": {},
   "outputs": [
    {
     "data": {
      "text/plain": [
       "2"
      ]
     },
     "execution_count": 163,
     "metadata": {},
     "output_type": "execute_result"
    }
   ],
   "source": [
    "len(torch.ones(2,3,4))"
   ]
  },
  {
   "cell_type": "code",
   "execution_count": 167,
   "id": "c5f0e849",
   "metadata": {},
   "outputs": [
    {
     "data": {
      "text/plain": [
       "tensor([[0.0000, 0.1667, 0.3333, 0.5000],\n",
       "        [0.1818, 0.2273, 0.2727, 0.3182],\n",
       "        [0.2105, 0.2368, 0.2632, 0.2895],\n",
       "        [0.2222, 0.2407, 0.2593, 0.2778],\n",
       "        [0.2286, 0.2429, 0.2571, 0.2714]])"
      ]
     },
     "execution_count": 167,
     "metadata": {},
     "output_type": "execute_result"
    }
   ],
   "source": [
    "A / A.sum(axis = 1, keepdims = True)"
   ]
  },
  {
   "cell_type": "code",
   "execution_count": 168,
   "id": "03343fbb",
   "metadata": {},
   "outputs": [
    {
     "data": {
      "text/plain": [
       "tensor([[ 0.,  1.,  2.,  3.],\n",
       "        [ 4.,  5.,  6.,  7.],\n",
       "        [ 8.,  9., 10., 11.],\n",
       "        [12., 13., 14., 15.],\n",
       "        [16., 17., 18., 19.]])"
      ]
     },
     "execution_count": 168,
     "metadata": {},
     "output_type": "execute_result"
    }
   ],
   "source": [
    "A"
   ]
  },
  {
   "cell_type": "code",
   "execution_count": 170,
   "id": "2404261a",
   "metadata": {},
   "outputs": [
    {
     "data": {
      "text/plain": [
       "tensor([[[1., 1., 1., 1.],\n",
       "         [1., 1., 1., 1.],\n",
       "         [1., 1., 1., 1.]],\n",
       "\n",
       "        [[1., 1., 1., 1.],\n",
       "         [1., 1., 1., 1.],\n",
       "         [1., 1., 1., 1.]]])"
      ]
     },
     "execution_count": 170,
     "metadata": {},
     "output_type": "execute_result"
    }
   ],
   "source": [
    "L"
   ]
  },
  {
   "cell_type": "code",
   "execution_count": 171,
   "id": "a8f3df17",
   "metadata": {},
   "outputs": [
    {
     "data": {
      "text/plain": [
       "tensor([[2., 2., 2., 2.],\n",
       "        [2., 2., 2., 2.],\n",
       "        [2., 2., 2., 2.]])"
      ]
     },
     "execution_count": 171,
     "metadata": {},
     "output_type": "execute_result"
    }
   ],
   "source": [
    "L.sum(axis = 0)"
   ]
  },
  {
   "cell_type": "code",
   "execution_count": 172,
   "id": "a440ec75",
   "metadata": {},
   "outputs": [
    {
     "data": {
      "text/plain": [
       "tensor([[3., 3., 3., 3.],\n",
       "        [3., 3., 3., 3.]])"
      ]
     },
     "execution_count": 172,
     "metadata": {},
     "output_type": "execute_result"
    }
   ],
   "source": [
    "L.sum(axis = 1)"
   ]
  },
  {
   "cell_type": "code",
   "execution_count": 173,
   "id": "c90771c8",
   "metadata": {},
   "outputs": [
    {
     "data": {
      "text/plain": [
       "tensor([[4., 4., 4.],\n",
       "        [4., 4., 4.]])"
      ]
     },
     "execution_count": 173,
     "metadata": {},
     "output_type": "execute_result"
    }
   ],
   "source": [
    "L.sum(axis = 2)"
   ]
  },
  {
   "cell_type": "code",
   "execution_count": 174,
   "id": "b19e36cc",
   "metadata": {},
   "outputs": [
    {
     "data": {
      "text/plain": [
       "tensor([[ 0.,  1.,  2.,  3.],\n",
       "        [ 4.,  5.,  6.,  7.],\n",
       "        [ 8.,  9., 10., 11.],\n",
       "        [12., 13., 14., 15.],\n",
       "        [16., 17., 18., 19.]])"
      ]
     },
     "execution_count": 174,
     "metadata": {},
     "output_type": "execute_result"
    }
   ],
   "source": [
    "A"
   ]
  },
  {
   "cell_type": "code",
   "execution_count": 179,
   "id": "bdbcc3aa",
   "metadata": {},
   "outputs": [
    {
     "data": {
      "text/plain": [
       "tensor(3.4641)"
      ]
     },
     "execution_count": 179,
     "metadata": {},
     "output_type": "execute_result"
    }
   ],
   "source": [
    "torch.linalg.norm(torch.ones(3,4))"
   ]
  },
  {
   "cell_type": "markdown",
   "id": "4778ad4a",
   "metadata": {},
   "source": [
    "# Calculus"
   ]
  },
  {
   "cell_type": "code",
   "execution_count": 210,
   "id": "bd3ffd22",
   "metadata": {},
   "outputs": [],
   "source": [
    "%matplotlib inline\n",
    "import numpy as np\n",
    "from matplotlib_inline import backend_inline\n",
    "from d2l import torch as d2l\n",
    "\n",
    "def f(x):\n",
    "    return 3 * x ** 2 - 4 * x"
   ]
  },
  {
   "cell_type": "code",
   "execution_count": 211,
   "id": "d8bc55a3",
   "metadata": {},
   "outputs": [
    {
     "name": "stdout",
     "output_type": "stream",
     "text": [
      "h = 0.10000, numerical limit = 2.30000\n",
      "h = 0.01000, numerical limit = 2.03000\n",
      "h = 0.00100, numerical limit = 2.00300\n",
      "h = 0.00010, numerical limit = 2.00030\n",
      "h = 0.00001, numerical limit = 2.00003\n"
     ]
    }
   ],
   "source": [
    "def numerical_lim(f, x, h):\n",
    "    return (f(x + h) - f(x)) / h\n",
    "\n",
    "h = 0.1\n",
    "for i in range(5):\n",
    "    print(f'h = {h:.5f}, numerical limit = {numerical_lim(f, 1, h):.5f}')\n",
    "    h *= 0.1"
   ]
  },
  {
   "cell_type": "code",
   "execution_count": 219,
   "id": "eb6f48c3",
   "metadata": {},
   "outputs": [],
   "source": [
    "def use_svg_display():  #@save\n",
    "    \"\"\"Display the figure in SVG format in Jupyter\"\"\"\n",
    "    backend_inline.set_matplotlib_formats('svg')"
   ]
  },
  {
   "cell_type": "markdown",
   "id": "e2e0f4a4",
   "metadata": {},
   "source": [
    "* matplotlib_inline 不是一个独立的第三方库，而是 Jupyter 生态中自带的“内嵌后端”插件，主要作用是在 Jupyter Notebook / Lab 里把 Matplotlib 的图形直接嵌到输出单元格中，而不是弹出一个新窗口"
   ]
  },
  {
   "cell_type": "code",
   "execution_count": 213,
   "id": "86df938c",
   "metadata": {},
   "outputs": [],
   "source": [
    "def set_figsize(figsize = (3.5, 2.5)):  #@save\n",
    "    \"\"\"Set the size of the Matplotlib figure\"\"\"\n",
    "    use_svg_display()          #let the figure be displayed in SVG format\n",
    "    d2l.plt.rcParams['figure.figsize'] = figsize #set the default figure size "
   ]
  },
  {
   "cell_type": "code",
   "execution_count": 214,
   "id": "38004fa4",
   "metadata": {},
   "outputs": [],
   "source": [
    "#@save\n",
    "def set_axes(axes, xlabel, ylabel, xlim, ylim, xscale, yscale, legend):\n",
    "    \"\"\"Set the axes for the matplotlib figure\"\"\"\n",
    "    axes.set_xlabel(xlabel)\n",
    "    axes.set_ylabel(ylabel)\n",
    "    axes.set_xscale(xscale)\n",
    "    axes.set_yscale(yscale)\n",
    "    axes.set_xlim(xlim)\n",
    "    axes.set_ylim(ylim)\n",
    "    if legend:\n",
    "        axes.legend(legend)\n",
    "    axes.grid()"
   ]
  },
  {
   "cell_type": "markdown",
   "id": "4c6ce298",
   "metadata": {},
   "source": [
    "| 形参       | 说明             | 示例值                  |\n",
    "| -------- | -------------- | -------------------- |\n",
    "| `axes`   | 已存在的 `Axes` 对象 | `ax = plt.subplot()` |\n",
    "| `xlabel` | x 轴标签文字        | `'Time (s)'`         |\n",
    "| `ylabel` | y 轴标签文字        | `'Loss'`             |\n",
    "| `xlim`   | x 轴范围          | `[0, 10]`            |\n",
    "| `ylim`   | y 轴范围          | `[0, 1]`             |\n",
    "| `xscale` | x 轴缩放          | `'linear'` 或 `'log'` |\n",
    "| `yscale` | y 轴缩放          | `'linear'` 或 `'log'` |\n",
    "| `legend` | 图例列表/None      | `['train', 'val']`   |"
   ]
  },
  {
   "cell_type": "code",
   "execution_count": 220,
   "id": "27e5f0f3",
   "metadata": {},
   "outputs": [],
   "source": [
    "#@save\n",
    "def plot(X, Y = None, xlabel = None, ylabel = None, legend = None, xlim = None,\n",
    "        ylim = None, xscale = 'linear', yscale = 'linear',\n",
    "        fmts = ('-', 'm--', 'g-', 'r:'), figsize = (3.5, 2.5), axes = None):\n",
    "    \"\"\"plot the data point\"\"\"\n",
    "    if legend is None:\n",
    "        legend = []\n",
    "        \n",
    "    set_figsize(figsize)\n",
    "    axes = axes if axes else d2l.plt.gca()\n",
    "    \n",
    "    \n",
    "    def has_one_axis(X):\n",
    "        \"\"\"if x has only one axis, output 'true'\"\"\"\n",
    "        return (\n",
    "            hasattr(X, \"ndim\") and X.ndim == 1 \n",
    "            or \n",
    "            isinstance(X, list) and not hasattr(X[0], \"__len__\")\n",
    "        )\n",
    "    \n",
    "    if has_one_axis(X):\n",
    "        X = [X]\n",
    "    if Y is None:\n",
    "        X, Y = [[]] * len(X), X\n",
    "    elif has_one_axis(Y):\n",
    "        Y = [Y]\n",
    "    if len(X) != len(Y):\n",
    "        X = X * len(Y)\n",
    "    axes.cla()\n",
    "    for x, y, fmt in zip(X, Y, fmts):\n",
    "        if len(x):\n",
    "            axes.plot(x, y, fmt)\n",
    "        else:\n",
    "            axes.plot(y, fmt)\n",
    "    set_axes(axes, xlabel, ylabel, xlim, ylim, xscale, yscale, legend)"
   ]
  },
  {
   "cell_type": "markdown",
   "id": "e8b6478e",
   "metadata": {},
   "source": [
    "| 参数              | 说明                                        |\n",
    "| --------------- | ----------------------------------------- |\n",
    "| `X`             | 横坐标；可 1-D 列表/数组，也可“多条曲线”的列表               |\n",
    "| `Y`             | 纵坐标；规则同上；`None` 时把 `X` 当作纵坐标，横坐标自动 0,1,2… |\n",
    "| `xlabel/ylabel` | 坐标轴标签                                     |\n",
    "| `legend`        | 图例文字列表                                    |\n",
    "| `xlim/ylim`     | 坐标轴范围                                     |\n",
    "| `xscale/yscale` | 坐标轴缩放（'linear' 或 'log'）                   |\n",
    "| `fmts`          | 每条曲线的线型/颜色循环                              |\n",
    "| `figsize`       | 画布大小                                      |\n",
    "| `axes`          | 传入已有的 `Axes`；缺省时自动获取当前轴                   |\n"
   ]
  },
  {
   "cell_type": "code",
   "execution_count": 218,
   "id": "24f43610",
   "metadata": {},
   "outputs": [
    {
     "data": {
      "image/svg+xml": [
       "<?xml version=\"1.0\" encoding=\"utf-8\" standalone=\"no\"?>\n",
       "<!DOCTYPE svg PUBLIC \"-//W3C//DTD SVG 1.1//EN\"\n",
       "  \"http://www.w3.org/Graphics/SVG/1.1/DTD/svg11.dtd\">\n",
       "<svg xmlns:xlink=\"http://www.w3.org/1999/xlink\" width=\"243.529359pt\" height=\"183.35625pt\" viewBox=\"0 0 243.529359 183.35625\" xmlns=\"http://www.w3.org/2000/svg\" version=\"1.1\">\n",
       " <metadata>\n",
       "  <rdf:RDF xmlns:dc=\"http://purl.org/dc/elements/1.1/\" xmlns:cc=\"http://creativecommons.org/ns#\" xmlns:rdf=\"http://www.w3.org/1999/02/22-rdf-syntax-ns#\">\n",
       "   <cc:Work>\n",
       "    <dc:type rdf:resource=\"http://purl.org/dc/dcmitype/StillImage\"/>\n",
       "    <dc:date>2025-07-11T15:14:31.704833</dc:date>\n",
       "    <dc:format>image/svg+xml</dc:format>\n",
       "    <dc:creator>\n",
       "     <cc:Agent>\n",
       "      <dc:title>Matplotlib v3.5.1, https://matplotlib.org/</dc:title>\n",
       "     </cc:Agent>\n",
       "    </dc:creator>\n",
       "   </cc:Work>\n",
       "  </rdf:RDF>\n",
       " </metadata>\n",
       " <defs>\n",
       "  <style type=\"text/css\">*{stroke-linejoin: round; stroke-linecap: butt}</style>\n",
       " </defs>\n",
       " <g id=\"figure_1\">\n",
       "  <g id=\"patch_1\">\n",
       "   <path d=\"M 0 183.35625 \n",
       "L 243.529359 183.35625 \n",
       "L 243.529359 0 \n",
       "L 0 0 \n",
       "z\n",
       "\" style=\"fill: #ffffff\"/>\n",
       "  </g>\n",
       "  <g id=\"axes_1\">\n",
       "   <g id=\"patch_2\">\n",
       "    <path d=\"M 40.603125 145.8 \n",
       "L 235.903125 145.8 \n",
       "L 235.903125 7.2 \n",
       "L 40.603125 7.2 \n",
       "z\n",
       "\" style=\"fill: #ffffff\"/>\n",
       "   </g>\n",
       "   <g id=\"matplotlib.axis_1\">\n",
       "    <g id=\"xtick_1\">\n",
       "     <g id=\"line2d_1\">\n",
       "      <path d=\"M 49.480398 145.8 \n",
       "L 49.480398 7.2 \n",
       "\" clip-path=\"url(#pf71900a3e5)\" style=\"fill: none; stroke: #b0b0b0; stroke-width: 0.8; stroke-linecap: square\"/>\n",
       "     </g>\n",
       "     <g id=\"line2d_2\">\n",
       "      <defs>\n",
       "       <path id=\"m7366a94c4c\" d=\"M 0 0 \n",
       "L 0 3.5 \n",
       "\" style=\"stroke: #000000; stroke-width: 0.8\"/>\n",
       "      </defs>\n",
       "      <g>\n",
       "       <use xlink:href=\"#m7366a94c4c\" x=\"49.480398\" y=\"145.8\" style=\"stroke: #000000; stroke-width: 0.8\"/>\n",
       "      </g>\n",
       "     </g>\n",
       "     <g id=\"text_1\">\n",
       "      <!-- 0 -->\n",
       "      <g transform=\"translate(46.299148 160.398438)scale(0.1 -0.1)\">\n",
       "       <defs>\n",
       "        <path id=\"DejaVuSans-30\" d=\"M 2034 4250 \n",
       "Q 1547 4250 1301 3770 \n",
       "Q 1056 3291 1056 2328 \n",
       "Q 1056 1369 1301 889 \n",
       "Q 1547 409 2034 409 \n",
       "Q 2525 409 2770 889 \n",
       "Q 3016 1369 3016 2328 \n",
       "Q 3016 3291 2770 3770 \n",
       "Q 2525 4250 2034 4250 \n",
       "z\n",
       "M 2034 4750 \n",
       "Q 2819 4750 3233 4129 \n",
       "Q 3647 3509 3647 2328 \n",
       "Q 3647 1150 3233 529 \n",
       "Q 2819 -91 2034 -91 \n",
       "Q 1250 -91 836 529 \n",
       "Q 422 1150 422 2328 \n",
       "Q 422 3509 836 4129 \n",
       "Q 1250 4750 2034 4750 \n",
       "z\n",
       "\" transform=\"scale(0.015625)\"/>\n",
       "       </defs>\n",
       "       <use xlink:href=\"#DejaVuSans-30\"/>\n",
       "      </g>\n",
       "     </g>\n",
       "    </g>\n",
       "    <g id=\"xtick_2\">\n",
       "     <g id=\"line2d_3\">\n",
       "      <path d=\"M 110.702968 145.8 \n",
       "L 110.702968 7.2 \n",
       "\" clip-path=\"url(#pf71900a3e5)\" style=\"fill: none; stroke: #b0b0b0; stroke-width: 0.8; stroke-linecap: square\"/>\n",
       "     </g>\n",
       "     <g id=\"line2d_4\">\n",
       "      <g>\n",
       "       <use xlink:href=\"#m7366a94c4c\" x=\"110.702968\" y=\"145.8\" style=\"stroke: #000000; stroke-width: 0.8\"/>\n",
       "      </g>\n",
       "     </g>\n",
       "     <g id=\"text_2\">\n",
       "      <!-- 1 -->\n",
       "      <g transform=\"translate(107.521718 160.398438)scale(0.1 -0.1)\">\n",
       "       <defs>\n",
       "        <path id=\"DejaVuSans-31\" d=\"M 794 531 \n",
       "L 1825 531 \n",
       "L 1825 4091 \n",
       "L 703 3866 \n",
       "L 703 4441 \n",
       "L 1819 4666 \n",
       "L 2450 4666 \n",
       "L 2450 531 \n",
       "L 3481 531 \n",
       "L 3481 0 \n",
       "L 794 0 \n",
       "L 794 531 \n",
       "z\n",
       "\" transform=\"scale(0.015625)\"/>\n",
       "       </defs>\n",
       "       <use xlink:href=\"#DejaVuSans-31\"/>\n",
       "      </g>\n",
       "     </g>\n",
       "    </g>\n",
       "    <g id=\"xtick_3\">\n",
       "     <g id=\"line2d_5\">\n",
       "      <path d=\"M 171.925539 145.8 \n",
       "L 171.925539 7.2 \n",
       "\" clip-path=\"url(#pf71900a3e5)\" style=\"fill: none; stroke: #b0b0b0; stroke-width: 0.8; stroke-linecap: square\"/>\n",
       "     </g>\n",
       "     <g id=\"line2d_6\">\n",
       "      <g>\n",
       "       <use xlink:href=\"#m7366a94c4c\" x=\"171.925539\" y=\"145.8\" style=\"stroke: #000000; stroke-width: 0.8\"/>\n",
       "      </g>\n",
       "     </g>\n",
       "     <g id=\"text_3\">\n",
       "      <!-- 2 -->\n",
       "      <g transform=\"translate(168.744289 160.398438)scale(0.1 -0.1)\">\n",
       "       <defs>\n",
       "        <path id=\"DejaVuSans-32\" d=\"M 1228 531 \n",
       "L 3431 531 \n",
       "L 3431 0 \n",
       "L 469 0 \n",
       "L 469 531 \n",
       "Q 828 903 1448 1529 \n",
       "Q 2069 2156 2228 2338 \n",
       "Q 2531 2678 2651 2914 \n",
       "Q 2772 3150 2772 3378 \n",
       "Q 2772 3750 2511 3984 \n",
       "Q 2250 4219 1831 4219 \n",
       "Q 1534 4219 1204 4116 \n",
       "Q 875 4013 500 3803 \n",
       "L 500 4441 \n",
       "Q 881 4594 1212 4672 \n",
       "Q 1544 4750 1819 4750 \n",
       "Q 2544 4750 2975 4387 \n",
       "Q 3406 4025 3406 3419 \n",
       "Q 3406 3131 3298 2873 \n",
       "Q 3191 2616 2906 2266 \n",
       "Q 2828 2175 2409 1742 \n",
       "Q 1991 1309 1228 531 \n",
       "z\n",
       "\" transform=\"scale(0.015625)\"/>\n",
       "       </defs>\n",
       "       <use xlink:href=\"#DejaVuSans-32\"/>\n",
       "      </g>\n",
       "     </g>\n",
       "    </g>\n",
       "    <g id=\"xtick_4\">\n",
       "     <g id=\"line2d_7\">\n",
       "      <path d=\"M 233.148109 145.8 \n",
       "L 233.148109 7.2 \n",
       "\" clip-path=\"url(#pf71900a3e5)\" style=\"fill: none; stroke: #b0b0b0; stroke-width: 0.8; stroke-linecap: square\"/>\n",
       "     </g>\n",
       "     <g id=\"line2d_8\">\n",
       "      <g>\n",
       "       <use xlink:href=\"#m7366a94c4c\" x=\"233.148109\" y=\"145.8\" style=\"stroke: #000000; stroke-width: 0.8\"/>\n",
       "      </g>\n",
       "     </g>\n",
       "     <g id=\"text_4\">\n",
       "      <!-- 3 -->\n",
       "      <g transform=\"translate(229.966859 160.398438)scale(0.1 -0.1)\">\n",
       "       <defs>\n",
       "        <path id=\"DejaVuSans-33\" d=\"M 2597 2516 \n",
       "Q 3050 2419 3304 2112 \n",
       "Q 3559 1806 3559 1356 \n",
       "Q 3559 666 3084 287 \n",
       "Q 2609 -91 1734 -91 \n",
       "Q 1441 -91 1130 -33 \n",
       "Q 819 25 488 141 \n",
       "L 488 750 \n",
       "Q 750 597 1062 519 \n",
       "Q 1375 441 1716 441 \n",
       "Q 2309 441 2620 675 \n",
       "Q 2931 909 2931 1356 \n",
       "Q 2931 1769 2642 2001 \n",
       "Q 2353 2234 1838 2234 \n",
       "L 1294 2234 \n",
       "L 1294 2753 \n",
       "L 1863 2753 \n",
       "Q 2328 2753 2575 2939 \n",
       "Q 2822 3125 2822 3475 \n",
       "Q 2822 3834 2567 4026 \n",
       "Q 2313 4219 1838 4219 \n",
       "Q 1578 4219 1281 4162 \n",
       "Q 984 4106 628 3988 \n",
       "L 628 4550 \n",
       "Q 988 4650 1302 4700 \n",
       "Q 1616 4750 1894 4750 \n",
       "Q 2613 4750 3031 4423 \n",
       "Q 3450 4097 3450 3541 \n",
       "Q 3450 3153 3228 2886 \n",
       "Q 3006 2619 2597 2516 \n",
       "z\n",
       "\" transform=\"scale(0.015625)\"/>\n",
       "       </defs>\n",
       "       <use xlink:href=\"#DejaVuSans-33\"/>\n",
       "      </g>\n",
       "     </g>\n",
       "    </g>\n",
       "    <g id=\"text_5\">\n",
       "     <!-- x -->\n",
       "     <g transform=\"translate(135.29375 174.076563)scale(0.1 -0.1)\">\n",
       "      <defs>\n",
       "       <path id=\"DejaVuSans-78\" d=\"M 3513 3500 \n",
       "L 2247 1797 \n",
       "L 3578 0 \n",
       "L 2900 0 \n",
       "L 1881 1375 \n",
       "L 863 0 \n",
       "L 184 0 \n",
       "L 1544 1831 \n",
       "L 300 3500 \n",
       "L 978 3500 \n",
       "L 1906 2253 \n",
       "L 2834 3500 \n",
       "L 3513 3500 \n",
       "z\n",
       "\" transform=\"scale(0.015625)\"/>\n",
       "      </defs>\n",
       "      <use xlink:href=\"#DejaVuSans-78\"/>\n",
       "     </g>\n",
       "    </g>\n",
       "   </g>\n",
       "   <g id=\"matplotlib.axis_2\">\n",
       "    <g id=\"ytick_1\">\n",
       "     <g id=\"line2d_9\">\n",
       "      <path d=\"M 40.603125 116.769994 \n",
       "L 235.903125 116.769994 \n",
       "\" clip-path=\"url(#pf71900a3e5)\" style=\"fill: none; stroke: #b0b0b0; stroke-width: 0.8; stroke-linecap: square\"/>\n",
       "     </g>\n",
       "     <g id=\"line2d_10\">\n",
       "      <defs>\n",
       "       <path id=\"md8b4ddd71e\" d=\"M 0 0 \n",
       "L -3.5 0 \n",
       "\" style=\"stroke: #000000; stroke-width: 0.8\"/>\n",
       "      </defs>\n",
       "      <g>\n",
       "       <use xlink:href=\"#md8b4ddd71e\" x=\"40.603125\" y=\"116.769994\" style=\"stroke: #000000; stroke-width: 0.8\"/>\n",
       "      </g>\n",
       "     </g>\n",
       "     <g id=\"text_6\">\n",
       "      <!-- 0 -->\n",
       "      <g transform=\"translate(27.240625 120.569213)scale(0.1 -0.1)\">\n",
       "       <use xlink:href=\"#DejaVuSans-30\"/>\n",
       "      </g>\n",
       "     </g>\n",
       "    </g>\n",
       "    <g id=\"ytick_2\">\n",
       "     <g id=\"line2d_11\">\n",
       "      <path d=\"M 40.603125 78.886651 \n",
       "L 235.903125 78.886651 \n",
       "\" clip-path=\"url(#pf71900a3e5)\" style=\"fill: none; stroke: #b0b0b0; stroke-width: 0.8; stroke-linecap: square\"/>\n",
       "     </g>\n",
       "     <g id=\"line2d_12\">\n",
       "      <g>\n",
       "       <use xlink:href=\"#md8b4ddd71e\" x=\"40.603125\" y=\"78.886651\" style=\"stroke: #000000; stroke-width: 0.8\"/>\n",
       "      </g>\n",
       "     </g>\n",
       "     <g id=\"text_7\">\n",
       "      <!-- 5 -->\n",
       "      <g transform=\"translate(27.240625 82.685869)scale(0.1 -0.1)\">\n",
       "       <defs>\n",
       "        <path id=\"DejaVuSans-35\" d=\"M 691 4666 \n",
       "L 3169 4666 \n",
       "L 3169 4134 \n",
       "L 1269 4134 \n",
       "L 1269 2991 \n",
       "Q 1406 3038 1543 3061 \n",
       "Q 1681 3084 1819 3084 \n",
       "Q 2600 3084 3056 2656 \n",
       "Q 3513 2228 3513 1497 \n",
       "Q 3513 744 3044 326 \n",
       "Q 2575 -91 1722 -91 \n",
       "Q 1428 -91 1123 -41 \n",
       "Q 819 9 494 109 \n",
       "L 494 744 \n",
       "Q 775 591 1075 516 \n",
       "Q 1375 441 1709 441 \n",
       "Q 2250 441 2565 725 \n",
       "Q 2881 1009 2881 1497 \n",
       "Q 2881 1984 2565 2268 \n",
       "Q 2250 2553 1709 2553 \n",
       "Q 1456 2553 1204 2497 \n",
       "Q 953 2441 691 2322 \n",
       "L 691 4666 \n",
       "z\n",
       "\" transform=\"scale(0.015625)\"/>\n",
       "       </defs>\n",
       "       <use xlink:href=\"#DejaVuSans-35\"/>\n",
       "      </g>\n",
       "     </g>\n",
       "    </g>\n",
       "    <g id=\"ytick_3\">\n",
       "     <g id=\"line2d_13\">\n",
       "      <path d=\"M 40.603125 41.003307 \n",
       "L 235.903125 41.003307 \n",
       "\" clip-path=\"url(#pf71900a3e5)\" style=\"fill: none; stroke: #b0b0b0; stroke-width: 0.8; stroke-linecap: square\"/>\n",
       "     </g>\n",
       "     <g id=\"line2d_14\">\n",
       "      <g>\n",
       "       <use xlink:href=\"#md8b4ddd71e\" x=\"40.603125\" y=\"41.003307\" style=\"stroke: #000000; stroke-width: 0.8\"/>\n",
       "      </g>\n",
       "     </g>\n",
       "     <g id=\"text_8\">\n",
       "      <!-- 10 -->\n",
       "      <g transform=\"translate(20.878125 44.802526)scale(0.1 -0.1)\">\n",
       "       <use xlink:href=\"#DejaVuSans-31\"/>\n",
       "       <use xlink:href=\"#DejaVuSans-30\" x=\"63.623047\"/>\n",
       "      </g>\n",
       "     </g>\n",
       "    </g>\n",
       "    <g id=\"text_9\">\n",
       "     <!-- f(x) -->\n",
       "     <g transform=\"translate(14.798437 85.121094)rotate(-90)scale(0.1 -0.1)\">\n",
       "      <defs>\n",
       "       <path id=\"DejaVuSans-66\" d=\"M 2375 4863 \n",
       "L 2375 4384 \n",
       "L 1825 4384 \n",
       "Q 1516 4384 1395 4259 \n",
       "Q 1275 4134 1275 3809 \n",
       "L 1275 3500 \n",
       "L 2222 3500 \n",
       "L 2222 3053 \n",
       "L 1275 3053 \n",
       "L 1275 0 \n",
       "L 697 0 \n",
       "L 697 3053 \n",
       "L 147 3053 \n",
       "L 147 3500 \n",
       "L 697 3500 \n",
       "L 697 3744 \n",
       "Q 697 4328 969 4595 \n",
       "Q 1241 4863 1831 4863 \n",
       "L 2375 4863 \n",
       "z\n",
       "\" transform=\"scale(0.015625)\"/>\n",
       "       <path id=\"DejaVuSans-28\" d=\"M 1984 4856 \n",
       "Q 1566 4138 1362 3434 \n",
       "Q 1159 2731 1159 2009 \n",
       "Q 1159 1288 1364 580 \n",
       "Q 1569 -128 1984 -844 \n",
       "L 1484 -844 \n",
       "Q 1016 -109 783 600 \n",
       "Q 550 1309 550 2009 \n",
       "Q 550 2706 781 3412 \n",
       "Q 1013 4119 1484 4856 \n",
       "L 1984 4856 \n",
       "z\n",
       "\" transform=\"scale(0.015625)\"/>\n",
       "       <path id=\"DejaVuSans-29\" d=\"M 513 4856 \n",
       "L 1013 4856 \n",
       "Q 1481 4119 1714 3412 \n",
       "Q 1947 2706 1947 2009 \n",
       "Q 1947 1309 1714 600 \n",
       "Q 1481 -109 1013 -844 \n",
       "L 513 -844 \n",
       "Q 928 -128 1133 580 \n",
       "Q 1338 1288 1338 2009 \n",
       "Q 1338 2731 1133 3434 \n",
       "Q 928 4138 513 4856 \n",
       "z\n",
       "\" transform=\"scale(0.015625)\"/>\n",
       "      </defs>\n",
       "      <use xlink:href=\"#DejaVuSans-66\"/>\n",
       "      <use xlink:href=\"#DejaVuSans-28\" x=\"35.205078\"/>\n",
       "      <use xlink:href=\"#DejaVuSans-78\" x=\"74.21875\"/>\n",
       "      <use xlink:href=\"#DejaVuSans-29\" x=\"133.398438\"/>\n",
       "     </g>\n",
       "    </g>\n",
       "   </g>\n",
       "   <g id=\"line2d_15\">\n",
       "    <path d=\"M 49.480398 116.769994 \n",
       "L 55.602655 119.573361 \n",
       "L 61.724912 121.922129 \n",
       "L 67.847169 123.816296 \n",
       "L 73.969426 125.255863 \n",
       "L 80.091683 126.24083 \n",
       "L 86.21394 126.771197 \n",
       "L 92.336197 126.846963 \n",
       "L 98.458454 126.46813 \n",
       "L 104.580711 125.634696 \n",
       "L 110.702968 124.346663 \n",
       "L 116.825225 122.604029 \n",
       "L 122.947482 120.406795 \n",
       "L 129.069739 117.754961 \n",
       "L 135.191996 114.648527 \n",
       "L 141.314254 111.087492 \n",
       "L 147.436511 107.071858 \n",
       "L 153.558768 102.601624 \n",
       "L 159.681025 97.676789 \n",
       "L 165.803282 92.297354 \n",
       "L 171.925539 86.463319 \n",
       "L 178.047796 80.174684 \n",
       "L 184.170053 73.431449 \n",
       "L 190.29231 66.233614 \n",
       "L 196.414567 58.581179 \n",
       "L 202.536824 50.474143 \n",
       "L 208.659081 41.912508 \n",
       "L 214.781338 32.896272 \n",
       "L 220.903595 23.425436 \n",
       "L 227.025852 13.5 \n",
       "\" clip-path=\"url(#pf71900a3e5)\" style=\"fill: none; stroke: #1f77b4; stroke-width: 1.5; stroke-linecap: square\"/>\n",
       "   </g>\n",
       "   <g id=\"line2d_16\">\n",
       "    <path d=\"M 49.480398 139.5 \n",
       "L 55.602655 137.984666 \n",
       "L 61.724912 136.469333 \n",
       "L 67.847169 134.953999 \n",
       "L 73.969426 133.438665 \n",
       "L 80.091683 131.923331 \n",
       "L 86.21394 130.407998 \n",
       "L 92.336197 128.892664 \n",
       "L 98.458454 127.37733 \n",
       "L 104.580711 125.861996 \n",
       "L 110.702968 124.346663 \n",
       "L 116.825225 122.831329 \n",
       "L 122.947482 121.315995 \n",
       "L 129.069739 119.800661 \n",
       "L 135.191996 118.285328 \n",
       "L 141.314254 116.769994 \n",
       "L 147.436511 115.25466 \n",
       "L 153.558768 113.739327 \n",
       "L 159.681025 112.223993 \n",
       "L 165.803282 110.708659 \n",
       "L 171.925539 109.193325 \n",
       "L 178.047796 107.677992 \n",
       "L 184.170053 106.162658 \n",
       "L 190.29231 104.647324 \n",
       "L 196.414567 103.13199 \n",
       "L 202.536824 101.616657 \n",
       "L 208.659081 100.101323 \n",
       "L 214.781338 98.585989 \n",
       "L 220.903595 97.070655 \n",
       "L 227.025852 95.555322 \n",
       "\" clip-path=\"url(#pf71900a3e5)\" style=\"fill: none; stroke-dasharray: 5.55,2.4; stroke-dashoffset: 0; stroke: #bf00bf; stroke-width: 1.5\"/>\n",
       "   </g>\n",
       "   <g id=\"patch_3\">\n",
       "    <path d=\"M 40.603125 145.8 \n",
       "L 40.603125 7.2 \n",
       "\" style=\"fill: none; stroke: #000000; stroke-width: 0.8; stroke-linejoin: miter; stroke-linecap: square\"/>\n",
       "   </g>\n",
       "   <g id=\"patch_4\">\n",
       "    <path d=\"M 235.903125 145.8 \n",
       "L 235.903125 7.2 \n",
       "\" style=\"fill: none; stroke: #000000; stroke-width: 0.8; stroke-linejoin: miter; stroke-linecap: square\"/>\n",
       "   </g>\n",
       "   <g id=\"patch_5\">\n",
       "    <path d=\"M 40.603125 145.8 \n",
       "L 235.903125 145.8 \n",
       "\" style=\"fill: none; stroke: #000000; stroke-width: 0.8; stroke-linejoin: miter; stroke-linecap: square\"/>\n",
       "   </g>\n",
       "   <g id=\"patch_6\">\n",
       "    <path d=\"M 40.603125 7.2 \n",
       "L 235.903125 7.2 \n",
       "\" style=\"fill: none; stroke: #000000; stroke-width: 0.8; stroke-linejoin: miter; stroke-linecap: square\"/>\n",
       "   </g>\n",
       "   <g id=\"legend_1\">\n",
       "    <g id=\"patch_7\">\n",
       "     <path d=\"M 47.603125 44.55625 \n",
       "L 172.153125 44.55625 \n",
       "Q 174.153125 44.55625 174.153125 42.55625 \n",
       "L 174.153125 14.2 \n",
       "Q 174.153125 12.2 172.153125 12.2 \n",
       "L 47.603125 12.2 \n",
       "Q 45.603125 12.2 45.603125 14.2 \n",
       "L 45.603125 42.55625 \n",
       "Q 45.603125 44.55625 47.603125 44.55625 \n",
       "z\n",
       "\" style=\"fill: #ffffff; opacity: 0.8; stroke: #cccccc; stroke-linejoin: miter\"/>\n",
       "    </g>\n",
       "    <g id=\"line2d_17\">\n",
       "     <path d=\"M 49.603125 20.298438 \n",
       "L 59.603125 20.298438 \n",
       "L 69.603125 20.298438 \n",
       "\" style=\"fill: none; stroke: #1f77b4; stroke-width: 1.5; stroke-linecap: square\"/>\n",
       "    </g>\n",
       "    <g id=\"text_10\">\n",
       "     <!-- f(x) -->\n",
       "     <g transform=\"translate(77.603125 23.798438)scale(0.1 -0.1)\">\n",
       "      <use xlink:href=\"#DejaVuSans-66\"/>\n",
       "      <use xlink:href=\"#DejaVuSans-28\" x=\"35.205078\"/>\n",
       "      <use xlink:href=\"#DejaVuSans-78\" x=\"74.21875\"/>\n",
       "      <use xlink:href=\"#DejaVuSans-29\" x=\"133.398438\"/>\n",
       "     </g>\n",
       "    </g>\n",
       "    <g id=\"line2d_18\">\n",
       "     <path d=\"M 49.603125 34.976562 \n",
       "L 59.603125 34.976562 \n",
       "L 69.603125 34.976562 \n",
       "\" style=\"fill: none; stroke-dasharray: 5.55,2.4; stroke-dashoffset: 0; stroke: #bf00bf; stroke-width: 1.5\"/>\n",
       "    </g>\n",
       "    <g id=\"text_11\">\n",
       "     <!-- Tangent line (x=1) -->\n",
       "     <g transform=\"translate(77.603125 38.476562)scale(0.1 -0.1)\">\n",
       "      <defs>\n",
       "       <path id=\"DejaVuSans-54\" d=\"M -19 4666 \n",
       "L 3928 4666 \n",
       "L 3928 4134 \n",
       "L 2272 4134 \n",
       "L 2272 0 \n",
       "L 1638 0 \n",
       "L 1638 4134 \n",
       "L -19 4134 \n",
       "L -19 4666 \n",
       "z\n",
       "\" transform=\"scale(0.015625)\"/>\n",
       "       <path id=\"DejaVuSans-61\" d=\"M 2194 1759 \n",
       "Q 1497 1759 1228 1600 \n",
       "Q 959 1441 959 1056 \n",
       "Q 959 750 1161 570 \n",
       "Q 1363 391 1709 391 \n",
       "Q 2188 391 2477 730 \n",
       "Q 2766 1069 2766 1631 \n",
       "L 2766 1759 \n",
       "L 2194 1759 \n",
       "z\n",
       "M 3341 1997 \n",
       "L 3341 0 \n",
       "L 2766 0 \n",
       "L 2766 531 \n",
       "Q 2569 213 2275 61 \n",
       "Q 1981 -91 1556 -91 \n",
       "Q 1019 -91 701 211 \n",
       "Q 384 513 384 1019 \n",
       "Q 384 1609 779 1909 \n",
       "Q 1175 2209 1959 2209 \n",
       "L 2766 2209 \n",
       "L 2766 2266 \n",
       "Q 2766 2663 2505 2880 \n",
       "Q 2244 3097 1772 3097 \n",
       "Q 1472 3097 1187 3025 \n",
       "Q 903 2953 641 2809 \n",
       "L 641 3341 \n",
       "Q 956 3463 1253 3523 \n",
       "Q 1550 3584 1831 3584 \n",
       "Q 2591 3584 2966 3190 \n",
       "Q 3341 2797 3341 1997 \n",
       "z\n",
       "\" transform=\"scale(0.015625)\"/>\n",
       "       <path id=\"DejaVuSans-6e\" d=\"M 3513 2113 \n",
       "L 3513 0 \n",
       "L 2938 0 \n",
       "L 2938 2094 \n",
       "Q 2938 2591 2744 2837 \n",
       "Q 2550 3084 2163 3084 \n",
       "Q 1697 3084 1428 2787 \n",
       "Q 1159 2491 1159 1978 \n",
       "L 1159 0 \n",
       "L 581 0 \n",
       "L 581 3500 \n",
       "L 1159 3500 \n",
       "L 1159 2956 \n",
       "Q 1366 3272 1645 3428 \n",
       "Q 1925 3584 2291 3584 \n",
       "Q 2894 3584 3203 3211 \n",
       "Q 3513 2838 3513 2113 \n",
       "z\n",
       "\" transform=\"scale(0.015625)\"/>\n",
       "       <path id=\"DejaVuSans-67\" d=\"M 2906 1791 \n",
       "Q 2906 2416 2648 2759 \n",
       "Q 2391 3103 1925 3103 \n",
       "Q 1463 3103 1205 2759 \n",
       "Q 947 2416 947 1791 \n",
       "Q 947 1169 1205 825 \n",
       "Q 1463 481 1925 481 \n",
       "Q 2391 481 2648 825 \n",
       "Q 2906 1169 2906 1791 \n",
       "z\n",
       "M 3481 434 \n",
       "Q 3481 -459 3084 -895 \n",
       "Q 2688 -1331 1869 -1331 \n",
       "Q 1566 -1331 1297 -1286 \n",
       "Q 1028 -1241 775 -1147 \n",
       "L 775 -588 \n",
       "Q 1028 -725 1275 -790 \n",
       "Q 1522 -856 1778 -856 \n",
       "Q 2344 -856 2625 -561 \n",
       "Q 2906 -266 2906 331 \n",
       "L 2906 616 \n",
       "Q 2728 306 2450 153 \n",
       "Q 2172 0 1784 0 \n",
       "Q 1141 0 747 490 \n",
       "Q 353 981 353 1791 \n",
       "Q 353 2603 747 3093 \n",
       "Q 1141 3584 1784 3584 \n",
       "Q 2172 3584 2450 3431 \n",
       "Q 2728 3278 2906 2969 \n",
       "L 2906 3500 \n",
       "L 3481 3500 \n",
       "L 3481 434 \n",
       "z\n",
       "\" transform=\"scale(0.015625)\"/>\n",
       "       <path id=\"DejaVuSans-65\" d=\"M 3597 1894 \n",
       "L 3597 1613 \n",
       "L 953 1613 \n",
       "Q 991 1019 1311 708 \n",
       "Q 1631 397 2203 397 \n",
       "Q 2534 397 2845 478 \n",
       "Q 3156 559 3463 722 \n",
       "L 3463 178 \n",
       "Q 3153 47 2828 -22 \n",
       "Q 2503 -91 2169 -91 \n",
       "Q 1331 -91 842 396 \n",
       "Q 353 884 353 1716 \n",
       "Q 353 2575 817 3079 \n",
       "Q 1281 3584 2069 3584 \n",
       "Q 2775 3584 3186 3129 \n",
       "Q 3597 2675 3597 1894 \n",
       "z\n",
       "M 3022 2063 \n",
       "Q 3016 2534 2758 2815 \n",
       "Q 2500 3097 2075 3097 \n",
       "Q 1594 3097 1305 2825 \n",
       "Q 1016 2553 972 2059 \n",
       "L 3022 2063 \n",
       "z\n",
       "\" transform=\"scale(0.015625)\"/>\n",
       "       <path id=\"DejaVuSans-74\" d=\"M 1172 4494 \n",
       "L 1172 3500 \n",
       "L 2356 3500 \n",
       "L 2356 3053 \n",
       "L 1172 3053 \n",
       "L 1172 1153 \n",
       "Q 1172 725 1289 603 \n",
       "Q 1406 481 1766 481 \n",
       "L 2356 481 \n",
       "L 2356 0 \n",
       "L 1766 0 \n",
       "Q 1100 0 847 248 \n",
       "Q 594 497 594 1153 \n",
       "L 594 3053 \n",
       "L 172 3053 \n",
       "L 172 3500 \n",
       "L 594 3500 \n",
       "L 594 4494 \n",
       "L 1172 4494 \n",
       "z\n",
       "\" transform=\"scale(0.015625)\"/>\n",
       "       <path id=\"DejaVuSans-20\" transform=\"scale(0.015625)\"/>\n",
       "       <path id=\"DejaVuSans-6c\" d=\"M 603 4863 \n",
       "L 1178 4863 \n",
       "L 1178 0 \n",
       "L 603 0 \n",
       "L 603 4863 \n",
       "z\n",
       "\" transform=\"scale(0.015625)\"/>\n",
       "       <path id=\"DejaVuSans-69\" d=\"M 603 3500 \n",
       "L 1178 3500 \n",
       "L 1178 0 \n",
       "L 603 0 \n",
       "L 603 3500 \n",
       "z\n",
       "M 603 4863 \n",
       "L 1178 4863 \n",
       "L 1178 4134 \n",
       "L 603 4134 \n",
       "L 603 4863 \n",
       "z\n",
       "\" transform=\"scale(0.015625)\"/>\n",
       "       <path id=\"DejaVuSans-3d\" d=\"M 678 2906 \n",
       "L 4684 2906 \n",
       "L 4684 2381 \n",
       "L 678 2381 \n",
       "L 678 2906 \n",
       "z\n",
       "M 678 1631 \n",
       "L 4684 1631 \n",
       "L 4684 1100 \n",
       "L 678 1100 \n",
       "L 678 1631 \n",
       "z\n",
       "\" transform=\"scale(0.015625)\"/>\n",
       "      </defs>\n",
       "      <use xlink:href=\"#DejaVuSans-54\"/>\n",
       "      <use xlink:href=\"#DejaVuSans-61\" x=\"44.583984\"/>\n",
       "      <use xlink:href=\"#DejaVuSans-6e\" x=\"105.863281\"/>\n",
       "      <use xlink:href=\"#DejaVuSans-67\" x=\"169.242188\"/>\n",
       "      <use xlink:href=\"#DejaVuSans-65\" x=\"232.71875\"/>\n",
       "      <use xlink:href=\"#DejaVuSans-6e\" x=\"294.242188\"/>\n",
       "      <use xlink:href=\"#DejaVuSans-74\" x=\"357.621094\"/>\n",
       "      <use xlink:href=\"#DejaVuSans-20\" x=\"396.830078\"/>\n",
       "      <use xlink:href=\"#DejaVuSans-6c\" x=\"428.617188\"/>\n",
       "      <use xlink:href=\"#DejaVuSans-69\" x=\"456.400391\"/>\n",
       "      <use xlink:href=\"#DejaVuSans-6e\" x=\"484.183594\"/>\n",
       "      <use xlink:href=\"#DejaVuSans-65\" x=\"547.5625\"/>\n",
       "      <use xlink:href=\"#DejaVuSans-20\" x=\"609.085938\"/>\n",
       "      <use xlink:href=\"#DejaVuSans-28\" x=\"640.873047\"/>\n",
       "      <use xlink:href=\"#DejaVuSans-78\" x=\"679.886719\"/>\n",
       "      <use xlink:href=\"#DejaVuSans-3d\" x=\"739.066406\"/>\n",
       "      <use xlink:href=\"#DejaVuSans-31\" x=\"822.855469\"/>\n",
       "      <use xlink:href=\"#DejaVuSans-29\" x=\"886.478516\"/>\n",
       "     </g>\n",
       "    </g>\n",
       "   </g>\n",
       "  </g>\n",
       " </g>\n",
       " <defs>\n",
       "  <clipPath id=\"pf71900a3e5\">\n",
       "   <rect x=\"40.603125\" y=\"7.2\" width=\"195.3\" height=\"138.6\"/>\n",
       "  </clipPath>\n",
       " </defs>\n",
       "</svg>\n"
      ],
      "text/plain": [
       "<Figure size 350x250 with 1 Axes>"
      ]
     },
     "metadata": {},
     "output_type": "display_data"
    }
   ],
   "source": [
    "x = np.arange(0, 3, 0.1)\n",
    "plot(x, [f(x), 2 * x - 3], 'x', 'f(x)', \n",
    "     legend = ['f(x)', 'Tangent line (x=1)'])"
   ]
  },
  {
   "cell_type": "markdown",
   "id": "26b01de6",
   "metadata": {},
   "source": [
    "# 自动微分"
   ]
  },
  {
   "cell_type": "code",
   "execution_count": 235,
   "id": "b8503c94",
   "metadata": {},
   "outputs": [
    {
     "data": {
      "text/plain": [
       "tensor([0., 1., 2., 3.])"
      ]
     },
     "execution_count": 235,
     "metadata": {},
     "output_type": "execute_result"
    }
   ],
   "source": [
    "import torch\n",
    "\n",
    "x = torch.arange(4.0)\n",
    "x"
   ]
  },
  {
   "cell_type": "code",
   "execution_count": 236,
   "id": "347304c4",
   "metadata": {},
   "outputs": [
    {
     "name": "stdout",
     "output_type": "stream",
     "text": [
      "None\n"
     ]
    }
   ],
   "source": [
    "x.requires_grad_(True)\n",
    "print(x.grad)"
   ]
  },
  {
   "cell_type": "code",
   "execution_count": 237,
   "id": "5078ba46",
   "metadata": {},
   "outputs": [
    {
     "data": {
      "text/plain": [
       "tensor(28., grad_fn=<MulBackward0>)"
      ]
     },
     "execution_count": 237,
     "metadata": {},
     "output_type": "execute_result"
    }
   ],
   "source": [
    "y = 2 * torch.dot(x, x)\n",
    "y"
   ]
  },
  {
   "cell_type": "code",
   "execution_count": 238,
   "id": "656ba426",
   "metadata": {},
   "outputs": [
    {
     "data": {
      "text/plain": [
       "tensor([ 0.,  4.,  8., 12.])"
      ]
     },
     "execution_count": 238,
     "metadata": {},
     "output_type": "execute_result"
    }
   ],
   "source": [
    "y.backward()\n",
    "x.grad"
   ]
  },
  {
   "cell_type": "code",
   "execution_count": 239,
   "id": "6083a15a",
   "metadata": {},
   "outputs": [
    {
     "name": "stdout",
     "output_type": "stream",
     "text": [
      "tensor([ 0.,  4.,  8., 12.])\n"
     ]
    }
   ],
   "source": [
    "print(x.grad)"
   ]
  },
  {
   "cell_type": "code",
   "execution_count": 240,
   "id": "375469fb",
   "metadata": {},
   "outputs": [
    {
     "data": {
      "text/plain": [
       "tensor([0., 0., 0., 0.])"
      ]
     },
     "execution_count": 240,
     "metadata": {},
     "output_type": "execute_result"
    }
   ],
   "source": [
    "x.grad.zero_()"
   ]
  },
  {
   "cell_type": "code",
   "execution_count": 241,
   "id": "844fe82e",
   "metadata": {},
   "outputs": [],
   "source": [
    "y = x*x"
   ]
  },
  {
   "cell_type": "code",
   "execution_count": 242,
   "id": "a25416ff",
   "metadata": {},
   "outputs": [],
   "source": [
    "y.sum().backward()"
   ]
  },
  {
   "cell_type": "code",
   "execution_count": 243,
   "id": "64d64d64",
   "metadata": {},
   "outputs": [
    {
     "data": {
      "text/plain": [
       "tensor([0., 2., 4., 6.])"
      ]
     },
     "execution_count": 243,
     "metadata": {},
     "output_type": "execute_result"
    }
   ],
   "source": [
    "x.grad"
   ]
  },
  {
   "cell_type": "code",
   "execution_count": 255,
   "id": "8f7bb1de",
   "metadata": {},
   "outputs": [],
   "source": [
    "%matplotlib inline"
   ]
  },
  {
   "cell_type": "code",
   "execution_count": 256,
   "id": "3fbf166e",
   "metadata": {},
   "outputs": [],
   "source": [
    "import torch\n",
    "from torch.distributions import multinomial\n",
    "from d2l import torch as d2l"
   ]
  },
  {
   "cell_type": "code",
   "execution_count": 275,
   "id": "8d43a312",
   "metadata": {},
   "outputs": [
    {
     "data": {
      "text/plain": [
       "tensor([0., 0., 0., 1., 0., 0.])"
      ]
     },
     "execution_count": 275,
     "metadata": {},
     "output_type": "execute_result"
    }
   ],
   "source": [
    "fair_probs = torch.ones([6]) / 6\n",
    "multinomial.Multinomial(1, fair_probs).sample()"
   ]
  },
  {
   "cell_type": "code",
   "execution_count": 258,
   "id": "9c37ecb0",
   "metadata": {},
   "outputs": [
    {
     "data": {
      "text/plain": [
       "tensor([3., 1., 2., 0., 2., 2.])"
      ]
     },
     "execution_count": 258,
     "metadata": {},
     "output_type": "execute_result"
    }
   ],
   "source": [
    "multinomial.Multinomial(10, fair_probs).sample()"
   ]
  },
  {
   "cell_type": "code",
   "execution_count": 259,
   "id": "69bd5651",
   "metadata": {},
   "outputs": [
    {
     "data": {
      "text/plain": [
       "tensor([0.1610, 0.1670, 0.1760, 0.1770, 0.1510, 0.1680])"
      ]
     },
     "execution_count": 259,
     "metadata": {},
     "output_type": "execute_result"
    }
   ],
   "source": [
    "counts = multinomial.Multinomial(1000, fair_probs).sample()\n",
    "counts / 1000"
   ]
  },
  {
   "cell_type": "code",
   "execution_count": 261,
   "id": "d71113e9",
   "metadata": {},
   "outputs": [
    {
     "data": {
      "image/svg+xml": [
       "<?xml version=\"1.0\" encoding=\"utf-8\" standalone=\"no\"?>\n",
       "<!DOCTYPE svg PUBLIC \"-//W3C//DTD SVG 1.1//EN\"\n",
       "  \"http://www.w3.org/Graphics/SVG/1.1/DTD/svg11.dtd\">\n",
       "<svg xmlns:xlink=\"http://www.w3.org/1999/xlink\" width=\"392.14375pt\" height=\"294.23625pt\" viewBox=\"0 0 392.14375 294.23625\" xmlns=\"http://www.w3.org/2000/svg\" version=\"1.1\">\n",
       " <metadata>\n",
       "  <rdf:RDF xmlns:dc=\"http://purl.org/dc/elements/1.1/\" xmlns:cc=\"http://creativecommons.org/ns#\" xmlns:rdf=\"http://www.w3.org/1999/02/22-rdf-syntax-ns#\">\n",
       "   <cc:Work>\n",
       "    <dc:type rdf:resource=\"http://purl.org/dc/dcmitype/StillImage\"/>\n",
       "    <dc:date>2025-07-13T18:00:36.546014</dc:date>\n",
       "    <dc:format>image/svg+xml</dc:format>\n",
       "    <dc:creator>\n",
       "     <cc:Agent>\n",
       "      <dc:title>Matplotlib v3.5.1, https://matplotlib.org/</dc:title>\n",
       "     </cc:Agent>\n",
       "    </dc:creator>\n",
       "   </cc:Work>\n",
       "  </rdf:RDF>\n",
       " </metadata>\n",
       " <defs>\n",
       "  <style type=\"text/css\">*{stroke-linejoin: round; stroke-linecap: butt}</style>\n",
       " </defs>\n",
       " <g id=\"figure_1\">\n",
       "  <g id=\"patch_1\">\n",
       "   <path d=\"M 0 294.23625 \n",
       "L 392.14375 294.23625 \n",
       "L 392.14375 0 \n",
       "L 0 0 \n",
       "z\n",
       "\" style=\"fill: #ffffff\"/>\n",
       "  </g>\n",
       "  <g id=\"axes_1\">\n",
       "   <g id=\"patch_2\">\n",
       "    <path d=\"M 50.14375 256.68 \n",
       "L 384.94375 256.68 \n",
       "L 384.94375 7.2 \n",
       "L 50.14375 7.2 \n",
       "z\n",
       "\" style=\"fill: #ffffff\"/>\n",
       "   </g>\n",
       "   <g id=\"matplotlib.axis_1\">\n",
       "    <g id=\"xtick_1\">\n",
       "     <g id=\"line2d_1\">\n",
       "      <defs>\n",
       "       <path id=\"m4c077ea5b3\" d=\"M 0 0 \n",
       "L 0 3.5 \n",
       "\" style=\"stroke: #000000; stroke-width: 0.8\"/>\n",
       "      </defs>\n",
       "      <g>\n",
       "       <use xlink:href=\"#m4c077ea5b3\" x=\"65.361932\" y=\"256.68\" style=\"stroke: #000000; stroke-width: 0.8\"/>\n",
       "      </g>\n",
       "     </g>\n",
       "     <g id=\"text_1\">\n",
       "      <!-- 0 -->\n",
       "      <g transform=\"translate(62.180682 271.278438)scale(0.1 -0.1)\">\n",
       "       <defs>\n",
       "        <path id=\"DejaVuSans-30\" d=\"M 2034 4250 \n",
       "Q 1547 4250 1301 3770 \n",
       "Q 1056 3291 1056 2328 \n",
       "Q 1056 1369 1301 889 \n",
       "Q 1547 409 2034 409 \n",
       "Q 2525 409 2770 889 \n",
       "Q 3016 1369 3016 2328 \n",
       "Q 3016 3291 2770 3770 \n",
       "Q 2525 4250 2034 4250 \n",
       "z\n",
       "M 2034 4750 \n",
       "Q 2819 4750 3233 4129 \n",
       "Q 3647 3509 3647 2328 \n",
       "Q 3647 1150 3233 529 \n",
       "Q 2819 -91 2034 -91 \n",
       "Q 1250 -91 836 529 \n",
       "Q 422 1150 422 2328 \n",
       "Q 422 3509 836 4129 \n",
       "Q 1250 4750 2034 4750 \n",
       "z\n",
       "\" transform=\"scale(0.015625)\"/>\n",
       "       </defs>\n",
       "       <use xlink:href=\"#DejaVuSans-30\"/>\n",
       "      </g>\n",
       "     </g>\n",
       "    </g>\n",
       "    <g id=\"xtick_2\">\n",
       "     <g id=\"line2d_2\">\n",
       "      <g>\n",
       "       <use xlink:href=\"#m4c077ea5b3\" x=\"126.356649\" y=\"256.68\" style=\"stroke: #000000; stroke-width: 0.8\"/>\n",
       "      </g>\n",
       "     </g>\n",
       "     <g id=\"text_2\">\n",
       "      <!-- 100 -->\n",
       "      <g transform=\"translate(116.812899 271.278438)scale(0.1 -0.1)\">\n",
       "       <defs>\n",
       "        <path id=\"DejaVuSans-31\" d=\"M 794 531 \n",
       "L 1825 531 \n",
       "L 1825 4091 \n",
       "L 703 3866 \n",
       "L 703 4441 \n",
       "L 1819 4666 \n",
       "L 2450 4666 \n",
       "L 2450 531 \n",
       "L 3481 531 \n",
       "L 3481 0 \n",
       "L 794 0 \n",
       "L 794 531 \n",
       "z\n",
       "\" transform=\"scale(0.015625)\"/>\n",
       "       </defs>\n",
       "       <use xlink:href=\"#DejaVuSans-31\"/>\n",
       "       <use xlink:href=\"#DejaVuSans-30\" x=\"63.623047\"/>\n",
       "       <use xlink:href=\"#DejaVuSans-30\" x=\"127.246094\"/>\n",
       "      </g>\n",
       "     </g>\n",
       "    </g>\n",
       "    <g id=\"xtick_3\">\n",
       "     <g id=\"line2d_3\">\n",
       "      <g>\n",
       "       <use xlink:href=\"#m4c077ea5b3\" x=\"187.351365\" y=\"256.68\" style=\"stroke: #000000; stroke-width: 0.8\"/>\n",
       "      </g>\n",
       "     </g>\n",
       "     <g id=\"text_3\">\n",
       "      <!-- 200 -->\n",
       "      <g transform=\"translate(177.807615 271.278438)scale(0.1 -0.1)\">\n",
       "       <defs>\n",
       "        <path id=\"DejaVuSans-32\" d=\"M 1228 531 \n",
       "L 3431 531 \n",
       "L 3431 0 \n",
       "L 469 0 \n",
       "L 469 531 \n",
       "Q 828 903 1448 1529 \n",
       "Q 2069 2156 2228 2338 \n",
       "Q 2531 2678 2651 2914 \n",
       "Q 2772 3150 2772 3378 \n",
       "Q 2772 3750 2511 3984 \n",
       "Q 2250 4219 1831 4219 \n",
       "Q 1534 4219 1204 4116 \n",
       "Q 875 4013 500 3803 \n",
       "L 500 4441 \n",
       "Q 881 4594 1212 4672 \n",
       "Q 1544 4750 1819 4750 \n",
       "Q 2544 4750 2975 4387 \n",
       "Q 3406 4025 3406 3419 \n",
       "Q 3406 3131 3298 2873 \n",
       "Q 3191 2616 2906 2266 \n",
       "Q 2828 2175 2409 1742 \n",
       "Q 1991 1309 1228 531 \n",
       "z\n",
       "\" transform=\"scale(0.015625)\"/>\n",
       "       </defs>\n",
       "       <use xlink:href=\"#DejaVuSans-32\"/>\n",
       "       <use xlink:href=\"#DejaVuSans-30\" x=\"63.623047\"/>\n",
       "       <use xlink:href=\"#DejaVuSans-30\" x=\"127.246094\"/>\n",
       "      </g>\n",
       "     </g>\n",
       "    </g>\n",
       "    <g id=\"xtick_4\">\n",
       "     <g id=\"line2d_4\">\n",
       "      <g>\n",
       "       <use xlink:href=\"#m4c077ea5b3\" x=\"248.346082\" y=\"256.68\" style=\"stroke: #000000; stroke-width: 0.8\"/>\n",
       "      </g>\n",
       "     </g>\n",
       "     <g id=\"text_4\">\n",
       "      <!-- 300 -->\n",
       "      <g transform=\"translate(238.802332 271.278438)scale(0.1 -0.1)\">\n",
       "       <defs>\n",
       "        <path id=\"DejaVuSans-33\" d=\"M 2597 2516 \n",
       "Q 3050 2419 3304 2112 \n",
       "Q 3559 1806 3559 1356 \n",
       "Q 3559 666 3084 287 \n",
       "Q 2609 -91 1734 -91 \n",
       "Q 1441 -91 1130 -33 \n",
       "Q 819 25 488 141 \n",
       "L 488 750 \n",
       "Q 750 597 1062 519 \n",
       "Q 1375 441 1716 441 \n",
       "Q 2309 441 2620 675 \n",
       "Q 2931 909 2931 1356 \n",
       "Q 2931 1769 2642 2001 \n",
       "Q 2353 2234 1838 2234 \n",
       "L 1294 2234 \n",
       "L 1294 2753 \n",
       "L 1863 2753 \n",
       "Q 2328 2753 2575 2939 \n",
       "Q 2822 3125 2822 3475 \n",
       "Q 2822 3834 2567 4026 \n",
       "Q 2313 4219 1838 4219 \n",
       "Q 1578 4219 1281 4162 \n",
       "Q 984 4106 628 3988 \n",
       "L 628 4550 \n",
       "Q 988 4650 1302 4700 \n",
       "Q 1616 4750 1894 4750 \n",
       "Q 2613 4750 3031 4423 \n",
       "Q 3450 4097 3450 3541 \n",
       "Q 3450 3153 3228 2886 \n",
       "Q 3006 2619 2597 2516 \n",
       "z\n",
       "\" transform=\"scale(0.015625)\"/>\n",
       "       </defs>\n",
       "       <use xlink:href=\"#DejaVuSans-33\"/>\n",
       "       <use xlink:href=\"#DejaVuSans-30\" x=\"63.623047\"/>\n",
       "       <use xlink:href=\"#DejaVuSans-30\" x=\"127.246094\"/>\n",
       "      </g>\n",
       "     </g>\n",
       "    </g>\n",
       "    <g id=\"xtick_5\">\n",
       "     <g id=\"line2d_5\">\n",
       "      <g>\n",
       "       <use xlink:href=\"#m4c077ea5b3\" x=\"309.340799\" y=\"256.68\" style=\"stroke: #000000; stroke-width: 0.8\"/>\n",
       "      </g>\n",
       "     </g>\n",
       "     <g id=\"text_5\">\n",
       "      <!-- 400 -->\n",
       "      <g transform=\"translate(299.797049 271.278438)scale(0.1 -0.1)\">\n",
       "       <defs>\n",
       "        <path id=\"DejaVuSans-34\" d=\"M 2419 4116 \n",
       "L 825 1625 \n",
       "L 2419 1625 \n",
       "L 2419 4116 \n",
       "z\n",
       "M 2253 4666 \n",
       "L 3047 4666 \n",
       "L 3047 1625 \n",
       "L 3713 1625 \n",
       "L 3713 1100 \n",
       "L 3047 1100 \n",
       "L 3047 0 \n",
       "L 2419 0 \n",
       "L 2419 1100 \n",
       "L 313 1100 \n",
       "L 313 1709 \n",
       "L 2253 4666 \n",
       "z\n",
       "\" transform=\"scale(0.015625)\"/>\n",
       "       </defs>\n",
       "       <use xlink:href=\"#DejaVuSans-34\"/>\n",
       "       <use xlink:href=\"#DejaVuSans-30\" x=\"63.623047\"/>\n",
       "       <use xlink:href=\"#DejaVuSans-30\" x=\"127.246094\"/>\n",
       "      </g>\n",
       "     </g>\n",
       "    </g>\n",
       "    <g id=\"xtick_6\">\n",
       "     <g id=\"line2d_6\">\n",
       "      <g>\n",
       "       <use xlink:href=\"#m4c077ea5b3\" x=\"370.335515\" y=\"256.68\" style=\"stroke: #000000; stroke-width: 0.8\"/>\n",
       "      </g>\n",
       "     </g>\n",
       "     <g id=\"text_6\">\n",
       "      <!-- 500 -->\n",
       "      <g transform=\"translate(360.791765 271.278438)scale(0.1 -0.1)\">\n",
       "       <defs>\n",
       "        <path id=\"DejaVuSans-35\" d=\"M 691 4666 \n",
       "L 3169 4666 \n",
       "L 3169 4134 \n",
       "L 1269 4134 \n",
       "L 1269 2991 \n",
       "Q 1406 3038 1543 3061 \n",
       "Q 1681 3084 1819 3084 \n",
       "Q 2600 3084 3056 2656 \n",
       "Q 3513 2228 3513 1497 \n",
       "Q 3513 744 3044 326 \n",
       "Q 2575 -91 1722 -91 \n",
       "Q 1428 -91 1123 -41 \n",
       "Q 819 9 494 109 \n",
       "L 494 744 \n",
       "Q 775 591 1075 516 \n",
       "Q 1375 441 1709 441 \n",
       "Q 2250 441 2565 725 \n",
       "Q 2881 1009 2881 1497 \n",
       "Q 2881 1984 2565 2268 \n",
       "Q 2250 2553 1709 2553 \n",
       "Q 1456 2553 1204 2497 \n",
       "Q 953 2441 691 2322 \n",
       "L 691 4666 \n",
       "z\n",
       "\" transform=\"scale(0.015625)\"/>\n",
       "       </defs>\n",
       "       <use xlink:href=\"#DejaVuSans-35\"/>\n",
       "       <use xlink:href=\"#DejaVuSans-30\" x=\"63.623047\"/>\n",
       "       <use xlink:href=\"#DejaVuSans-30\" x=\"127.246094\"/>\n",
       "      </g>\n",
       "     </g>\n",
       "    </g>\n",
       "    <g id=\"text_7\">\n",
       "     <!-- Groups of experiments -->\n",
       "     <g transform=\"translate(160.397656 284.956563)scale(0.1 -0.1)\">\n",
       "      <defs>\n",
       "       <path id=\"DejaVuSans-47\" d=\"M 3809 666 \n",
       "L 3809 1919 \n",
       "L 2778 1919 \n",
       "L 2778 2438 \n",
       "L 4434 2438 \n",
       "L 4434 434 \n",
       "Q 4069 175 3628 42 \n",
       "Q 3188 -91 2688 -91 \n",
       "Q 1594 -91 976 548 \n",
       "Q 359 1188 359 2328 \n",
       "Q 359 3472 976 4111 \n",
       "Q 1594 4750 2688 4750 \n",
       "Q 3144 4750 3555 4637 \n",
       "Q 3966 4525 4313 4306 \n",
       "L 4313 3634 \n",
       "Q 3963 3931 3569 4081 \n",
       "Q 3175 4231 2741 4231 \n",
       "Q 1884 4231 1454 3753 \n",
       "Q 1025 3275 1025 2328 \n",
       "Q 1025 1384 1454 906 \n",
       "Q 1884 428 2741 428 \n",
       "Q 3075 428 3337 486 \n",
       "Q 3600 544 3809 666 \n",
       "z\n",
       "\" transform=\"scale(0.015625)\"/>\n",
       "       <path id=\"DejaVuSans-72\" d=\"M 2631 2963 \n",
       "Q 2534 3019 2420 3045 \n",
       "Q 2306 3072 2169 3072 \n",
       "Q 1681 3072 1420 2755 \n",
       "Q 1159 2438 1159 1844 \n",
       "L 1159 0 \n",
       "L 581 0 \n",
       "L 581 3500 \n",
       "L 1159 3500 \n",
       "L 1159 2956 \n",
       "Q 1341 3275 1631 3429 \n",
       "Q 1922 3584 2338 3584 \n",
       "Q 2397 3584 2469 3576 \n",
       "Q 2541 3569 2628 3553 \n",
       "L 2631 2963 \n",
       "z\n",
       "\" transform=\"scale(0.015625)\"/>\n",
       "       <path id=\"DejaVuSans-6f\" d=\"M 1959 3097 \n",
       "Q 1497 3097 1228 2736 \n",
       "Q 959 2375 959 1747 \n",
       "Q 959 1119 1226 758 \n",
       "Q 1494 397 1959 397 \n",
       "Q 2419 397 2687 759 \n",
       "Q 2956 1122 2956 1747 \n",
       "Q 2956 2369 2687 2733 \n",
       "Q 2419 3097 1959 3097 \n",
       "z\n",
       "M 1959 3584 \n",
       "Q 2709 3584 3137 3096 \n",
       "Q 3566 2609 3566 1747 \n",
       "Q 3566 888 3137 398 \n",
       "Q 2709 -91 1959 -91 \n",
       "Q 1206 -91 779 398 \n",
       "Q 353 888 353 1747 \n",
       "Q 353 2609 779 3096 \n",
       "Q 1206 3584 1959 3584 \n",
       "z\n",
       "\" transform=\"scale(0.015625)\"/>\n",
       "       <path id=\"DejaVuSans-75\" d=\"M 544 1381 \n",
       "L 544 3500 \n",
       "L 1119 3500 \n",
       "L 1119 1403 \n",
       "Q 1119 906 1312 657 \n",
       "Q 1506 409 1894 409 \n",
       "Q 2359 409 2629 706 \n",
       "Q 2900 1003 2900 1516 \n",
       "L 2900 3500 \n",
       "L 3475 3500 \n",
       "L 3475 0 \n",
       "L 2900 0 \n",
       "L 2900 538 \n",
       "Q 2691 219 2414 64 \n",
       "Q 2138 -91 1772 -91 \n",
       "Q 1169 -91 856 284 \n",
       "Q 544 659 544 1381 \n",
       "z\n",
       "M 1991 3584 \n",
       "L 1991 3584 \n",
       "z\n",
       "\" transform=\"scale(0.015625)\"/>\n",
       "       <path id=\"DejaVuSans-70\" d=\"M 1159 525 \n",
       "L 1159 -1331 \n",
       "L 581 -1331 \n",
       "L 581 3500 \n",
       "L 1159 3500 \n",
       "L 1159 2969 \n",
       "Q 1341 3281 1617 3432 \n",
       "Q 1894 3584 2278 3584 \n",
       "Q 2916 3584 3314 3078 \n",
       "Q 3713 2572 3713 1747 \n",
       "Q 3713 922 3314 415 \n",
       "Q 2916 -91 2278 -91 \n",
       "Q 1894 -91 1617 61 \n",
       "Q 1341 213 1159 525 \n",
       "z\n",
       "M 3116 1747 \n",
       "Q 3116 2381 2855 2742 \n",
       "Q 2594 3103 2138 3103 \n",
       "Q 1681 3103 1420 2742 \n",
       "Q 1159 2381 1159 1747 \n",
       "Q 1159 1113 1420 752 \n",
       "Q 1681 391 2138 391 \n",
       "Q 2594 391 2855 752 \n",
       "Q 3116 1113 3116 1747 \n",
       "z\n",
       "\" transform=\"scale(0.015625)\"/>\n",
       "       <path id=\"DejaVuSans-73\" d=\"M 2834 3397 \n",
       "L 2834 2853 \n",
       "Q 2591 2978 2328 3040 \n",
       "Q 2066 3103 1784 3103 \n",
       "Q 1356 3103 1142 2972 \n",
       "Q 928 2841 928 2578 \n",
       "Q 928 2378 1081 2264 \n",
       "Q 1234 2150 1697 2047 \n",
       "L 1894 2003 \n",
       "Q 2506 1872 2764 1633 \n",
       "Q 3022 1394 3022 966 \n",
       "Q 3022 478 2636 193 \n",
       "Q 2250 -91 1575 -91 \n",
       "Q 1294 -91 989 -36 \n",
       "Q 684 19 347 128 \n",
       "L 347 722 \n",
       "Q 666 556 975 473 \n",
       "Q 1284 391 1588 391 \n",
       "Q 1994 391 2212 530 \n",
       "Q 2431 669 2431 922 \n",
       "Q 2431 1156 2273 1281 \n",
       "Q 2116 1406 1581 1522 \n",
       "L 1381 1569 \n",
       "Q 847 1681 609 1914 \n",
       "Q 372 2147 372 2553 \n",
       "Q 372 3047 722 3315 \n",
       "Q 1072 3584 1716 3584 \n",
       "Q 2034 3584 2315 3537 \n",
       "Q 2597 3491 2834 3397 \n",
       "z\n",
       "\" transform=\"scale(0.015625)\"/>\n",
       "       <path id=\"DejaVuSans-20\" transform=\"scale(0.015625)\"/>\n",
       "       <path id=\"DejaVuSans-66\" d=\"M 2375 4863 \n",
       "L 2375 4384 \n",
       "L 1825 4384 \n",
       "Q 1516 4384 1395 4259 \n",
       "Q 1275 4134 1275 3809 \n",
       "L 1275 3500 \n",
       "L 2222 3500 \n",
       "L 2222 3053 \n",
       "L 1275 3053 \n",
       "L 1275 0 \n",
       "L 697 0 \n",
       "L 697 3053 \n",
       "L 147 3053 \n",
       "L 147 3500 \n",
       "L 697 3500 \n",
       "L 697 3744 \n",
       "Q 697 4328 969 4595 \n",
       "Q 1241 4863 1831 4863 \n",
       "L 2375 4863 \n",
       "z\n",
       "\" transform=\"scale(0.015625)\"/>\n",
       "       <path id=\"DejaVuSans-65\" d=\"M 3597 1894 \n",
       "L 3597 1613 \n",
       "L 953 1613 \n",
       "Q 991 1019 1311 708 \n",
       "Q 1631 397 2203 397 \n",
       "Q 2534 397 2845 478 \n",
       "Q 3156 559 3463 722 \n",
       "L 3463 178 \n",
       "Q 3153 47 2828 -22 \n",
       "Q 2503 -91 2169 -91 \n",
       "Q 1331 -91 842 396 \n",
       "Q 353 884 353 1716 \n",
       "Q 353 2575 817 3079 \n",
       "Q 1281 3584 2069 3584 \n",
       "Q 2775 3584 3186 3129 \n",
       "Q 3597 2675 3597 1894 \n",
       "z\n",
       "M 3022 2063 \n",
       "Q 3016 2534 2758 2815 \n",
       "Q 2500 3097 2075 3097 \n",
       "Q 1594 3097 1305 2825 \n",
       "Q 1016 2553 972 2059 \n",
       "L 3022 2063 \n",
       "z\n",
       "\" transform=\"scale(0.015625)\"/>\n",
       "       <path id=\"DejaVuSans-78\" d=\"M 3513 3500 \n",
       "L 2247 1797 \n",
       "L 3578 0 \n",
       "L 2900 0 \n",
       "L 1881 1375 \n",
       "L 863 0 \n",
       "L 184 0 \n",
       "L 1544 1831 \n",
       "L 300 3500 \n",
       "L 978 3500 \n",
       "L 1906 2253 \n",
       "L 2834 3500 \n",
       "L 3513 3500 \n",
       "z\n",
       "\" transform=\"scale(0.015625)\"/>\n",
       "       <path id=\"DejaVuSans-69\" d=\"M 603 3500 \n",
       "L 1178 3500 \n",
       "L 1178 0 \n",
       "L 603 0 \n",
       "L 603 3500 \n",
       "z\n",
       "M 603 4863 \n",
       "L 1178 4863 \n",
       "L 1178 4134 \n",
       "L 603 4134 \n",
       "L 603 4863 \n",
       "z\n",
       "\" transform=\"scale(0.015625)\"/>\n",
       "       <path id=\"DejaVuSans-6d\" d=\"M 3328 2828 \n",
       "Q 3544 3216 3844 3400 \n",
       "Q 4144 3584 4550 3584 \n",
       "Q 5097 3584 5394 3201 \n",
       "Q 5691 2819 5691 2113 \n",
       "L 5691 0 \n",
       "L 5113 0 \n",
       "L 5113 2094 \n",
       "Q 5113 2597 4934 2840 \n",
       "Q 4756 3084 4391 3084 \n",
       "Q 3944 3084 3684 2787 \n",
       "Q 3425 2491 3425 1978 \n",
       "L 3425 0 \n",
       "L 2847 0 \n",
       "L 2847 2094 \n",
       "Q 2847 2600 2669 2842 \n",
       "Q 2491 3084 2119 3084 \n",
       "Q 1678 3084 1418 2786 \n",
       "Q 1159 2488 1159 1978 \n",
       "L 1159 0 \n",
       "L 581 0 \n",
       "L 581 3500 \n",
       "L 1159 3500 \n",
       "L 1159 2956 \n",
       "Q 1356 3278 1631 3431 \n",
       "Q 1906 3584 2284 3584 \n",
       "Q 2666 3584 2933 3390 \n",
       "Q 3200 3197 3328 2828 \n",
       "z\n",
       "\" transform=\"scale(0.015625)\"/>\n",
       "       <path id=\"DejaVuSans-6e\" d=\"M 3513 2113 \n",
       "L 3513 0 \n",
       "L 2938 0 \n",
       "L 2938 2094 \n",
       "Q 2938 2591 2744 2837 \n",
       "Q 2550 3084 2163 3084 \n",
       "Q 1697 3084 1428 2787 \n",
       "Q 1159 2491 1159 1978 \n",
       "L 1159 0 \n",
       "L 581 0 \n",
       "L 581 3500 \n",
       "L 1159 3500 \n",
       "L 1159 2956 \n",
       "Q 1366 3272 1645 3428 \n",
       "Q 1925 3584 2291 3584 \n",
       "Q 2894 3584 3203 3211 \n",
       "Q 3513 2838 3513 2113 \n",
       "z\n",
       "\" transform=\"scale(0.015625)\"/>\n",
       "       <path id=\"DejaVuSans-74\" d=\"M 1172 4494 \n",
       "L 1172 3500 \n",
       "L 2356 3500 \n",
       "L 2356 3053 \n",
       "L 1172 3053 \n",
       "L 1172 1153 \n",
       "Q 1172 725 1289 603 \n",
       "Q 1406 481 1766 481 \n",
       "L 2356 481 \n",
       "L 2356 0 \n",
       "L 1766 0 \n",
       "Q 1100 0 847 248 \n",
       "Q 594 497 594 1153 \n",
       "L 594 3053 \n",
       "L 172 3053 \n",
       "L 172 3500 \n",
       "L 594 3500 \n",
       "L 594 4494 \n",
       "L 1172 4494 \n",
       "z\n",
       "\" transform=\"scale(0.015625)\"/>\n",
       "      </defs>\n",
       "      <use xlink:href=\"#DejaVuSans-47\"/>\n",
       "      <use xlink:href=\"#DejaVuSans-72\" x=\"77.490234\"/>\n",
       "      <use xlink:href=\"#DejaVuSans-6f\" x=\"116.353516\"/>\n",
       "      <use xlink:href=\"#DejaVuSans-75\" x=\"177.535156\"/>\n",
       "      <use xlink:href=\"#DejaVuSans-70\" x=\"240.914062\"/>\n",
       "      <use xlink:href=\"#DejaVuSans-73\" x=\"304.390625\"/>\n",
       "      <use xlink:href=\"#DejaVuSans-20\" x=\"356.490234\"/>\n",
       "      <use xlink:href=\"#DejaVuSans-6f\" x=\"388.277344\"/>\n",
       "      <use xlink:href=\"#DejaVuSans-66\" x=\"449.458984\"/>\n",
       "      <use xlink:href=\"#DejaVuSans-20\" x=\"484.664062\"/>\n",
       "      <use xlink:href=\"#DejaVuSans-65\" x=\"516.451172\"/>\n",
       "      <use xlink:href=\"#DejaVuSans-78\" x=\"576.224609\"/>\n",
       "      <use xlink:href=\"#DejaVuSans-70\" x=\"635.404297\"/>\n",
       "      <use xlink:href=\"#DejaVuSans-65\" x=\"698.880859\"/>\n",
       "      <use xlink:href=\"#DejaVuSans-72\" x=\"760.404297\"/>\n",
       "      <use xlink:href=\"#DejaVuSans-69\" x=\"801.517578\"/>\n",
       "      <use xlink:href=\"#DejaVuSans-6d\" x=\"829.300781\"/>\n",
       "      <use xlink:href=\"#DejaVuSans-65\" x=\"926.712891\"/>\n",
       "      <use xlink:href=\"#DejaVuSans-6e\" x=\"988.236328\"/>\n",
       "      <use xlink:href=\"#DejaVuSans-74\" x=\"1051.615234\"/>\n",
       "      <use xlink:href=\"#DejaVuSans-73\" x=\"1090.824219\"/>\n",
       "     </g>\n",
       "    </g>\n",
       "   </g>\n",
       "   <g id=\"matplotlib.axis_2\">\n",
       "    <g id=\"ytick_1\">\n",
       "     <g id=\"line2d_7\">\n",
       "      <defs>\n",
       "       <path id=\"me7333d197d\" d=\"M 0 0 \n",
       "L -3.5 0 \n",
       "\" style=\"stroke: #000000; stroke-width: 0.8\"/>\n",
       "      </defs>\n",
       "      <g>\n",
       "       <use xlink:href=\"#me7333d197d\" x=\"50.14375\" y=\"245.34\" style=\"stroke: #000000; stroke-width: 0.8\"/>\n",
       "      </g>\n",
       "     </g>\n",
       "     <g id=\"text_8\">\n",
       "      <!-- 0.00 -->\n",
       "      <g transform=\"translate(20.878125 249.139219)scale(0.1 -0.1)\">\n",
       "       <defs>\n",
       "        <path id=\"DejaVuSans-2e\" d=\"M 684 794 \n",
       "L 1344 794 \n",
       "L 1344 0 \n",
       "L 684 0 \n",
       "L 684 794 \n",
       "z\n",
       "\" transform=\"scale(0.015625)\"/>\n",
       "       </defs>\n",
       "       <use xlink:href=\"#DejaVuSans-30\"/>\n",
       "       <use xlink:href=\"#DejaVuSans-2e\" x=\"63.623047\"/>\n",
       "       <use xlink:href=\"#DejaVuSans-30\" x=\"95.410156\"/>\n",
       "       <use xlink:href=\"#DejaVuSans-30\" x=\"159.033203\"/>\n",
       "      </g>\n",
       "     </g>\n",
       "    </g>\n",
       "    <g id=\"ytick_2\">\n",
       "     <g id=\"line2d_8\">\n",
       "      <g>\n",
       "       <use xlink:href=\"#me7333d197d\" x=\"50.14375\" y=\"216.99\" style=\"stroke: #000000; stroke-width: 0.8\"/>\n",
       "      </g>\n",
       "     </g>\n",
       "     <g id=\"text_9\">\n",
       "      <!-- 0.05 -->\n",
       "      <g transform=\"translate(20.878125 220.789219)scale(0.1 -0.1)\">\n",
       "       <use xlink:href=\"#DejaVuSans-30\"/>\n",
       "       <use xlink:href=\"#DejaVuSans-2e\" x=\"63.623047\"/>\n",
       "       <use xlink:href=\"#DejaVuSans-30\" x=\"95.410156\"/>\n",
       "       <use xlink:href=\"#DejaVuSans-35\" x=\"159.033203\"/>\n",
       "      </g>\n",
       "     </g>\n",
       "    </g>\n",
       "    <g id=\"ytick_3\">\n",
       "     <g id=\"line2d_9\">\n",
       "      <g>\n",
       "       <use xlink:href=\"#me7333d197d\" x=\"50.14375\" y=\"188.640001\" style=\"stroke: #000000; stroke-width: 0.8\"/>\n",
       "      </g>\n",
       "     </g>\n",
       "     <g id=\"text_10\">\n",
       "      <!-- 0.10 -->\n",
       "      <g transform=\"translate(20.878125 192.43922)scale(0.1 -0.1)\">\n",
       "       <use xlink:href=\"#DejaVuSans-30\"/>\n",
       "       <use xlink:href=\"#DejaVuSans-2e\" x=\"63.623047\"/>\n",
       "       <use xlink:href=\"#DejaVuSans-31\" x=\"95.410156\"/>\n",
       "       <use xlink:href=\"#DejaVuSans-30\" x=\"159.033203\"/>\n",
       "      </g>\n",
       "     </g>\n",
       "    </g>\n",
       "    <g id=\"ytick_4\">\n",
       "     <g id=\"line2d_10\">\n",
       "      <g>\n",
       "       <use xlink:href=\"#me7333d197d\" x=\"50.14375\" y=\"160.290001\" style=\"stroke: #000000; stroke-width: 0.8\"/>\n",
       "      </g>\n",
       "     </g>\n",
       "     <g id=\"text_11\">\n",
       "      <!-- 0.15 -->\n",
       "      <g transform=\"translate(20.878125 164.08922)scale(0.1 -0.1)\">\n",
       "       <use xlink:href=\"#DejaVuSans-30\"/>\n",
       "       <use xlink:href=\"#DejaVuSans-2e\" x=\"63.623047\"/>\n",
       "       <use xlink:href=\"#DejaVuSans-31\" x=\"95.410156\"/>\n",
       "       <use xlink:href=\"#DejaVuSans-35\" x=\"159.033203\"/>\n",
       "      </g>\n",
       "     </g>\n",
       "    </g>\n",
       "    <g id=\"ytick_5\">\n",
       "     <g id=\"line2d_11\">\n",
       "      <g>\n",
       "       <use xlink:href=\"#me7333d197d\" x=\"50.14375\" y=\"131.940002\" style=\"stroke: #000000; stroke-width: 0.8\"/>\n",
       "      </g>\n",
       "     </g>\n",
       "     <g id=\"text_12\">\n",
       "      <!-- 0.20 -->\n",
       "      <g transform=\"translate(20.878125 135.73922)scale(0.1 -0.1)\">\n",
       "       <use xlink:href=\"#DejaVuSans-30\"/>\n",
       "       <use xlink:href=\"#DejaVuSans-2e\" x=\"63.623047\"/>\n",
       "       <use xlink:href=\"#DejaVuSans-32\" x=\"95.410156\"/>\n",
       "       <use xlink:href=\"#DejaVuSans-30\" x=\"159.033203\"/>\n",
       "      </g>\n",
       "     </g>\n",
       "    </g>\n",
       "    <g id=\"ytick_6\">\n",
       "     <g id=\"line2d_12\">\n",
       "      <g>\n",
       "       <use xlink:href=\"#me7333d197d\" x=\"50.14375\" y=\"103.590002\" style=\"stroke: #000000; stroke-width: 0.8\"/>\n",
       "      </g>\n",
       "     </g>\n",
       "     <g id=\"text_13\">\n",
       "      <!-- 0.25 -->\n",
       "      <g transform=\"translate(20.878125 107.389221)scale(0.1 -0.1)\">\n",
       "       <use xlink:href=\"#DejaVuSans-30\"/>\n",
       "       <use xlink:href=\"#DejaVuSans-2e\" x=\"63.623047\"/>\n",
       "       <use xlink:href=\"#DejaVuSans-32\" x=\"95.410156\"/>\n",
       "       <use xlink:href=\"#DejaVuSans-35\" x=\"159.033203\"/>\n",
       "      </g>\n",
       "     </g>\n",
       "    </g>\n",
       "    <g id=\"ytick_7\">\n",
       "     <g id=\"line2d_13\">\n",
       "      <g>\n",
       "       <use xlink:href=\"#me7333d197d\" x=\"50.14375\" y=\"75.240003\" style=\"stroke: #000000; stroke-width: 0.8\"/>\n",
       "      </g>\n",
       "     </g>\n",
       "     <g id=\"text_14\">\n",
       "      <!-- 0.30 -->\n",
       "      <g transform=\"translate(20.878125 79.039221)scale(0.1 -0.1)\">\n",
       "       <use xlink:href=\"#DejaVuSans-30\"/>\n",
       "       <use xlink:href=\"#DejaVuSans-2e\" x=\"63.623047\"/>\n",
       "       <use xlink:href=\"#DejaVuSans-33\" x=\"95.410156\"/>\n",
       "       <use xlink:href=\"#DejaVuSans-30\" x=\"159.033203\"/>\n",
       "      </g>\n",
       "     </g>\n",
       "    </g>\n",
       "    <g id=\"ytick_8\">\n",
       "     <g id=\"line2d_14\">\n",
       "      <g>\n",
       "       <use xlink:href=\"#me7333d197d\" x=\"50.14375\" y=\"46.890003\" style=\"stroke: #000000; stroke-width: 0.8\"/>\n",
       "      </g>\n",
       "     </g>\n",
       "     <g id=\"text_15\">\n",
       "      <!-- 0.35 -->\n",
       "      <g transform=\"translate(20.878125 50.689222)scale(0.1 -0.1)\">\n",
       "       <use xlink:href=\"#DejaVuSans-30\"/>\n",
       "       <use xlink:href=\"#DejaVuSans-2e\" x=\"63.623047\"/>\n",
       "       <use xlink:href=\"#DejaVuSans-33\" x=\"95.410156\"/>\n",
       "       <use xlink:href=\"#DejaVuSans-35\" x=\"159.033203\"/>\n",
       "      </g>\n",
       "     </g>\n",
       "    </g>\n",
       "    <g id=\"ytick_9\">\n",
       "     <g id=\"line2d_15\">\n",
       "      <g>\n",
       "       <use xlink:href=\"#me7333d197d\" x=\"50.14375\" y=\"18.540003\" style=\"stroke: #000000; stroke-width: 0.8\"/>\n",
       "      </g>\n",
       "     </g>\n",
       "     <g id=\"text_16\">\n",
       "      <!-- 0.40 -->\n",
       "      <g transform=\"translate(20.878125 22.339222)scale(0.1 -0.1)\">\n",
       "       <use xlink:href=\"#DejaVuSans-30\"/>\n",
       "       <use xlink:href=\"#DejaVuSans-2e\" x=\"63.623047\"/>\n",
       "       <use xlink:href=\"#DejaVuSans-34\" x=\"95.410156\"/>\n",
       "       <use xlink:href=\"#DejaVuSans-30\" x=\"159.033203\"/>\n",
       "      </g>\n",
       "     </g>\n",
       "    </g>\n",
       "    <g id=\"text_17\">\n",
       "     <!-- Estimated probability -->\n",
       "     <g transform=\"translate(14.798438 185.463438)rotate(-90)scale(0.1 -0.1)\">\n",
       "      <defs>\n",
       "       <path id=\"DejaVuSans-45\" d=\"M 628 4666 \n",
       "L 3578 4666 \n",
       "L 3578 4134 \n",
       "L 1259 4134 \n",
       "L 1259 2753 \n",
       "L 3481 2753 \n",
       "L 3481 2222 \n",
       "L 1259 2222 \n",
       "L 1259 531 \n",
       "L 3634 531 \n",
       "L 3634 0 \n",
       "L 628 0 \n",
       "L 628 4666 \n",
       "z\n",
       "\" transform=\"scale(0.015625)\"/>\n",
       "       <path id=\"DejaVuSans-61\" d=\"M 2194 1759 \n",
       "Q 1497 1759 1228 1600 \n",
       "Q 959 1441 959 1056 \n",
       "Q 959 750 1161 570 \n",
       "Q 1363 391 1709 391 \n",
       "Q 2188 391 2477 730 \n",
       "Q 2766 1069 2766 1631 \n",
       "L 2766 1759 \n",
       "L 2194 1759 \n",
       "z\n",
       "M 3341 1997 \n",
       "L 3341 0 \n",
       "L 2766 0 \n",
       "L 2766 531 \n",
       "Q 2569 213 2275 61 \n",
       "Q 1981 -91 1556 -91 \n",
       "Q 1019 -91 701 211 \n",
       "Q 384 513 384 1019 \n",
       "Q 384 1609 779 1909 \n",
       "Q 1175 2209 1959 2209 \n",
       "L 2766 2209 \n",
       "L 2766 2266 \n",
       "Q 2766 2663 2505 2880 \n",
       "Q 2244 3097 1772 3097 \n",
       "Q 1472 3097 1187 3025 \n",
       "Q 903 2953 641 2809 \n",
       "L 641 3341 \n",
       "Q 956 3463 1253 3523 \n",
       "Q 1550 3584 1831 3584 \n",
       "Q 2591 3584 2966 3190 \n",
       "Q 3341 2797 3341 1997 \n",
       "z\n",
       "\" transform=\"scale(0.015625)\"/>\n",
       "       <path id=\"DejaVuSans-64\" d=\"M 2906 2969 \n",
       "L 2906 4863 \n",
       "L 3481 4863 \n",
       "L 3481 0 \n",
       "L 2906 0 \n",
       "L 2906 525 \n",
       "Q 2725 213 2448 61 \n",
       "Q 2172 -91 1784 -91 \n",
       "Q 1150 -91 751 415 \n",
       "Q 353 922 353 1747 \n",
       "Q 353 2572 751 3078 \n",
       "Q 1150 3584 1784 3584 \n",
       "Q 2172 3584 2448 3432 \n",
       "Q 2725 3281 2906 2969 \n",
       "z\n",
       "M 947 1747 \n",
       "Q 947 1113 1208 752 \n",
       "Q 1469 391 1925 391 \n",
       "Q 2381 391 2643 752 \n",
       "Q 2906 1113 2906 1747 \n",
       "Q 2906 2381 2643 2742 \n",
       "Q 2381 3103 1925 3103 \n",
       "Q 1469 3103 1208 2742 \n",
       "Q 947 2381 947 1747 \n",
       "z\n",
       "\" transform=\"scale(0.015625)\"/>\n",
       "       <path id=\"DejaVuSans-62\" d=\"M 3116 1747 \n",
       "Q 3116 2381 2855 2742 \n",
       "Q 2594 3103 2138 3103 \n",
       "Q 1681 3103 1420 2742 \n",
       "Q 1159 2381 1159 1747 \n",
       "Q 1159 1113 1420 752 \n",
       "Q 1681 391 2138 391 \n",
       "Q 2594 391 2855 752 \n",
       "Q 3116 1113 3116 1747 \n",
       "z\n",
       "M 1159 2969 \n",
       "Q 1341 3281 1617 3432 \n",
       "Q 1894 3584 2278 3584 \n",
       "Q 2916 3584 3314 3078 \n",
       "Q 3713 2572 3713 1747 \n",
       "Q 3713 922 3314 415 \n",
       "Q 2916 -91 2278 -91 \n",
       "Q 1894 -91 1617 61 \n",
       "Q 1341 213 1159 525 \n",
       "L 1159 0 \n",
       "L 581 0 \n",
       "L 581 4863 \n",
       "L 1159 4863 \n",
       "L 1159 2969 \n",
       "z\n",
       "\" transform=\"scale(0.015625)\"/>\n",
       "       <path id=\"DejaVuSans-6c\" d=\"M 603 4863 \n",
       "L 1178 4863 \n",
       "L 1178 0 \n",
       "L 603 0 \n",
       "L 603 4863 \n",
       "z\n",
       "\" transform=\"scale(0.015625)\"/>\n",
       "       <path id=\"DejaVuSans-79\" d=\"M 2059 -325 \n",
       "Q 1816 -950 1584 -1140 \n",
       "Q 1353 -1331 966 -1331 \n",
       "L 506 -1331 \n",
       "L 506 -850 \n",
       "L 844 -850 \n",
       "Q 1081 -850 1212 -737 \n",
       "Q 1344 -625 1503 -206 \n",
       "L 1606 56 \n",
       "L 191 3500 \n",
       "L 800 3500 \n",
       "L 1894 763 \n",
       "L 2988 3500 \n",
       "L 3597 3500 \n",
       "L 2059 -325 \n",
       "z\n",
       "\" transform=\"scale(0.015625)\"/>\n",
       "      </defs>\n",
       "      <use xlink:href=\"#DejaVuSans-45\"/>\n",
       "      <use xlink:href=\"#DejaVuSans-73\" x=\"63.183594\"/>\n",
       "      <use xlink:href=\"#DejaVuSans-74\" x=\"115.283203\"/>\n",
       "      <use xlink:href=\"#DejaVuSans-69\" x=\"154.492188\"/>\n",
       "      <use xlink:href=\"#DejaVuSans-6d\" x=\"182.275391\"/>\n",
       "      <use xlink:href=\"#DejaVuSans-61\" x=\"279.6875\"/>\n",
       "      <use xlink:href=\"#DejaVuSans-74\" x=\"340.966797\"/>\n",
       "      <use xlink:href=\"#DejaVuSans-65\" x=\"380.175781\"/>\n",
       "      <use xlink:href=\"#DejaVuSans-64\" x=\"441.699219\"/>\n",
       "      <use xlink:href=\"#DejaVuSans-20\" x=\"505.175781\"/>\n",
       "      <use xlink:href=\"#DejaVuSans-70\" x=\"536.962891\"/>\n",
       "      <use xlink:href=\"#DejaVuSans-72\" x=\"600.439453\"/>\n",
       "      <use xlink:href=\"#DejaVuSans-6f\" x=\"639.302734\"/>\n",
       "      <use xlink:href=\"#DejaVuSans-62\" x=\"700.484375\"/>\n",
       "      <use xlink:href=\"#DejaVuSans-61\" x=\"763.960938\"/>\n",
       "      <use xlink:href=\"#DejaVuSans-62\" x=\"825.240234\"/>\n",
       "      <use xlink:href=\"#DejaVuSans-69\" x=\"888.716797\"/>\n",
       "      <use xlink:href=\"#DejaVuSans-6c\" x=\"916.5\"/>\n",
       "      <use xlink:href=\"#DejaVuSans-69\" x=\"944.283203\"/>\n",
       "      <use xlink:href=\"#DejaVuSans-74\" x=\"972.066406\"/>\n",
       "      <use xlink:href=\"#DejaVuSans-79\" x=\"1011.275391\"/>\n",
       "     </g>\n",
       "    </g>\n",
       "   </g>\n",
       "   <g id=\"line2d_16\">\n",
       "    <path d=\"M 65.361932 188.64 \n",
       "L 65.971879 160.289998 \n",
       "L 66.581826 169.739997 \n",
       "L 67.191773 160.289998 \n",
       "L 67.80172 143.279997 \n",
       "L 68.411668 122.490001 \n",
       "L 69.021615 140.039999 \n",
       "L 69.631562 131.94 \n",
       "L 70.241509 138.24 \n",
       "L 70.851456 131.94 \n",
       "L 71.461403 142.249089 \n",
       "L 72.071351 141.389999 \n",
       "L 73.291245 156.239998 \n",
       "L 73.901192 162.180005 \n",
       "L 74.511139 163.833753 \n",
       "L 75.121086 158.622351 \n",
       "L 75.731034 150.839999 \n",
       "L 76.340981 152.829475 \n",
       "L 76.950928 151.784998 \n",
       "L 77.560875 148.139999 \n",
       "L 78.170822 147.403638 \n",
       "L 78.780769 149.196524 \n",
       "L 80.000664 143.279997 \n",
       "L 80.610611 145.024614 \n",
       "L 81.220558 142.440002 \n",
       "L 81.830505 135.99 \n",
       "L 82.440452 135.850347 \n",
       "L 83.0504 131.94 \n",
       "L 83.660347 133.76903 \n",
       "L 84.270294 133.711873 \n",
       "L 85.490188 140.278235 \n",
       "L 86.100135 141.660003 \n",
       "L 86.710083 138.24 \n",
       "L 87.32003 139.602166 \n",
       "L 87.929977 142.384737 \n",
       "L 88.539924 142.116922 \n",
       "L 89.149871 143.279997 \n",
       "L 89.759819 145.769272 \n",
       "L 90.369766 142.739999 \n",
       "L 91.58966 144.826368 \n",
       "L 92.199607 144.539999 \n",
       "L 92.809554 143.033482 \n",
       "L 93.419502 144.003828 \n",
       "L 94.029449 143.752505 \n",
       "L 94.639396 145.825719 \n",
       "L 95.249343 145.548002 \n",
       "L 95.85929 144.169411 \n",
       "L 97.079185 145.847551 \n",
       "L 97.689132 147.689999 \n",
       "L 98.909026 147.127501 \n",
       "L 99.518973 144.871578 \n",
       "L 100.12892 146.603792 \n",
       "L 101.348815 148.005001 \n",
       "L 101.958762 146.812135 \n",
       "L 102.568709 146.572261 \n",
       "L 103.178656 147.239999 \n",
       "L 103.788603 147.000936 \n",
       "L 105.008498 149.980909 \n",
       "L 105.618445 150.557913 \n",
       "L 106.228392 151.951763 \n",
       "L 106.838339 151.661744 \n",
       "L 107.448286 153 \n",
       "L 109.278128 154.464661 \n",
       "L 109.888075 154.16027 \n",
       "L 110.498022 154.620003 \n",
       "L 112.327864 153.747691 \n",
       "L 112.937811 154.189368 \n",
       "L 113.547758 153.911254 \n",
       "L 114.767652 154.758296 \n",
       "L 115.3776 154.483375 \n",
       "L 115.987547 154.889998 \n",
       "L 116.597494 153.952941 \n",
       "L 117.817388 154.750345 \n",
       "L 118.427335 154.49114 \n",
       "L 119.64723 155.25 \n",
       "L 120.257177 154.993844 \n",
       "L 120.867124 152.894346 \n",
       "L 121.477071 153.278714 \n",
       "L 122.087018 154.258084 \n",
       "L 122.696966 154.620003 \n",
       "L 123.306913 154.383754 \n",
       "L 123.91686 155.321444 \n",
       "L 124.526807 155.66143 \n",
       "L 126.356649 158.32515 \n",
       "L 127.576543 157.812814 \n",
       "L 128.796437 156.239998 \n",
       "L 129.406384 157.080568 \n",
       "L 130.016332 156.315701 \n",
       "L 131.236226 155.868438 \n",
       "L 131.846173 156.166366 \n",
       "L 132.45612 156.969735 \n",
       "L 134.285962 156.311054 \n",
       "L 134.895909 155.60609 \n",
       "L 136.115803 157.139998 \n",
       "L 136.72575 156.445933 \n",
       "L 138.555592 158.64992 \n",
       "L 139.165539 157.96623 \n",
       "L 140.385433 158.460967 \n",
       "L 140.995381 159.156004 \n",
       "L 141.605328 158.939998 \n",
       "L 142.215275 159.620317 \n",
       "L 142.825222 159.404065 \n",
       "L 143.435169 160.070232 \n",
       "L 144.045116 159.417694 \n",
       "L 144.655064 159.20794 \n",
       "L 145.265011 159.860453 \n",
       "L 145.874958 159.65053 \n",
       "L 146.484905 159.020601 \n",
       "L 147.094852 158.819997 \n",
       "L 147.704799 159.456179 \n",
       "L 148.314747 159.669202 \n",
       "L 148.924694 159.057396 \n",
       "L 150.144588 159.480005 \n",
       "L 150.754535 158.480425 \n",
       "L 151.364482 157.894228 \n",
       "L 152.584377 159.108749 \n",
       "L 153.194324 159.312411 \n",
       "L 153.804271 159.124929 \n",
       "L 154.414218 158.554286 \n",
       "L 155.024165 158.757568 \n",
       "L 155.634113 158.577588 \n",
       "L 156.24406 159.156004 \n",
       "L 156.854007 159.351259 \n",
       "L 157.463954 158.797895 \n",
       "L 158.683848 158.449088 \n",
       "L 159.293796 158.64387 \n",
       "L 159.903743 158.472695 \n",
       "L 160.51369 159.025991 \n",
       "L 161.123637 158.495701 \n",
       "L 161.733584 158.328682 \n",
       "L 162.953479 158.705218 \n",
       "L 166.613162 157.743592 \n",
       "L 167.833056 158.780237 \n",
       "L 169.05295 158.466316 \n",
       "L 169.662897 157.982444 \n",
       "L 170.272845 157.176422 \n",
       "L 170.882792 157.031378 \n",
       "L 171.492739 156.563999 \n",
       "L 172.712633 156.285766 \n",
       "L 173.932528 156.647263 \n",
       "L 174.542475 157.139998 \n",
       "L 176.982263 155.359566 \n",
       "L 177.592211 155.232975 \n",
       "L 178.202158 155.717422 \n",
       "L 178.812105 155.287057 \n",
       "L 179.422052 154.559686 \n",
       "L 180.641946 154.321578 \n",
       "L 181.251894 153.610682 \n",
       "L 181.861841 153.202505 \n",
       "L 182.471788 153.09233 \n",
       "L 183.081735 153.567838 \n",
       "L 184.301629 153.347142 \n",
       "L 184.911577 153.814116 \n",
       "L 186.131471 154.164123 \n",
       "L 187.351365 153.942988 \n",
       "L 187.961312 154.114756 \n",
       "L 188.57126 154.564139 \n",
       "L 189.181207 154.731175 \n",
       "L 189.791154 153.790248 \n",
       "L 191.620995 154.292885 \n",
       "L 192.230943 153.914642 \n",
       "L 192.84089 153.810002 \n",
       "L 193.450837 153.437631 \n",
       "L 194.060784 153.603678 \n",
       "L 194.670731 153.50197 \n",
       "L 195.280678 153.136265 \n",
       "L 195.890626 153.3014 \n",
       "L 197.11052 152.059352 \n",
       "L 200.770203 151.518027 \n",
       "L 201.38015 151.177501 \n",
       "L 201.990097 151.091997 \n",
       "L 202.600044 150.756371 \n",
       "L 203.819939 151.088685 \n",
       "L 205.039833 151.90826 \n",
       "L 205.64978 151.576368 \n",
       "L 206.259727 151.491726 \n",
       "L 207.479622 151.809229 \n",
       "L 208.089569 151.724681 \n",
       "L 208.699516 152.121359 \n",
       "L 209.91941 152.428234 \n",
       "L 211.749252 152.173194 \n",
       "L 212.359199 152.323889 \n",
       "L 212.969146 151.773338 \n",
       "L 213.579093 152.156803 \n",
       "L 214.189041 152.07429 \n",
       "L 214.798988 152.222924 \n",
       "L 216.018882 151.144837 \n",
       "L 216.628829 151.067715 \n",
       "L 217.238776 151.4448 \n",
       "L 217.848724 151.592987 \n",
       "L 218.458671 151.289999 \n",
       "L 219.068618 151.661744 \n",
       "L 219.678565 151.807328 \n",
       "L 220.288512 152.174123 \n",
       "L 220.898459 151.873593 \n",
       "L 222.118354 152.598142 \n",
       "L 222.728301 152.299463 \n",
       "L 223.338248 151.784998 \n",
       "L 223.948195 151.491726 \n",
       "L 224.558142 151.633516 \n",
       "L 225.778037 152.343415 \n",
       "L 226.387984 152.266419 \n",
       "L 226.997931 151.97684 \n",
       "L 228.827773 152.385727 \n",
       "L 229.43772 152.309999 \n",
       "L 230.047667 151.816386 \n",
       "L 230.657614 152.160224 \n",
       "L 231.267561 152.293845 \n",
       "L 231.877508 152.219561 \n",
       "L 232.487456 152.558187 \n",
       "L 233.097403 152.688918 \n",
       "L 234.317297 151.72381 \n",
       "L 236.757086 151.443195 \n",
       "L 237.367033 151.774986 \n",
       "L 237.97698 151.705138 \n",
       "L 238.586927 151.834737 \n",
       "L 239.196874 152.161678 \n",
       "L 239.806822 152.091222 \n",
       "L 240.416769 152.218125 \n",
       "L 241.026716 152.540351 \n",
       "L 242.24661 152.788455 \n",
       "L 242.856557 152.717053 \n",
       "L 243.466505 153.033179 \n",
       "L 244.076452 153.154287 \n",
       "L 244.686399 152.890172 \n",
       "L 245.296346 153.202505 \n",
       "L 245.906293 153.130908 \n",
       "L 246.51624 152.488999 \n",
       "L 247.126188 152.609903 \n",
       "L 248.346082 152.472557 \n",
       "L 250.175923 151.710393 \n",
       "L 250.785871 151.831475 \n",
       "L 251.395818 151.766469 \n",
       "L 252.615712 152.005913 \n",
       "L 253.225659 151.940974 \n",
       "L 253.835606 151.510643 \n",
       "L 254.445554 151.447715 \n",
       "L 255.665448 152.047667 \n",
       "L 256.275395 151.983633 \n",
       "L 256.885342 152.1 \n",
       "L 257.495289 151.856772 \n",
       "L 258.105237 152.151674 \n",
       "L 259.325131 152.024957 \n",
       "L 259.935078 152.139372 \n",
       "L 260.545025 151.546543 \n",
       "L 261.154972 151.837829 \n",
       "L 261.76492 151.951763 \n",
       "L 262.374867 151.365 \n",
       "L 262.984814 151.305232 \n",
       "L 263.594761 151.593679 \n",
       "L 264.204708 151.186795 \n",
       "L 265.424603 151.069785 \n",
       "L 267.254444 151.409281 \n",
       "L 268.474338 151.971737 \n",
       "L 269.084286 151.911943 \n",
       "L 269.694233 151.683754 \n",
       "L 270.914127 151.90243 \n",
       "L 271.524074 151.676285 \n",
       "L 272.134021 151.784998 \n",
       "L 272.743969 151.726801 \n",
       "L 273.353916 152.000531 \n",
       "L 273.963863 151.942038 \n",
       "L 274.57381 152.213546 \n",
       "L 275.183757 152.319132 \n",
       "L 275.793704 152.587978 \n",
       "L 276.403652 152.201675 \n",
       "L 277.013599 152.143453 \n",
       "L 277.623546 152.248026 \n",
       "L 278.233493 152.027998 \n",
       "L 279.453387 151.913861 \n",
       "L 280.673282 152.121359 \n",
       "L 282.503123 151.951763 \n",
       "L 283.11307 152.054249 \n",
       "L 283.723018 151.998216 \n",
       "L 284.332965 151.784998 \n",
       "L 284.942912 151.887095 \n",
       "L 285.552859 151.831991 \n",
       "L 286.162806 151.620995 \n",
       "L 286.772753 151.255383 \n",
       "L 287.992648 150.839999 \n",
       "L 288.602595 150.943 \n",
       "L 289.212542 150.737285 \n",
       "L 289.822489 150.686346 \n",
       "L 291.042384 150.890946 \n",
       "L 292.262278 150.78933 \n",
       "L 292.872225 151.04214 \n",
       "L 293.482172 150.839999 \n",
       "L 294.092119 150.789736 \n",
       "L 296.531908 151.188163 \n",
       "L 297.141855 150.988819 \n",
       "L 297.751802 150.938953 \n",
       "L 298.36175 151.037392 \n",
       "L 298.971697 151.282969 \n",
       "L 300.191591 150.888969 \n",
       "L 300.801538 150.400467 \n",
       "L 301.411485 150.060616 \n",
       "L 302.021433 150.159798 \n",
       "L 303.241327 150.066598 \n",
       "L 303.851274 150.309641 \n",
       "L 304.461221 150.262901 \n",
       "L 305.071168 150.360309 \n",
       "L 305.681116 150.026584 \n",
       "L 306.291063 149.980909 \n",
       "L 306.90101 150.221112 \n",
       "L 308.730851 149.65875 \n",
       "L 309.950746 149.852687 \n",
       "L 310.560693 149.667545 \n",
       "L 311.17064 149.904361 \n",
       "L 311.780587 149.860004 \n",
       "L 312.390534 149.955519 \n",
       "L 313.610429 149.867211 \n",
       "L 314.220376 150.100639 \n",
       "L 314.830323 149.918048 \n",
       "L 315.44027 150.012263 \n",
       "L 316.050217 149.968396 \n",
       "L 316.660165 150.062035 \n",
       "L 317.270112 149.881304 \n",
       "L 317.880059 149.564823 \n",
       "L 319.7099 149.438325 \n",
       "L 320.319848 149.667207 \n",
       "L 320.929795 149.760002 \n",
       "L 321.539742 149.582996 \n",
       "L 322.149689 149.80991 \n",
       "L 323.369583 149.725615 \n",
       "L 323.979531 149.550358 \n",
       "L 325.199425 149.467871 \n",
       "L 325.809372 149.55939 \n",
       "L 326.419319 149.782662 \n",
       "L 327.029266 149.477444 \n",
       "L 328.249161 149.65875 \n",
       "L 328.859108 149.879724 \n",
       "L 330.079002 150.057929 \n",
       "L 330.688949 150.27647 \n",
       "L 331.908844 150.192741 \n",
       "L 332.518791 149.892845 \n",
       "L 333.128738 149.980909 \n",
       "L 334.348632 150.412397 \n",
       "L 334.95858 150.498694 \n",
       "L 335.568527 150.712301 \n",
       "L 336.178474 150.415286 \n",
       "L 337.398368 150.078925 \n",
       "L 338.008315 150.29156 \n",
       "L 339.22821 150.462001 \n",
       "L 339.838157 150.672371 \n",
       "L 340.448104 150.756371 \n",
       "L 341.667998 150.673478 \n",
       "L 342.277946 150.881542 \n",
       "L 342.887893 150.715655 \n",
       "L 343.49784 150.674576 \n",
       "L 344.107787 150.757469 \n",
       "L 344.717734 150.716475 \n",
       "L 345.937629 151.126984 \n",
       "L 346.547576 151.208187 \n",
       "L 347.157523 151.411495 \n",
       "L 347.76747 151.491726 \n",
       "L 348.377417 151.32774 \n",
       "L 348.987365 151.407811 \n",
       "L 349.597312 151.366124 \n",
       "L 350.207259 151.082306 \n",
       "L 350.817206 151.162385 \n",
       "L 351.427153 151.362769 \n",
       "L 352.0371 151.32153 \n",
       "L 352.647048 151.160341 \n",
       "L 353.256995 151.239575 \n",
       "L 353.866942 151.19886 \n",
       "L 354.476889 151.277688 \n",
       "L 355.086836 151.475293 \n",
       "L 355.696783 151.434341 \n",
       "L 356.306731 151.630796 \n",
       "L 356.916678 151.708061 \n",
       "L 358.136572 151.625862 \n",
       "L 358.746519 151.702654 \n",
       "L 359.356466 151.896524 \n",
       "L 359.966414 151.972438 \n",
       "L 360.576361 152.164947 \n",
       "L 361.186308 152.006665 \n",
       "L 361.796255 152.081894 \n",
       "L 362.406202 152.040612 \n",
       "L 363.016149 152.231415 \n",
       "L 363.626097 152.07429 \n",
       "L 364.236044 152.264239 \n",
       "L 364.845991 152.10768 \n",
       "L 365.455938 152.181786 \n",
       "L 366.065885 151.911259 \n",
       "L 366.675832 151.870907 \n",
       "L 367.895727 151.562537 \n",
       "L 368.505674 151.750847 \n",
       "L 369.115621 151.597515 \n",
       "L 369.725568 151.784998 \n",
       "L 369.725568 151.784998 \n",
       "\" clip-path=\"url(#p216cb4f130)\" style=\"fill: none; stroke: #1f77b4; stroke-width: 1.5; stroke-linecap: square\"/>\n",
       "   </g>\n",
       "   <g id=\"line2d_17\">\n",
       "    <path d=\"M 65.361932 245.34 \n",
       "L 65.971879 188.64 \n",
       "L 66.581826 169.739997 \n",
       "L 67.191773 174.465001 \n",
       "L 67.80172 177.300003 \n",
       "L 68.411668 188.64 \n",
       "L 69.021615 196.739999 \n",
       "L 69.631562 181.552503 \n",
       "L 70.241509 182.34 \n",
       "L 70.851456 188.64 \n",
       "L 71.461403 183.485455 \n",
       "L 72.681298 184.278462 \n",
       "L 73.901192 184.859999 \n",
       "L 74.511139 181.552503 \n",
       "L 75.731034 182.34 \n",
       "L 76.340981 185.65579 \n",
       "L 77.560875 185.94 \n",
       "L 78.780769 176.313916 \n",
       "L 80.000664 177.300003 \n",
       "L 81.220558 173.94 \n",
       "L 81.830505 174.465001 \n",
       "L 82.440452 176.908968 \n",
       "L 83.0504 177.300003 \n",
       "L 83.660347 179.494839 \n",
       "L 84.270294 174.465001 \n",
       "L 84.880241 173.176366 \n",
       "L 86.100135 174.06 \n",
       "L 86.710083 176.040001 \n",
       "L 87.929977 173.71895 \n",
       "L 88.539924 174.101535 \n",
       "L 89.149871 175.8825 \n",
       "L 89.759819 170.661956 \n",
       "L 90.369766 169.739997 \n",
       "L 91.58966 170.599096 \n",
       "L 92.199607 172.26 \n",
       "L 93.419502 170.544254 \n",
       "L 94.029449 170.921254 \n",
       "L 94.639396 168.968573 \n",
       "L 95.249343 169.361999 \n",
       "L 95.85929 168.628233 \n",
       "L 96.469237 166.832305 \n",
       "L 97.689132 167.64 \n",
       "L 98.299079 169.052725 \n",
       "L 100.12892 170.065865 \n",
       "L 100.738868 171.3417 \n",
       "L 101.348815 171.630004 \n",
       "L 101.958762 172.838365 \n",
       "L 102.568709 171.264198 \n",
       "L 103.178656 167.939997 \n",
       "L 103.788603 169.149373 \n",
       "L 104.398551 168.576922 \n",
       "L 105.008498 167.162727 \n",
       "L 105.618445 168.329553 \n",
       "L 106.228392 167.794413 \n",
       "L 106.838339 168.91826 \n",
       "L 107.448286 167.580004 \n",
       "L 108.058234 168.675209 \n",
       "L 108.668181 168.952504 \n",
       "L 109.278128 169.998907 \n",
       "L 109.888075 170.250813 \n",
       "L 110.498022 171.251997 \n",
       "L 112.327864 171.920766 \n",
       "L 112.937811 171.414682 \n",
       "L 113.547758 172.338753 \n",
       "L 114.157705 172.539999 \n",
       "L 114.767652 171.353419 \n",
       "L 115.3776 172.244818 \n",
       "L 115.987547 172.439997 \n",
       "L 117.207441 170.179537 \n",
       "L 117.817388 171.043452 \n",
       "L 119.037283 170.164718 \n",
       "L 119.64723 169.110001 \n",
       "L 121.477071 169.739997 \n",
       "L 122.696966 168.944215 \n",
       "L 123.306913 167.968124 \n",
       "L 123.91686 166.427634 \n",
       "L 124.526807 166.654286 \n",
       "L 125.136754 165.730907 \n",
       "L 126.356649 165.061784 \n",
       "L 126.966596 165.292939 \n",
       "L 127.576543 164.969124 \n",
       "L 128.796437 165.420003 \n",
       "L 130.016332 166.913829 \n",
       "L 130.626279 166.065004 \n",
       "L 131.236226 165.751928 \n",
       "L 132.45612 166.164322 \n",
       "L 133.066067 165.858749 \n",
       "L 134.285962 166.258418 \n",
       "L 134.895909 165.960001 \n",
       "L 135.505856 165.177931 \n",
       "L 136.72575 165.575599 \n",
       "L 137.335698 165.292939 \n",
       "L 138.555592 165.678845 \n",
       "L 139.775486 164.208295 \n",
       "L 140.385433 163.948067 \n",
       "L 140.995381 164.145604 \n",
       "L 141.605328 163.889998 \n",
       "L 142.215275 164.531341 \n",
       "L 142.825222 164.719685 \n",
       "L 143.435169 164.465583 \n",
       "L 144.045116 163.779232 \n",
       "L 145.265011 163.296822 \n",
       "L 146.484905 164.521346 \n",
       "L 147.094852 164.280002 \n",
       "L 147.704799 163.625292 \n",
       "L 148.924694 163.166091 \n",
       "L 149.534641 163.757264 \n",
       "L 150.144588 163.125004 \n",
       "L 151.364482 163.484372 \n",
       "L 151.97443 162.867277 \n",
       "L 152.584377 161.471255 \n",
       "L 155.024165 162.205546 \n",
       "L 155.634113 161.621883 \n",
       "L 156.24406 161.424 \n",
       "L 156.854007 160.853248 \n",
       "L 157.463954 160.663028 \n",
       "L 158.073901 160.84588 \n",
       "L 159.293796 160.472901 \n",
       "L 159.903743 159.926541 \n",
       "L 160.51369 160.109427 \n",
       "L 161.123637 159.572276 \n",
       "L 161.733584 159.398489 \n",
       "L 162.343531 159.935623 \n",
       "L 162.953479 160.113913 \n",
       "L 163.563426 159.94 \n",
       "L 164.173373 160.463928 \n",
       "L 164.78332 159.944267 \n",
       "L 165.393267 160.461816 \n",
       "L 166.613162 160.120241 \n",
       "L 167.223109 159.615002 \n",
       "L 167.833056 159.786744 \n",
       "L 168.443003 160.289998 \n",
       "L 169.05295 160.455792 \n",
       "L 169.662897 160.949304 \n",
       "L 170.882792 161.267585 \n",
       "L 172.102686 162.222959 \n",
       "L 172.712633 162.372201 \n",
       "L 173.932528 163.299221 \n",
       "L 174.542475 163.125004 \n",
       "L 176.982263 163.679678 \n",
       "L 177.592211 163.508113 \n",
       "L 178.202158 163.033552 \n",
       "L 178.812105 163.473692 \n",
       "L 179.422052 163.607557 \n",
       "L 180.031999 163.439998 \n",
       "L 180.641946 163.572629 \n",
       "L 181.861841 163.243128 \n",
       "L 182.471788 163.374713 \n",
       "L 183.081735 163.212678 \n",
       "L 183.691682 163.34308 \n",
       "L 184.301629 163.182862 \n",
       "L 184.911577 162.448631 \n",
       "L 185.521524 162.580908 \n",
       "L 186.131471 162.996782 \n",
       "L 188.57126 163.502072 \n",
       "L 191.620995 162.743364 \n",
       "L 192.230943 162.867277 \n",
       "L 192.84089 162.180005 \n",
       "L 193.450837 162.305404 \n",
       "L 194.060784 162.162169 \n",
       "L 194.670731 162.286478 \n",
       "L 195.280678 162.674581 \n",
       "L 195.890626 162.795351 \n",
       "L 196.500573 162.652504 \n",
       "L 198.330414 163.008492 \n",
       "L 198.940361 163.382731 \n",
       "L 202.600044 162.547965 \n",
       "L 203.209992 162.163352 \n",
       "L 203.819939 162.030787 \n",
       "L 204.429886 161.651793 \n",
       "L 205.039833 160.783045 \n",
       "L 205.64978 160.903637 \n",
       "L 206.259727 161.267585 \n",
       "L 206.869675 161.14172 \n",
       "L 207.479622 161.501536 \n",
       "L 208.089569 161.617025 \n",
       "L 208.699516 161.97178 \n",
       "L 209.309463 161.845062 \n",
       "L 209.91941 161.957645 \n",
       "L 210.529358 162.306528 \n",
       "L 211.139305 162.180005 \n",
       "L 211.749252 162.28979 \n",
       "L 212.359199 162.164382 \n",
       "L 213.579093 162.846146 \n",
       "L 214.189041 162.488569 \n",
       "L 214.798988 161.903419 \n",
       "L 215.408935 162.011659 \n",
       "L 216.628829 161.77012 \n",
       "L 217.848724 161.984225 \n",
       "L 219.068618 161.746717 \n",
       "L 219.678565 160.959688 \n",
       "L 220.288512 160.623529 \n",
       "L 220.898459 160.511487 \n",
       "L 221.508407 160.620935 \n",
       "L 222.118354 160.509772 \n",
       "L 222.728301 160.837296 \n",
       "L 223.338248 160.944235 \n",
       "L 223.948195 161.267585 \n",
       "L 224.558142 160.939241 \n",
       "L 225.16809 161.044566 \n",
       "L 225.778037 160.719543 \n",
       "L 226.387984 161.038871 \n",
       "L 227.607878 161.245617 \n",
       "L 228.827773 160.606175 \n",
       "L 229.43772 160.920003 \n",
       "L 230.047667 160.813064 \n",
       "L 231.267561 159.770767 \n",
       "L 231.877508 160.083066 \n",
       "L 232.487456 159.362184 \n",
       "L 233.097403 159.262824 \n",
       "L 233.70735 159.368884 \n",
       "L 234.317297 159.270217 \n",
       "L 234.927244 158.969037 \n",
       "L 236.147139 158.776654 \n",
       "L 236.757086 158.882554 \n",
       "L 237.367033 158.186292 \n",
       "L 237.97698 158.293526 \n",
       "L 238.586927 157.803157 \n",
       "L 239.806822 158.018048 \n",
       "L 240.416769 157.730623 \n",
       "L 241.026716 157.641385 \n",
       "L 241.636663 157.748281 \n",
       "L 242.24661 157.269901 \n",
       "L 242.856557 156.600617 \n",
       "L 244.686399 156.926442 \n",
       "L 245.296346 157.225138 \n",
       "L 246.51624 157.435974 \n",
       "L 247.126188 156.971441 \n",
       "L 247.736135 157.265997 \n",
       "L 250.175923 157.678814 \n",
       "L 252.005765 157.427296 \n",
       "L 253.225659 156.895342 \n",
       "L 253.835606 157.180646 \n",
       "L 254.445554 156.917174 \n",
       "L 255.055501 157.018849 \n",
       "L 255.665448 156.576427 \n",
       "L 256.275395 156.497962 \n",
       "L 257.495289 156.701396 \n",
       "L 258.105237 156.981014 \n",
       "L 258.715184 156.723963 \n",
       "L 259.325131 156.646275 \n",
       "L 259.935078 156.923443 \n",
       "L 260.545025 156.668977 \n",
       "L 261.154972 156.944346 \n",
       "L 261.76492 156.691392 \n",
       "L 262.984814 156.887999 \n",
       "L 263.594761 157.159329 \n",
       "L 264.204708 157.255597 \n",
       "L 264.814655 156.659818 \n",
       "L 265.424603 156.41234 \n",
       "L 266.03455 156.68182 \n",
       "L 266.644497 156.264475 \n",
       "L 269.694233 155.902505 \n",
       "L 270.30418 156.167895 \n",
       "L 271.524074 156.024955 \n",
       "L 272.134021 155.620588 \n",
       "L 273.353916 155.813689 \n",
       "L 273.963863 155.578774 \n",
       "L 274.57381 155.674881 \n",
       "L 275.183757 155.934788 \n",
       "L 275.793704 155.865439 \n",
       "L 276.403652 156.123284 \n",
       "L 277.013599 156.053792 \n",
       "L 277.623546 156.147161 \n",
       "L 278.233493 155.915998 \n",
       "L 278.84344 156.009232 \n",
       "L 279.453387 155.940854 \n",
       "L 280.063335 156.033489 \n",
       "L 281.283229 156.536624 \n",
       "L 282.503123 156.716469 \n",
       "L 283.723018 156.578438 \n",
       "L 284.332965 156.667499 \n",
       "L 284.942912 156.599003 \n",
       "L 285.552859 156.374252 \n",
       "L 287.992648 156.726886 \n",
       "L 288.602595 156.968341 \n",
       "L 289.212542 157.054402 \n",
       "L 289.822489 156.986345 \n",
       "L 290.432436 157.071891 \n",
       "L 291.652331 156.936775 \n",
       "L 292.262278 157.021772 \n",
       "L 292.872225 156.803104 \n",
       "L 293.482172 157.039202 \n",
       "L 294.702067 156.605255 \n",
       "L 295.312014 156.540004 \n",
       "L 295.921961 156.624696 \n",
       "L 296.531908 156.410524 \n",
       "L 297.141855 156.495123 \n",
       "L 297.751802 156.282412 \n",
       "L 298.36175 155.922765 \n",
       "L 298.971697 156.007973 \n",
       "L 299.581644 155.798185 \n",
       "L 300.801538 155.967908 \n",
       "L 301.411485 156.198252 \n",
       "L 302.021433 156.13589 \n",
       "L 302.63138 156.36462 \n",
       "L 303.241327 156.302149 \n",
       "L 303.851274 156.529291 \n",
       "L 304.461221 156.322443 \n",
       "L 305.071168 156.260563 \n",
       "L 305.681116 155.9119 \n",
       "L 306.291063 155.851363 \n",
       "L 306.90101 156.076781 \n",
       "L 308.120904 155.955792 \n",
       "L 309.950746 156.199705 \n",
       "L 312.390534 155.960693 \n",
       "L 313.000482 156.040983 \n",
       "L 313.610429 155.981916 \n",
       "L 314.220376 155.784498 \n",
       "L 314.830323 155.864636 \n",
       "L 315.44027 155.668468 \n",
       "L 316.050217 155.748497 \n",
       "L 316.660165 155.69085 \n",
       "L 317.270112 155.907396 \n",
       "L 317.880059 155.986268 \n",
       "L 318.490006 155.92846 \n",
       "L 319.099953 155.598993 \n",
       "L 320.319848 155.486064 \n",
       "L 320.929795 155.294999 \n",
       "L 322.759636 155.129366 \n",
       "L 323.369583 155.208397 \n",
       "L 323.979531 155.153648 \n",
       "L 324.589478 155.232257 \n",
       "L 325.199425 155.443278 \n",
       "L 325.809372 155.388369 \n",
       "L 326.419319 155.201537 \n",
       "L 328.859108 156.034224 \n",
       "L 329.469055 156.109352 \n",
       "L 330.079002 155.92345 \n",
       "L 330.688949 155.998485 \n",
       "L 331.298897 156.202933 \n",
       "L 333.128738 156.424093 \n",
       "L 333.738685 156.239998 \n",
       "L 335.568527 156.07581 \n",
       "L 337.398368 156.294367 \n",
       "L 338.008315 156.113441 \n",
       "L 338.618263 156.185883 \n",
       "L 339.22821 156.006004 \n",
       "L 340.448104 156.150397 \n",
       "L 341.058051 156.096957 \n",
       "L 341.667998 156.168638 \n",
       "L 342.277946 155.990771 \n",
       "L 342.887893 156.062367 \n",
       "L 343.49784 156.009587 \n",
       "L 344.107787 155.833232 \n",
       "L 344.717734 155.90471 \n",
       "L 345.327681 155.60609 \n",
       "L 346.547576 155.503638 \n",
       "L 347.157523 155.085355 \n",
       "L 347.76747 155.035472 \n",
       "L 349.597312 155.251352 \n",
       "L 350.207259 155.201537 \n",
       "L 350.817206 155.272837 \n",
       "L 351.427153 155.102557 \n",
       "L 352.0371 155.053376 \n",
       "L 352.647048 155.24466 \n",
       "L 353.866942 155.385572 \n",
       "L 354.476889 155.574947 \n",
       "L 355.086836 155.644414 \n",
       "L 356.916678 156.206177 \n",
       "L 357.526625 155.919377 \n",
       "L 358.136572 155.9874 \n",
       "L 358.746519 155.819874 \n",
       "L 359.966414 155.721198 \n",
       "L 360.576361 155.905977 \n",
       "L 362.406202 156.107214 \n",
       "L 363.016149 155.941843 \n",
       "L 363.626097 155.892856 \n",
       "L 364.236044 155.959552 \n",
       "L 364.845991 155.910734 \n",
       "L 365.455938 155.977117 \n",
       "L 366.065885 155.813689 \n",
       "L 366.675832 155.994548 \n",
       "L 367.895727 155.897748 \n",
       "L 368.505674 155.508073 \n",
       "L 369.725568 155.4138 \n",
       "L 369.725568 155.4138 \n",
       "\" clip-path=\"url(#p216cb4f130)\" style=\"fill: none; stroke: #ff7f0e; stroke-width: 1.5; stroke-linecap: square\"/>\n",
       "   </g>\n",
       "   <g id=\"line2d_18\">\n",
       "    <path d=\"M 65.361932 75.239996 \n",
       "L 66.581826 131.94 \n",
       "L 67.191773 131.94 \n",
       "L 67.80172 143.279997 \n",
       "L 68.411668 141.389999 \n",
       "L 69.021615 131.94 \n",
       "L 69.631562 146.115003 \n",
       "L 70.241509 138.24 \n",
       "L 70.851456 143.279997 \n",
       "L 71.461403 142.249089 \n",
       "L 72.071351 150.839999 \n",
       "L 72.681298 149.386153 \n",
       "L 73.291245 140.039999 \n",
       "L 74.511139 153.202505 \n",
       "L 75.121086 151.951763 \n",
       "L 75.731034 157.139998 \n",
       "L 76.950928 148.95 \n",
       "L 77.560875 150.839999 \n",
       "L 78.170822 149.980909 \n",
       "L 78.780769 151.661744 \n",
       "L 79.390717 155.565002 \n",
       "L 80.000664 154.620003 \n",
       "L 80.610611 147.205383 \n",
       "L 81.830505 150.165003 \n",
       "L 82.440452 149.536552 \n",
       "L 83.0504 145.170004 \n",
       "L 83.660347 142.914191 \n",
       "L 84.270294 142.571248 \n",
       "L 85.490188 138.610588 \n",
       "L 86.100135 140.039999 \n",
       "L 87.929977 134.924214 \n",
       "L 88.539924 134.847692 \n",
       "L 89.149871 133.357499 \n",
       "L 89.759819 133.322925 \n",
       "L 90.369766 134.64 \n",
       "L 90.979713 137.214423 \n",
       "L 92.809554 140.568262 \n",
       "L 93.419502 140.384683 \n",
       "L 94.029449 139.027502 \n",
       "L 94.639396 140.039999 \n",
       "L 95.249343 139.877999 \n",
       "L 95.85929 140.834117 \n",
       "L 96.469237 140.663076 \n",
       "L 97.079185 141.568306 \n",
       "L 97.689132 139.290002 \n",
       "L 98.299079 139.156365 \n",
       "L 98.909026 138.015004 \n",
       "L 100.12892 139.760694 \n",
       "L 100.738868 138.66712 \n",
       "L 101.958762 138.44656 \n",
       "L 103.178656 141.839999 \n",
       "L 103.788603 141.685316 \n",
       "L 104.398551 143.279997 \n",
       "L 105.008498 142.249089 \n",
       "L 105.618445 143.787763 \n",
       "L 106.838339 145.08783 \n",
       "L 107.448286 144.900001 \n",
       "L 108.058234 145.516057 \n",
       "L 108.668181 145.327501 \n",
       "L 109.278128 143.590683 \n",
       "L 109.888075 143.433245 \n",
       "L 110.498022 142.524002 \n",
       "L 111.107969 142.384737 \n",
       "L 112.327864 143.570768 \n",
       "L 112.937811 144.858989 \n",
       "L 113.547758 143.988755 \n",
       "L 115.3776 143.553254 \n",
       "L 115.987547 142.739999 \n",
       "L 116.597494 143.279997 \n",
       "L 117.817388 141.715867 \n",
       "L 118.427335 142.249089 \n",
       "L 119.037283 141.496177 \n",
       "L 119.64723 141.389999 \n",
       "L 120.867124 139.951961 \n",
       "L 121.477071 138.646454 \n",
       "L 122.087018 138.575111 \n",
       "L 122.696966 137.90842 \n",
       "L 123.91686 140.123509 \n",
       "L 125.136754 139.95818 \n",
       "L 125.746701 139.310998 \n",
       "L 126.356649 140.360789 \n",
       "L 126.966596 139.722352 \n",
       "L 128.18649 140.663076 \n",
       "L 128.796437 140.579998 \n",
       "L 129.406384 141.568306 \n",
       "L 130.016332 140.948414 \n",
       "L 130.626279 140.864998 \n",
       "L 131.846173 139.671819 \n",
       "L 133.066067 140.546253 \n",
       "L 133.676015 140.470094 \n",
       "L 134.285962 140.892634 \n",
       "L 134.895909 140.814786 \n",
       "L 135.505856 141.22707 \n",
       "L 136.115803 141.147692 \n",
       "L 136.72575 141.550175 \n",
       "L 137.335698 141.469411 \n",
       "L 137.945645 140.445 \n",
       "L 138.555592 140.843309 \n",
       "L 139.775486 142.542437 \n",
       "L 140.995381 143.279997 \n",
       "L 141.605328 144.089999 \n",
       "L 142.215275 143.994332 \n",
       "L 142.825222 144.34313 \n",
       "L 143.435169 144.246981 \n",
       "L 144.655064 145.790386 \n",
       "L 145.265011 144.826368 \n",
       "L 145.874958 145.155793 \n",
       "L 147.094852 144.960005 \n",
       "L 147.704799 145.698089 \n",
       "L 150.754535 145.210213 \n",
       "L 151.364482 145.516057 \n",
       "L 151.97443 145.421124 \n",
       "L 152.584377 145.721248 \n",
       "L 153.194324 144.844136 \n",
       "L 154.414218 144.668575 \n",
       "L 155.024165 145.348784 \n",
       "L 156.24406 145.170004 \n",
       "L 158.073901 146.022352 \n",
       "L 158.683848 145.562729 \n",
       "L 159.903743 146.115003 \n",
       "L 160.51369 146.024718 \n",
       "L 161.123637 146.294434 \n",
       "L 161.733584 146.917358 \n",
       "L 162.343531 146.823752 \n",
       "L 162.953479 145.674787 \n",
       "L 163.563426 146.289998 \n",
       "L 164.173373 146.54982 \n",
       "L 165.393267 146.37273 \n",
       "L 166.003214 145.944216 \n",
       "L 166.613162 146.539403 \n",
       "L 167.223109 145.439999 \n",
       "L 168.443003 145.281175 \n",
       "L 169.05295 145.534737 \n",
       "L 169.662897 144.7964 \n",
       "L 170.272845 145.049826 \n",
       "L 171.492739 146.196003 \n",
       "L 172.102686 145.792844 \n",
       "L 173.32258 144.363036 \n",
       "L 174.542475 143.595 \n",
       "L 175.152422 143.53061 \n",
       "L 175.762369 143.778461 \n",
       "L 176.372316 143.403935 \n",
       "L 177.592211 143.892978 \n",
       "L 178.202158 144.438392 \n",
       "L 179.422052 144.908619 \n",
       "L 180.031999 144.840005 \n",
       "L 181.251894 145.892356 \n",
       "L 182.471788 145.747778 \n",
       "L 183.081735 145.384329 \n",
       "L 183.691682 144.733844 \n",
       "L 184.911577 144.603958 \n",
       "L 185.521524 144.826368 \n",
       "L 186.131471 143.906834 \n",
       "L 186.741418 144.130503 \n",
       "L 187.351365 143.787763 \n",
       "L 187.961312 143.72911 \n",
       "L 189.181207 144.725293 \n",
       "L 189.791154 144.939517 \n",
       "L 190.401101 144.876411 \n",
       "L 191.011048 144.539999 \n",
       "L 192.230943 144.419424 \n",
       "L 192.84089 144.089999 \n",
       "L 194.060784 144.510284 \n",
       "L 194.670731 144.451268 \n",
       "L 195.280678 143.8629 \n",
       "L 195.890626 144.071166 \n",
       "L 196.500573 144.014998 \n",
       "L 197.720467 144.424409 \n",
       "L 198.330414 144.885207 \n",
       "L 198.940361 145.084095 \n",
       "L 199.550309 145.024614 \n",
       "L 200.160256 145.47649 \n",
       "L 200.770203 145.415784 \n",
       "L 201.38015 145.60875 \n",
       "L 201.990097 145.044005 \n",
       "L 203.819939 144.871578 \n",
       "L 204.429886 144.319912 \n",
       "L 205.039833 144.759131 \n",
       "L 205.64978 144.949089 \n",
       "L 206.259727 144.893022 \n",
       "L 206.869675 144.594081 \n",
       "L 207.479622 144.782307 \n",
       "L 208.089569 144.727659 \n",
       "L 208.699516 145.153985 \n",
       "L 210.529358 145.699838 \n",
       "L 211.139305 145.406254 \n",
       "L 212.359199 145.763552 \n",
       "L 212.969146 145.473339 \n",
       "L 214.189041 145.36286 \n",
       "L 215.408935 145.713281 \n",
       "L 216.018882 145.657746 \n",
       "L 216.628829 146.058074 \n",
       "L 217.238776 145.774797 \n",
       "L 217.848724 145.719685 \n",
       "L 218.458671 146.115003 \n",
       "L 219.068618 146.05897 \n",
       "L 220.288512 146.837651 \n",
       "L 221.508407 147.162961 \n",
       "L 222.118354 146.884188 \n",
       "L 222.728301 147.045411 \n",
       "L 223.948195 146.92966 \n",
       "L 224.558142 146.439621 \n",
       "L 225.778037 146.759321 \n",
       "L 226.387984 146.703397 \n",
       "L 226.997931 147.074213 \n",
       "L 227.607878 147.017529 \n",
       "L 228.217825 146.749706 \n",
       "L 228.827773 146.694652 \n",
       "L 229.43772 146.850003 \n",
       "L 230.657614 147.574189 \n",
       "L 231.267561 147.516922 \n",
       "L 231.877508 146.839273 \n",
       "L 232.487456 146.99127 \n",
       "L 233.097403 146.525868 \n",
       "L 233.70735 146.882599 \n",
       "L 234.317297 146.828847 \n",
       "L 234.927244 146.978715 \n",
       "L 236.147139 147.678796 \n",
       "L 236.757086 147.421913 \n",
       "L 237.367033 147.767915 \n",
       "L 237.97698 147.512537 \n",
       "L 238.586927 147.656845 \n",
       "L 239.196874 147.205383 \n",
       "L 241.636663 146.994827 \n",
       "L 242.24661 146.748253 \n",
       "L 242.856557 146.697533 \n",
       "L 243.466505 146.453654 \n",
       "L 244.686399 146.73966 \n",
       "L 245.296346 146.689668 \n",
       "L 245.906293 146.830909 \n",
       "L 246.51624 146.780942 \n",
       "L 247.736135 147.438 \n",
       "L 248.956029 146.959865 \n",
       "L 249.565976 146.910295 \n",
       "L 250.175923 147.047565 \n",
       "L 250.785871 146.812135 \n",
       "L 251.395818 146.763528 \n",
       "L 252.615712 146.299089 \n",
       "L 253.225659 146.436114 \n",
       "L 253.835606 146.755164 \n",
       "L 254.445554 146.525209 \n",
       "L 257.495289 147.191586 \n",
       "L 258.715184 146.73906 \n",
       "L 259.325131 146.692667 \n",
       "L 259.935078 146.469378 \n",
       "L 260.545025 146.600751 \n",
       "L 261.154972 146.907389 \n",
       "L 261.76492 146.509967 \n",
       "L 262.984814 146.420306 \n",
       "L 263.594761 146.201968 \n",
       "L 265.424603 146.588939 \n",
       "L 266.644497 146.500428 \n",
       "L 267.254444 146.285782 \n",
       "L 268.474338 146.539403 \n",
       "L 269.084286 146.157316 \n",
       "L 269.694233 146.283754 \n",
       "L 270.30418 146.072936 \n",
       "L 270.914127 146.031122 \n",
       "L 271.524074 146.324073 \n",
       "L 272.134021 146.448534 \n",
       "L 272.743969 146.405985 \n",
       "L 273.353916 146.529475 \n",
       "L 273.963863 146.321631 \n",
       "L 274.57381 145.950172 \n",
       "L 275.183757 145.745218 \n",
       "L 275.793704 145.869189 \n",
       "L 276.403652 146.155854 \n",
       "L 277.013599 146.115003 \n",
       "L 278.84344 146.47846 \n",
       "L 279.453387 146.276083 \n",
       "L 280.063335 146.396092 \n",
       "L 280.673282 146.675592 \n",
       "L 281.283229 146.793801 \n",
       "L 283.11307 146.669331 \n",
       "L 284.332965 146.902505 \n",
       "L 284.942912 146.703988 \n",
       "L 286.162806 146.622642 \n",
       "L 286.772753 146.893845 \n",
       "L 287.382701 146.542191 \n",
       "L 287.992648 146.812135 \n",
       "L 288.602595 146.771606 \n",
       "L 289.212542 146.885379 \n",
       "L 289.822489 147.152197 \n",
       "L 290.432436 146.804599 \n",
       "L 291.652331 147.029518 \n",
       "L 292.262278 146.837051 \n",
       "L 292.872225 146.948822 \n",
       "L 294.702067 146.829388 \n",
       "L 295.312014 146.940002 \n",
       "L 295.921961 146.900427 \n",
       "L 296.531908 147.159472 \n",
       "L 298.36175 147.484385 \n",
       "L 298.971697 147.443906 \n",
       "L 299.581644 147.550912 \n",
       "L 300.191591 147.510467 \n",
       "L 301.411485 147.722477 \n",
       "L 302.021433 147.536143 \n",
       "L 303.241327 146.876322 \n",
       "L 303.851274 146.838217 \n",
       "L 306.291063 147.260454 \n",
       "L 307.510957 146.613618 \n",
       "L 308.120904 146.861055 \n",
       "L 308.730851 146.965501 \n",
       "L 309.340799 146.92803 \n",
       "L 310.560693 147.135037 \n",
       "L 311.17064 146.957077 \n",
       "L 311.780587 147.060002 \n",
       "L 313.000482 146.985702 \n",
       "L 313.610429 147.087799 \n",
       "L 315.44027 146.977228 \n",
       "L 316.050217 147.078353 \n",
       "L 316.660165 147.041693 \n",
       "L 319.099953 147.440721 \n",
       "L 319.7099 147.26799 \n",
       "L 321.539742 147.562808 \n",
       "L 322.149689 147.257066 \n",
       "L 322.759636 147.354896 \n",
       "L 323.369583 147.051089 \n",
       "L 323.979531 147.015527 \n",
       "L 324.589478 147.113239 \n",
       "L 325.199425 147.077703 \n",
       "L 325.809372 146.909864 \n",
       "L 326.419319 147.139304 \n",
       "L 327.029266 147.103954 \n",
       "L 327.639214 147.200323 \n",
       "L 328.249161 147.427498 \n",
       "L 328.859108 147.391734 \n",
       "L 330.688949 147.675551 \n",
       "L 331.298897 147.899043 \n",
       "L 331.908844 147.992058 \n",
       "L 332.518791 148.213809 \n",
       "L 333.128738 148.305683 \n",
       "L 333.738685 148.139999 \n",
       "L 334.348632 148.231628 \n",
       "L 334.95858 148.066865 \n",
       "L 336.178474 148.249218 \n",
       "L 336.788421 148.212651 \n",
       "L 338.618263 148.482765 \n",
       "L 339.22821 148.698002 \n",
       "L 339.838157 148.409402 \n",
       "L 341.058051 148.336691 \n",
       "L 342.887893 148.601844 \n",
       "L 343.49784 148.813524 \n",
       "L 344.717734 148.740002 \n",
       "L 345.327681 148.456961 \n",
       "L 345.937629 148.544121 \n",
       "L 346.547576 148.385458 \n",
       "L 347.157523 148.594857 \n",
       "L 347.76747 148.681163 \n",
       "L 348.987365 148.609313 \n",
       "L 350.207259 149.022695 \n",
       "L 350.817206 148.865376 \n",
       "L 351.427153 148.588089 \n",
       "L 352.647048 148.51754 \n",
       "L 353.256995 148.602368 \n",
       "L 353.866942 148.56722 \n",
       "L 354.476889 148.77095 \n",
       "L 355.086836 148.735591 \n",
       "L 356.916678 148.985511 \n",
       "L 357.526625 149.18625 \n",
       "L 358.136572 149.150393 \n",
       "L 358.746519 149.349957 \n",
       "L 359.356466 149.313914 \n",
       "L 359.966414 149.395168 \n",
       "L 360.576361 149.242267 \n",
       "L 361.796255 149.404064 \n",
       "L 362.406202 149.368283 \n",
       "L 363.016149 149.216692 \n",
       "L 364.236044 149.377273 \n",
       "L 364.845991 149.341829 \n",
       "L 365.455938 149.191522 \n",
       "L 366.065885 149.271382 \n",
       "L 367.895727 149.166758 \n",
       "L 368.505674 149.246027 \n",
       "L 369.115621 149.438595 \n",
       "L 369.725568 149.176804 \n",
       "L 369.725568 149.176804 \n",
       "\" clip-path=\"url(#p216cb4f130)\" style=\"fill: none; stroke: #2ca02c; stroke-width: 1.5; stroke-linecap: square\"/>\n",
       "   </g>\n",
       "   <g id=\"line2d_19\">\n",
       "    <path d=\"M 65.361932 131.94 \n",
       "L 65.971879 131.94 \n",
       "L 66.581826 113.040001 \n",
       "L 67.191773 146.115003 \n",
       "L 67.80172 143.279997 \n",
       "L 68.411668 150.839999 \n",
       "L 69.021615 148.139999 \n",
       "L 69.631562 146.115003 \n",
       "L 70.241509 150.839999 \n",
       "L 70.851456 154.620003 \n",
       "L 71.461403 147.403638 \n",
       "L 72.071351 146.115003 \n",
       "L 72.681298 136.301538 \n",
       "L 73.291245 131.94 \n",
       "L 73.901192 139.500001 \n",
       "L 74.511139 135.483755 \n",
       "L 75.731034 141.389999 \n",
       "L 76.340981 137.90842 \n",
       "L 76.950928 137.610003 \n",
       "L 77.560875 134.64 \n",
       "L 78.170822 139.671819 \n",
       "L 78.780769 136.87044 \n",
       "L 80.000664 136.476001 \n",
       "L 80.610611 138.482307 \n",
       "L 81.830505 146.115003 \n",
       "L 82.440452 149.536552 \n",
       "L 84.270294 153.202505 \n",
       "L 84.880241 154.276367 \n",
       "L 86.710083 161.865002 \n",
       "L 87.929977 160.289998 \n",
       "L 89.149871 161.707505 \n",
       "L 89.759819 160.981461 \n",
       "L 90.979713 156.993493 \n",
       "L 91.58966 156.424093 \n",
       "L 92.199607 157.139998 \n",
       "L 92.809554 159.057396 \n",
       "L 93.419502 156.067665 \n",
       "L 94.029449 156.746251 \n",
       "L 94.639396 158.554286 \n",
       "L 96.469237 160.289998 \n",
       "L 97.079185 158.685287 \n",
       "L 98.299079 159.774544 \n",
       "L 98.909026 161.302504 \n",
       "L 99.518973 160.787371 \n",
       "L 100.12892 159.312411 \n",
       "L 100.738868 156.926442 \n",
       "L 101.348815 155.565002 \n",
       "L 102.568709 154.802906 \n",
       "L 103.178656 156.239998 \n",
       "L 103.788603 156.746251 \n",
       "L 104.398551 153.747691 \n",
       "L 105.008498 155.135457 \n",
       "L 105.618445 152.250451 \n",
       "L 106.228392 153.61941 \n",
       "L 108.058234 150.307604 \n",
       "L 108.668181 147.689999 \n",
       "L 111.717917 150.349089 \n",
       "L 112.327864 151.566922 \n",
       "L 112.937811 149.165314 \n",
       "L 114.157705 147.340001 \n",
       "L 115.3776 146.968914 \n",
       "L 115.987547 148.139999 \n",
       "L 116.597494 148.616469 \n",
       "L 117.207441 149.741161 \n",
       "L 117.817388 148.884825 \n",
       "L 118.427335 149.336591 \n",
       "L 119.037283 149.141124 \n",
       "L 120.257177 150.009229 \n",
       "L 120.867124 151.045435 \n",
       "L 121.477071 151.449675 \n",
       "L 122.087018 151.242127 \n",
       "L 123.306913 152.021247 \n",
       "L 123.91686 151.814231 \n",
       "L 124.526807 152.189998 \n",
       "L 125.136754 153.130908 \n",
       "L 125.746701 152.919 \n",
       "L 126.356649 152.1499 \n",
       "L 126.966596 151.951763 \n",
       "L 127.576543 152.307963 \n",
       "L 128.18649 152.112116 \n",
       "L 128.796437 152.460002 \n",
       "L 129.406384 150.6617 \n",
       "L 130.016332 150.486731 \n",
       "L 130.626279 149.790004 \n",
       "L 131.236226 150.666609 \n",
       "L 132.45612 150.329191 \n",
       "L 133.676015 151.007254 \n",
       "L 134.285962 149.84526 \n",
       "L 134.895909 150.18261 \n",
       "L 135.505856 150.02535 \n",
       "L 136.115803 150.839999 \n",
       "L 136.72575 150.679832 \n",
       "L 137.335698 149.56941 \n",
       "L 137.945645 149.895 \n",
       "L 138.555592 149.278014 \n",
       "L 139.165539 149.600655 \n",
       "L 139.775486 150.379023 \n",
       "L 140.385433 150.687579 \n",
       "L 140.995381 150.084003 \n",
       "L 141.605328 150.389999 \n",
       "L 142.215275 148.458896 \n",
       "L 142.825222 149.215779 \n",
       "L 143.435169 148.202791 \n",
       "L 144.045116 148.95 \n",
       "L 145.265011 149.551363 \n",
       "L 145.874958 148.992634 \n",
       "L 147.094852 149.580005 \n",
       "L 147.704799 150.284116 \n",
       "L 148.314747 150.150217 \n",
       "L 148.924694 150.839999 \n",
       "L 149.534641 150.296114 \n",
       "L 150.144588 150.570004 \n",
       "L 150.754535 151.242127 \n",
       "L 151.364482 151.505498 \n",
       "L 152.584377 151.233754 \n",
       "L 153.194324 150.709657 \n",
       "L 153.804271 151.35781 \n",
       "L 158.073901 153.063528 \n",
       "L 159.293796 152.790973 \n",
       "L 159.903743 153.020768 \n",
       "L 160.51369 152.525355 \n",
       "L 161.123637 152.753924 \n",
       "L 161.733584 152.623016 \n",
       "L 162.343531 152.84813 \n",
       "L 162.953479 153.422609 \n",
       "L 163.563426 152.589998 \n",
       "L 164.173373 152.811166 \n",
       "L 165.393267 152.558187 \n",
       "L 166.003214 153.117111 \n",
       "L 166.613162 152.990301 \n",
       "L 167.223109 153.202505 \n",
       "L 167.833056 153.076691 \n",
       "L 168.443003 152.618825 \n",
       "L 169.05295 152.497895 \n",
       "L 170.272845 152.915722 \n",
       "L 170.882792 152.143453 \n",
       "L 172.102686 152.558187 \n",
       "L 172.712633 153.082377 \n",
       "L 173.32258 152.645059 \n",
       "L 173.932528 152.529385 \n",
       "L 174.542475 152.1 \n",
       "L 175.152422 152.615142 \n",
       "L 175.762369 151.87846 \n",
       "L 176.372316 152.079342 \n",
       "L 176.982263 151.661744 \n",
       "L 178.202158 152.059352 \n",
       "L 178.812105 151.951763 \n",
       "L 179.422052 152.146917 \n",
       "L 180.031999 152.040004 \n",
       "L 180.641946 152.232632 \n",
       "L 181.251894 151.829532 \n",
       "L 182.471788 151.62342 \n",
       "L 183.691682 152.003082 \n",
       "L 184.301629 151.900715 \n",
       "L 184.911577 152.375031 \n",
       "L 185.521524 151.985458 \n",
       "L 186.131471 152.169653 \n",
       "L 186.741418 151.784998 \n",
       "L 187.351365 152.250451 \n",
       "L 187.961312 152.1499 \n",
       "L 188.57126 151.491726 \n",
       "L 189.181207 151.117944 \n",
       "L 189.791154 151.577559 \n",
       "L 190.401101 151.482238 \n",
       "L 191.011048 151.661744 \n",
       "L 191.620995 151.294324 \n",
       "L 192.84089 152.189998 \n",
       "L 194.670731 152.703383 \n",
       "L 195.890626 152.510231 \n",
       "L 197.720467 153.007435 \n",
       "L 198.940361 152.300452 \n",
       "L 199.550309 152.721446 \n",
       "L 200.160256 152.372437 \n",
       "L 200.770203 152.789325 \n",
       "L 201.38015 152.949374 \n",
       "L 201.990097 153.360002 \n",
       "L 202.600044 153.265221 \n",
       "L 203.209992 153.670839 \n",
       "L 205.64978 154.276367 \n",
       "L 206.259727 154.180091 \n",
       "L 206.869675 154.327982 \n",
       "L 207.479622 153.747691 \n",
       "L 208.089569 153.896173 \n",
       "L 208.699516 152.842123 \n",
       "L 209.309463 152.514684 \n",
       "L 210.529358 152.816987 \n",
       "L 211.139305 153.202505 \n",
       "L 211.749252 153.114272 \n",
       "L 212.359199 153.261073 \n",
       "L 212.969146 153.64 \n",
       "L 213.579093 153.783447 \n",
       "L 214.189041 153.462859 \n",
       "L 215.408935 153.747691 \n",
       "L 216.018882 154.11702 \n",
       "L 216.628829 153.800243 \n",
       "L 217.238776 153.259197 \n",
       "L 217.848724 153.40016 \n",
       "L 218.458671 153.315003 \n",
       "L 219.068618 152.782296 \n",
       "L 220.288512 153.063528 \n",
       "L 220.898459 153.423986 \n",
       "L 221.508407 153.340392 \n",
       "L 222.118354 153.477214 \n",
       "L 222.728301 153.175139 \n",
       "L 223.948195 153.446899 \n",
       "L 224.558142 153.797632 \n",
       "L 226.997931 153.468951 \n",
       "L 227.607878 152.963594 \n",
       "L 228.217825 153.308286 \n",
       "L 229.43772 153.570001 \n",
       "L 230.047667 153.280962 \n",
       "L 230.657614 153.410957 \n",
       "L 231.267561 153.747691 \n",
       "L 231.877508 153.668101 \n",
       "L 233.70735 154.04686 \n",
       "L 234.317297 154.375254 \n",
       "L 234.927244 154.498068 \n",
       "L 235.537191 154.8225 \n",
       "L 237.367033 155.180989 \n",
       "L 237.97698 155.099152 \n",
       "L 238.586927 155.415794 \n",
       "L 239.196874 155.135457 \n",
       "L 240.416769 155.368125 \n",
       "L 241.026716 155.679444 \n",
       "L 241.636663 155.206555 \n",
       "L 242.856557 155.823904 \n",
       "L 244.686399 155.581022 \n",
       "L 245.296346 154.926489 \n",
       "L 245.906293 154.849088 \n",
       "L 246.51624 154.962482 \n",
       "L 247.736135 154.808998 \n",
       "L 248.346082 154.921395 \n",
       "L 248.956029 154.845303 \n",
       "L 252.005765 155.395702 \n",
       "L 252.615712 155.687732 \n",
       "L 253.835606 155.900325 \n",
       "L 254.445554 156.18791 \n",
       "L 255.055501 156.110197 \n",
       "L 255.665448 156.395273 \n",
       "L 256.275395 156.497962 \n",
       "L 257.495289 156.342535 \n",
       "L 258.105237 155.907827 \n",
       "L 259.325131 156.113044 \n",
       "L 259.935078 155.683127 \n",
       "L 260.545025 155.785799 \n",
       "L 261.154972 155.359566 \n",
       "L 262.984814 155.66677 \n",
       "L 263.594761 155.941843 \n",
       "L 264.204708 156.041836 \n",
       "L 264.814655 155.968356 \n",
       "L 265.424603 156.239998 \n",
       "L 266.03455 156.338184 \n",
       "L 266.644497 156.264475 \n",
       "L 267.254444 156.361993 \n",
       "L 267.864391 156.118384 \n",
       "L 268.474338 156.045993 \n",
       "L 269.084286 156.312541 \n",
       "L 269.694233 156.071247 \n",
       "L 270.914127 156.263968 \n",
       "L 271.524074 156.192211 \n",
       "L 272.134021 156.28765 \n",
       "L 272.743969 156.216248 \n",
       "L 273.353916 155.979475 \n",
       "L 273.963863 156.239998 \n",
       "L 274.57381 156.169365 \n",
       "L 275.793704 155.373819 \n",
       "L 277.013599 155.239143 \n",
       "L 277.623546 155.334844 \n",
       "L 278.233493 155.268005 \n",
       "L 278.84344 155.040001 \n",
       "L 279.453387 155.135457 \n",
       "L 280.063335 154.58788 \n",
       "L 280.673282 154.203563 \n",
       "L 281.283229 154.460284 \n",
       "L 282.503123 154.334116 \n",
       "L 283.723018 153.893486 \n",
       "L 284.332965 153.989998 \n",
       "L 285.552859 153.868181 \n",
       "L 286.162806 153.651575 \n",
       "L 286.772753 153.591926 \n",
       "L 287.382701 153.843291 \n",
       "L 287.992648 153.628527 \n",
       "L 288.602595 153.260439 \n",
       "L 289.822489 153.452197 \n",
       "L 290.432436 153.240812 \n",
       "L 291.042384 153.48906 \n",
       "L 291.652331 153.431134 \n",
       "L 292.262278 153.525525 \n",
       "L 292.872225 153.164603 \n",
       "L 293.482172 153.108003 \n",
       "L 294.092119 153.202505 \n",
       "L 294.702067 153.446899 \n",
       "L 295.312014 153.539998 \n",
       "L 296.531908 153.426318 \n",
       "L 297.751802 153.016966 \n",
       "L 298.36175 152.961938 \n",
       "L 298.971697 153.054842 \n",
       "L 300.191591 152.945445 \n",
       "L 300.801538 153.037674 \n",
       "L 301.411485 152.983297 \n",
       "L 302.021433 153.220721 \n",
       "L 302.63138 153.311539 \n",
       "L 303.241327 153.54691 \n",
       "L 303.851274 153.347142 \n",
       "L 305.071168 153.526294 \n",
       "L 305.681116 153.758733 \n",
       "L 306.291063 153.703638 \n",
       "L 307.510957 153.879199 \n",
       "L 308.730851 153.769497 \n",
       "L 309.950746 153.378809 \n",
       "L 310.560693 153.466307 \n",
       "L 311.17064 153.413019 \n",
       "L 312.390534 153.586552 \n",
       "L 313.610429 153.480442 \n",
       "L 316.050217 153.821796 \n",
       "L 316.660165 153.494239 \n",
       "L 317.270112 153.442176 \n",
       "L 317.880059 153.526987 \n",
       "L 318.490006 153.747691 \n",
       "L 319.099953 153.6954 \n",
       "L 319.7099 153.914642 \n",
       "L 320.319848 153.997518 \n",
       "L 320.929795 153.944999 \n",
       "L 321.539742 154.02741 \n",
       "L 322.149689 153.840714 \n",
       "L 322.759636 153.922981 \n",
       "L 323.369583 153.737408 \n",
       "L 323.979531 153.686123 \n",
       "L 324.589478 153.768171 \n",
       "L 325.199425 153.982622 \n",
       "L 325.809372 154.063597 \n",
       "L 326.419319 153.879858 \n",
       "L 327.029266 153.960697 \n",
       "L 327.639214 153.909607 \n",
       "L 328.249161 153.465005 \n",
       "L 329.469055 153.365806 \n",
       "L 330.688949 153.527612 \n",
       "L 331.298897 153.088968 \n",
       "L 331.908844 152.911235 \n",
       "L 332.518791 152.863465 \n",
       "L 333.128738 152.944778 \n",
       "L 333.738685 152.897143 \n",
       "L 334.348632 152.593166 \n",
       "L 335.568527 152.244731 \n",
       "L 336.178474 152.326517 \n",
       "L 336.788421 152.153676 \n",
       "L 337.398368 152.235302 \n",
       "L 338.008315 152.189998 \n",
       "L 338.618263 152.271185 \n",
       "L 339.22821 152.226 \n",
       "L 339.838157 152.306738 \n",
       "L 340.448104 152.136238 \n",
       "L 341.058051 152.341987 \n",
       "L 341.667998 152.421939 \n",
       "L 342.277946 152.25231 \n",
       "L 344.107787 152.119255 \n",
       "L 344.717734 151.951763 \n",
       "L 345.327681 152.154783 \n",
       "L 347.76747 152.469313 \n",
       "L 348.377417 152.303223 \n",
       "L 348.987365 152.381207 \n",
       "L 353.256995 152.078692 \n",
       "L 353.866942 151.796961 \n",
       "L 354.476889 151.755156 \n",
       "L 355.086836 151.594415 \n",
       "L 356.916678 150.761085 \n",
       "L 357.526625 150.721874 \n",
       "L 358.136572 150.564951 \n",
       "L 358.746519 150.055766 \n",
       "L 359.356466 150.135651 \n",
       "L 359.966414 150.098062 \n",
       "L 361.186308 150.256666 \n",
       "L 361.796255 150.102633 \n",
       "L 363.016149 150.028341 \n",
       "L 363.626097 150.107144 \n",
       "L 364.236044 149.492753 \n",
       "L 365.455938 149.766575 \n",
       "L 366.675832 149.923641 \n",
       "L 367.895727 150.307604 \n",
       "L 368.505674 150.043017 \n",
       "L 369.115621 150.006737 \n",
       "L 369.725568 150.084003 \n",
       "L 369.725568 150.084003 \n",
       "\" clip-path=\"url(#p216cb4f130)\" style=\"fill: none; stroke: #d62728; stroke-width: 1.5; stroke-linecap: square\"/>\n",
       "   </g>\n",
       "   <g id=\"line2d_20\">\n",
       "    <path d=\"M 65.361932 245.34 \n",
       "L 65.971879 216.99 \n",
       "L 66.581826 207.539999 \n",
       "L 67.191773 188.64 \n",
       "L 67.80172 177.300003 \n",
       "L 68.411668 169.739997 \n",
       "L 69.021615 148.139999 \n",
       "L 69.631562 153.202505 \n",
       "L 70.241509 157.139998 \n",
       "L 70.851456 154.620003 \n",
       "L 71.461403 162.867277 \n",
       "L 72.071351 165.015002 \n",
       "L 72.681298 171.193843 \n",
       "L 73.291245 172.439997 \n",
       "L 73.901192 162.180005 \n",
       "L 74.511139 156.746251 \n",
       "L 75.731034 160.289998 \n",
       "L 76.950928 163.125004 \n",
       "L 77.560875 164.339998 \n",
       "L 78.170822 168.021817 \n",
       "L 79.390717 165.015002 \n",
       "L 80.610611 166.832305 \n",
       "L 81.220558 163.439998 \n",
       "L 81.830505 164.339998 \n",
       "L 82.440452 161.267585 \n",
       "L 83.0504 164.070003 \n",
       "L 83.660347 163.033552 \n",
       "L 84.270294 165.605626 \n",
       "L 84.880241 164.585457 \n",
       "L 85.490188 165.292939 \n",
       "L 86.100135 161.1 \n",
       "L 86.710083 160.289998 \n",
       "L 87.929977 161.782109 \n",
       "L 89.149871 160.289998 \n",
       "L 89.759819 160.981461 \n",
       "L 90.369766 162.989998 \n",
       "L 90.979713 160.949304 \n",
       "L 91.58966 157.712728 \n",
       "L 92.199607 155.880005 \n",
       "L 92.809554 155.359566 \n",
       "L 93.419502 157.274041 \n",
       "L 94.029449 155.565002 \n",
       "L 96.469237 153.747691 \n",
       "L 97.079185 153.336226 \n",
       "L 97.689132 150.839999 \n",
       "L 98.299079 150.496363 \n",
       "L 98.909026 151.177501 \n",
       "L 99.518973 152.829475 \n",
       "L 100.12892 149.536552 \n",
       "L 100.738868 149.238304 \n",
       "L 101.348815 149.895 \n",
       "L 101.958762 148.671151 \n",
       "L 102.568709 150.230322 \n",
       "L 103.178656 150.839999 \n",
       "L 103.788603 149.65875 \n",
       "L 105.618445 151.404178 \n",
       "L 106.228392 149.450297 \n",
       "L 106.838339 148.374787 \n",
       "L 107.448286 148.95 \n",
       "L 108.058234 147.911835 \n",
       "L 109.888075 149.562972 \n",
       "L 110.498022 149.327998 \n",
       "L 111.717917 150.349089 \n",
       "L 112.327864 149.386153 \n",
       "L 114.767652 151.300974 \n",
       "L 115.3776 151.067715 \n",
       "L 115.987547 150.165003 \n",
       "L 117.817388 149.536552 \n",
       "L 118.427335 149.980909 \n",
       "L 119.037283 151.052363 \n",
       "L 119.64723 150.839999 \n",
       "L 120.867124 151.661744 \n",
       "L 122.696966 151.038946 \n",
       "L 123.91686 149.476083 \n",
       "L 124.526807 149.297143 \n",
       "L 125.136754 148.549089 \n",
       "L 126.356649 148.220196 \n",
       "L 126.966596 149.172352 \n",
       "L 128.18649 148.840967 \n",
       "L 128.796437 148.139999 \n",
       "L 129.406384 147.987174 \n",
       "L 130.626279 149.790004 \n",
       "L 131.236226 149.626238 \n",
       "L 131.846173 149.980909 \n",
       "L 132.45612 149.307569 \n",
       "L 133.066067 149.65875 \n",
       "L 133.676015 148.498412 \n",
       "L 134.285962 148.353158 \n",
       "L 134.895909 149.196524 \n",
       "L 135.505856 149.047763 \n",
       "L 136.115803 147.932307 \n",
       "L 137.335698 148.616469 \n",
       "L 137.945645 148.477501 \n",
       "L 138.555592 148.809427 \n",
       "L 139.165539 148.671151 \n",
       "L 139.775486 147.152197 \n",
       "L 140.385433 147.029518 \n",
       "L 140.995381 147.815998 \n",
       "L 141.605328 147.239999 \n",
       "L 142.215275 147.565985 \n",
       "L 142.825222 146.115003 \n",
       "L 143.435169 146.444656 \n",
       "L 144.045116 146.333079 \n",
       "L 144.655064 145.790386 \n",
       "L 145.265011 146.115003 \n",
       "L 145.874958 146.00842 \n",
       "L 146.484905 145.480301 \n",
       "L 147.094852 145.800001 \n",
       "L 147.704799 146.531917 \n",
       "L 148.924694 147.142177 \n",
       "L 149.534641 147.848636 \n",
       "L 150.144588 147.330006 \n",
       "L 151.364482 147.113239 \n",
       "L 151.97443 146.610628 \n",
       "L 152.584377 147.296252 \n",
       "L 153.194324 147.581379 \n",
       "L 153.804271 147.08589 \n",
       "L 154.414218 147.368575 \n",
       "L 155.024165 147.264323 \n",
       "L 156.24406 147.815998 \n",
       "L 158.073901 147.504705 \n",
       "L 158.683848 147.771819 \n",
       "L 159.293796 147.669679 \n",
       "L 161.733584 148.700376 \n",
       "L 162.953479 147.787829 \n",
       "L 163.563426 148.040005 \n",
       "L 164.173373 147.245524 \n",
       "L 166.003214 147.993612 \n",
       "L 166.613162 147.897488 \n",
       "L 167.223109 148.477501 \n",
       "L 168.443003 148.95 \n",
       "L 169.05295 148.850531 \n",
       "L 169.662897 149.081863 \n",
       "L 170.272845 148.982774 \n",
       "L 170.882792 149.210693 \n",
       "L 171.492739 148.463999 \n",
       "L 173.32258 148.185505 \n",
       "L 174.542475 149.265003 \n",
       "L 175.152422 149.169285 \n",
       "L 176.982263 149.812825 \n",
       "L 177.592211 149.409734 \n",
       "L 178.202158 148.70613 \n",
       "L 178.812105 148.313262 \n",
       "L 180.641946 148.95 \n",
       "L 181.861841 149.954066 \n",
       "L 183.081735 149.183817 \n",
       "L 184.301629 149.586427 \n",
       "L 184.911577 149.209037 \n",
       "L 185.521524 149.694548 \n",
       "L 186.131471 149.605327 \n",
       "L 187.961312 150.185052 \n",
       "L 188.57126 149.536552 \n",
       "L 189.181207 149.450297 \n",
       "L 191.620995 150.203944 \n",
       "L 192.230943 149.84526 \n",
       "L 192.84089 150.3 \n",
       "L 193.450837 150.212985 \n",
       "L 194.060784 150.394248 \n",
       "L 194.670731 149.77521 \n",
       "L 195.890626 150.13675 \n",
       "L 196.500573 150.577498 \n",
       "L 197.11052 150.752907 \n",
       "L 197.720467 150.666609 \n",
       "L 198.330414 150.839999 \n",
       "L 199.550309 151.695202 \n",
       "L 200.160256 151.861621 \n",
       "L 200.770203 151.518027 \n",
       "L 201.990097 151.344004 \n",
       "L 202.600044 151.509029 \n",
       "L 203.819939 151.337372 \n",
       "L 205.039833 151.661744 \n",
       "L 206.259727 151.491726 \n",
       "L 207.479622 150.839999 \n",
       "L 208.089569 150.277019 \n",
       "L 208.699516 150.679832 \n",
       "L 211.749252 150.291036 \n",
       "L 212.359199 150.449505 \n",
       "L 212.969146 150.373337 \n",
       "L 213.579093 149.833035 \n",
       "L 214.189041 150.222861 \n",
       "L 215.408935 150.074819 \n",
       "L 216.018882 150.230322 \n",
       "L 217.238776 150.084003 \n",
       "L 217.848724 149.559922 \n",
       "L 218.458671 149.489999 \n",
       "L 219.068618 149.644741 \n",
       "L 219.678565 149.575037 \n",
       "L 220.288512 149.06118 \n",
       "L 220.898459 149.215779 \n",
       "L 221.508407 149.148559 \n",
       "L 222.118354 149.301629 \n",
       "L 222.728301 149.672437 \n",
       "L 223.338248 149.822313 \n",
       "L 223.948195 149.753792 \n",
       "L 224.558142 149.902215 \n",
       "L 225.16809 149.402738 \n",
       "L 225.778037 149.551363 \n",
       "L 226.387984 149.270943 \n",
       "L 226.997931 149.63211 \n",
       "L 227.607878 149.778201 \n",
       "L 228.217825 149.71164 \n",
       "L 228.827773 149.856362 \n",
       "L 229.43772 149.790004 \n",
       "L 230.047667 150.142588 \n",
       "L 230.657614 150.075664 \n",
       "L 231.267561 150.216922 \n",
       "L 231.877508 150.564089 \n",
       "L 233.097403 150.839999 \n",
       "L 233.70735 150.56708 \n",
       "L 234.317297 150.907987 \n",
       "L 235.537191 150.7725 \n",
       "L 236.147139 150.503705 \n",
       "L 236.757086 150.839999 \n",
       "L 237.367033 150.773218 \n",
       "L 237.97698 150.906551 \n",
       "L 238.586927 150.839999 \n",
       "L 239.196874 150.972166 \n",
       "L 239.806822 150.708296 \n",
       "L 240.416769 151.036876 \n",
       "L 241.026716 150.970797 \n",
       "L 242.856557 151.94034 \n",
       "L 243.466505 151.678566 \n",
       "L 244.076452 151.611431 \n",
       "L 244.686399 151.736948 \n",
       "L 245.906293 151.603641 \n",
       "L 247.126188 151.851373 \n",
       "L 247.736135 151.407 \n",
       "L 248.956029 151.653574 \n",
       "L 249.565976 151.962772 \n",
       "L 250.175923 152.083423 \n",
       "L 250.785871 152.017378 \n",
       "L 253.225659 152.491457 \n",
       "L 253.835606 152.425167 \n",
       "L 254.445554 152.54161 \n",
       "L 255.665448 151.323068 \n",
       "L 256.885342 151.2 \n",
       "L 258.105237 150.720758 \n",
       "L 258.715184 151.018305 \n",
       "L 259.325131 151.136236 \n",
       "L 259.935078 151.076248 \n",
       "L 260.545025 151.369909 \n",
       "L 261.154972 151.309566 \n",
       "L 262.374867 151.890001 \n",
       "L 262.984814 151.479695 \n",
       "L 263.594761 150.897975 \n",
       "L 264.204708 150.839999 \n",
       "L 264.814655 151.128108 \n",
       "L 265.424603 151.242127 \n",
       "L 266.03455 150.668181 \n",
       "L 266.644497 150.954203 \n",
       "L 267.254444 150.896928 \n",
       "L 267.864391 151.180542 \n",
       "L 268.474338 151.122937 \n",
       "L 270.914127 152.237929 \n",
       "L 272.134021 152.118529 \n",
       "L 272.743969 152.225628 \n",
       "L 273.353916 152.000531 \n",
       "L 273.963863 152.272655 \n",
       "L 274.57381 152.378376 \n",
       "L 275.183757 152.319132 \n",
       "L 275.793704 152.424102 \n",
       "L 276.403652 152.201675 \n",
       "L 278.233493 152.513999 \n",
       "L 278.84344 152.455389 \n",
       "L 279.453387 152.719267 \n",
       "L 280.063335 152.660394 \n",
       "L 280.673282 152.281526 \n",
       "L 281.283229 151.745068 \n",
       "L 281.893176 152.007983 \n",
       "L 282.503123 151.951763 \n",
       "L 283.11307 152.054249 \n",
       "L 284.332965 151.942503 \n",
       "L 286.772753 152.968849 \n",
       "L 287.382701 153.066578 \n",
       "L 287.992648 153.008855 \n",
       "L 288.602595 153.105942 \n",
       "L 289.212542 152.894346 \n",
       "L 289.822489 152.991222 \n",
       "L 290.432436 153.240812 \n",
       "L 291.042384 152.877735 \n",
       "L 292.262278 152.765474 \n",
       "L 293.482172 153.259197 \n",
       "L 294.092119 153.202505 \n",
       "L 295.312014 153.390004 \n",
       "L 297.141855 153.221101 \n",
       "L 297.751802 153.31382 \n",
       "L 298.36175 153.5541 \n",
       "L 298.971697 153.202505 \n",
       "L 299.581644 153.294548 \n",
       "L 300.191591 153.533003 \n",
       "L 301.411485 153.713971 \n",
       "L 302.021433 153.366482 \n",
       "L 302.63138 153.602309 \n",
       "L 303.241327 153.54691 \n",
       "L 303.851274 153.347142 \n",
       "L 304.461221 153.581221 \n",
       "L 305.071168 153.23848 \n",
       "L 305.681116 153.471646 \n",
       "L 306.291063 153.560453 \n",
       "L 306.90101 153.506 \n",
       "L 307.510957 153.736732 \n",
       "L 308.730851 153.911254 \n",
       "L 309.340799 154.139249 \n",
       "L 309.950746 153.801941 \n",
       "L 310.560693 154.029083 \n",
       "L 312.390534 153.446899 \n",
       "L 313.610429 153.897356 \n",
       "L 314.830323 153.513663 \n",
       "L 316.050217 153.68418 \n",
       "L 316.660165 153.9061 \n",
       "L 317.270112 153.989998 \n",
       "L 317.880059 153.800243 \n",
       "L 318.490006 153.883989 \n",
       "L 319.099953 154.103307 \n",
       "L 319.7099 154.185938 \n",
       "L 320.319848 153.862199 \n",
       "L 320.929795 154.080005 \n",
       "L 321.539742 154.02741 \n",
       "L 322.149689 154.109433 \n",
       "L 322.759636 153.788938 \n",
       "L 323.369583 154.00486 \n",
       "L 323.979531 154.08635 \n",
       "L 324.589478 154.034364 \n",
       "L 325.199425 153.849839 \n",
       "L 325.809372 153.931126 \n",
       "L 326.419319 153.747691 \n",
       "L 327.029266 153.69698 \n",
       "L 327.639214 153.514947 \n",
       "L 328.249161 153.596252 \n",
       "L 328.859108 153.546234 \n",
       "L 329.469055 153.23516 \n",
       "L 330.079002 153.316557 \n",
       "L 330.688949 153.137482 \n",
       "L 331.298897 153.348469 \n",
       "L 332.518791 153.250934 \n",
       "L 333.128738 153.073641 \n",
       "L 333.738685 153.025719 \n",
       "L 334.348632 152.849727 \n",
       "L 334.95858 152.930524 \n",
       "L 335.568527 152.883244 \n",
       "L 336.178474 153.091012 \n",
       "L 336.788421 153.17072 \n",
       "L 337.398368 152.869531 \n",
       "L 338.008315 152.822817 \n",
       "L 341.667998 153.29617 \n",
       "L 342.887893 152.953818 \n",
       "L 343.49784 153.031903 \n",
       "L 344.107787 152.985857 \n",
       "L 344.717734 153.18706 \n",
       "L 345.937629 153.340865 \n",
       "L 347.157523 153.003498 \n",
       "L 347.76747 152.958102 \n",
       "L 348.987365 153.111248 \n",
       "L 349.597312 152.944499 \n",
       "L 350.207259 152.899618 \n",
       "L 350.817206 152.734035 \n",
       "L 351.427153 152.810431 \n",
       "L 352.0371 152.766116 \n",
       "L 352.647048 152.842123 \n",
       "L 353.256995 152.797926 \n",
       "L 353.866942 152.993165 \n",
       "L 355.086836 152.666469 \n",
       "L 355.696783 152.741884 \n",
       "L 356.306731 152.461134 \n",
       "L 358.136572 152.68678 \n",
       "L 358.746519 152.879003 \n",
       "L 359.356466 152.718261 \n",
       "L 359.966414 152.792477 \n",
       "L 360.576361 152.63258 \n",
       "L 361.796255 152.547601 \n",
       "L 363.016149 152.695212 \n",
       "L 364.236044 153.072585 \n",
       "L 364.845991 153.029639 \n",
       "L 365.455938 152.871846 \n",
       "L 366.065885 153.059033 \n",
       "L 366.675832 152.67273 \n",
       "L 367.28578 152.516618 \n",
       "L 367.895727 152.47521 \n",
       "L 369.115621 152.73379 \n",
       "L 369.725568 152.692205 \n",
       "L 369.725568 152.692205 \n",
       "\" clip-path=\"url(#p216cb4f130)\" style=\"fill: none; stroke: #9467bd; stroke-width: 1.5; stroke-linecap: square\"/>\n",
       "   </g>\n",
       "   <g id=\"line2d_21\">\n",
       "    <path d=\"M 65.361932 18.54 \n",
       "L 65.971879 103.590002 \n",
       "L 66.581826 113.040001 \n",
       "L 67.191773 103.590002 \n",
       "L 67.80172 120.600003 \n",
       "L 68.411668 131.94 \n",
       "L 69.021615 140.039999 \n",
       "L 69.631562 146.115003 \n",
       "L 70.241509 138.24 \n",
       "L 71.461403 126.78546 \n",
       "L 72.071351 117.765005 \n",
       "L 72.681298 114.493847 \n",
       "L 73.291245 119.790001 \n",
       "L 73.901192 109.260005 \n",
       "L 74.511139 114.22125 \n",
       "L 75.121086 115.263531 \n",
       "L 75.731034 113.040001 \n",
       "L 76.340981 114.03474 \n",
       "L 77.560875 121.140001 \n",
       "L 78.170822 119.05364 \n",
       "L 78.780769 124.544348 \n",
       "L 79.390717 124.852498 \n",
       "L 80.000664 127.403999 \n",
       "L 80.610611 131.94 \n",
       "L 81.220558 134.040005 \n",
       "L 81.830505 133.965004 \n",
       "L 82.440452 131.94 \n",
       "L 83.0504 135.720005 \n",
       "L 83.660347 133.76903 \n",
       "L 84.270294 135.483755 \n",
       "L 84.880241 135.376369 \n",
       "L 85.490188 130.272353 \n",
       "L 86.100135 128.700002 \n",
       "L 87.32003 131.94 \n",
       "L 88.539924 131.94 \n",
       "L 89.149871 130.522501 \n",
       "L 90.369766 135.99 \n",
       "L 90.979713 135.895819 \n",
       "L 91.58966 137.094549 \n",
       "L 92.199607 135.720005 \n",
       "L 92.809554 135.63783 \n",
       "L 93.419502 136.76553 \n",
       "L 94.029449 139.027502 \n",
       "L 94.639396 136.568576 \n",
       "L 95.249343 136.476001 \n",
       "L 96.469237 138.482307 \n",
       "L 97.079185 138.358868 \n",
       "L 97.689132 140.340005 \n",
       "L 98.909026 138.015004 \n",
       "L 99.518973 137.90842 \n",
       "L 100.738868 141.550175 \n",
       "L 101.348815 141.389999 \n",
       "L 101.958762 143.094103 \n",
       "L 103.178656 140.939999 \n",
       "L 104.398551 140.663076 \n",
       "L 106.228392 137.776768 \n",
       "L 107.448286 139.229998 \n",
       "L 108.058234 139.127326 \n",
       "L 108.668181 140.602506 \n",
       "L 111.107969 137.162369 \n",
       "L 111.717917 135.621819 \n",
       "L 112.327864 134.847692 \n",
       "L 113.547758 136.192504 \n",
       "L 114.157705 136.140003 \n",
       "L 114.767652 136.780248 \n",
       "L 115.987547 136.665004 \n",
       "L 116.597494 137.943534 \n",
       "L 117.817388 139.108966 \n",
       "L 118.427335 138.383184 \n",
       "L 119.037283 138.310785 \n",
       "L 119.64723 138.870005 \n",
       "L 120.257177 138.793846 \n",
       "L 120.867124 139.951961 \n",
       "L 121.477071 140.475484 \n",
       "L 122.087018 140.384683 \n",
       "L 123.91686 141.877116 \n",
       "L 124.526807 141.197143 \n",
       "L 125.136754 141.103639 \n",
       "L 125.746701 141.579002 \n",
       "L 126.356649 140.92218 \n",
       "L 127.576543 140.747769 \n",
       "L 128.18649 141.208271 \n",
       "L 128.796437 142.200001 \n",
       "L 129.406384 141.568306 \n",
       "L 130.016332 141.478316 \n",
       "L 130.626279 142.440002 \n",
       "L 131.236226 142.863852 \n",
       "L 131.846173 142.764543 \n",
       "L 133.066067 141.55875 \n",
       "L 134.285962 143.379475 \n",
       "L 135.505856 143.182243 \n",
       "L 136.115803 142.601538 \n",
       "L 136.72575 142.511185 \n",
       "L 137.335698 142.898823 \n",
       "L 137.945645 142.807498 \n",
       "L 138.555592 141.780493 \n",
       "L 139.775486 142.542437 \n",
       "L 140.385433 141.999676 \n",
       "L 140.995381 140.558402 \n",
       "L 141.605328 140.489999 \n",
       "L 143.435169 141.609765 \n",
       "L 145.874958 141.318952 \n",
       "L 146.484905 141.672093 \n",
       "L 147.094852 141.599998 \n",
       "L 147.704799 139.444415 \n",
       "L 148.924694 139.335652 \n",
       "L 149.534641 138.466617 \n",
       "L 150.144588 139.229998 \n",
       "L 150.754535 139.580427 \n",
       "L 151.364482 139.526624 \n",
       "L 151.97443 140.266575 \n",
       "L 152.584377 140.20875 \n",
       "L 153.194324 140.933798 \n",
       "L 154.414218 140.811432 \n",
       "L 155.024165 139.602166 \n",
       "L 155.634113 139.931278 \n",
       "L 156.24406 139.122003 \n",
       "L 156.854007 139.074436 \n",
       "L 157.463954 139.400532 \n",
       "L 158.073901 138.981176 \n",
       "L 158.683848 139.671819 \n",
       "L 159.903743 139.572696 \n",
       "L 160.51369 139.16293 \n",
       "L 161.123637 139.476074 \n",
       "L 162.343531 138.673127 \n",
       "L 162.953479 139.335652 \n",
       "L 163.563426 139.64 \n",
       "L 164.173373 139.592762 \n",
       "L 164.78332 140.237561 \n",
       "L 165.393267 139.843637 \n",
       "L 166.613162 139.748983 \n",
       "L 167.223109 140.039999 \n",
       "L 167.833056 139.321069 \n",
       "L 169.05295 139.234738 \n",
       "L 170.272845 139.805896 \n",
       "L 172.102686 139.671819 \n",
       "L 172.712633 139.94848 \n",
       "L 173.32258 140.540566 \n",
       "L 173.932528 139.858997 \n",
       "L 175.152422 139.771492 \n",
       "L 175.762369 140.351538 \n",
       "L 177.592211 141.134596 \n",
       "L 178.202158 141.085161 \n",
       "L 178.812105 141.339466 \n",
       "L 179.422052 141.289474 \n",
       "L 180.031999 141.540002 \n",
       "L 180.641946 140.594209 \n",
       "L 181.861841 141.094691 \n",
       "L 182.471788 141.634816 \n",
       "L 184.911577 142.589236 \n",
       "L 185.521524 141.962729 \n",
       "L 186.131471 142.197289 \n",
       "L 186.741418 142.146004 \n",
       "L 187.961312 141.483563 \n",
       "L 188.57126 141.715867 \n",
       "L 189.181207 141.667945 \n",
       "L 189.791154 141.897072 \n",
       "L 191.011048 141.800872 \n",
       "L 192.84089 142.470004 \n",
       "L 193.450837 142.420096 \n",
       "L 194.060784 141.835758 \n",
       "L 195.280678 142.803088 \n",
       "L 195.890626 142.22512 \n",
       "L 196.500573 142.440002 \n",
       "L 197.11052 142.391615 \n",
       "L 198.330414 141.778356 \n",
       "L 199.550309 140.663076 \n",
       "L 200.160256 140.623789 \n",
       "L 201.38015 141.052506 \n",
       "L 202.600044 141.975402 \n",
       "L 203.819939 141.887373 \n",
       "L 204.429886 142.091533 \n",
       "L 205.039833 141.800872 \n",
       "L 206.259727 141.715867 \n",
       "L 206.869675 142.160603 \n",
       "L 207.479622 142.35923 \n",
       "L 208.089569 142.797452 \n",
       "L 208.699516 142.27093 \n",
       "L 209.309463 142.466582 \n",
       "L 210.529358 141.42954 \n",
       "L 211.139305 141.626249 \n",
       "L 211.749252 141.586057 \n",
       "L 212.359199 141.077608 \n",
       "L 212.969146 141.273336 \n",
       "L 213.579093 141.002707 \n",
       "L 214.189041 141.428569 \n",
       "L 216.628829 142.18699 \n",
       "L 217.238776 142.599603 \n",
       "L 219.678565 143.32465 \n",
       "L 220.288512 143.279997 \n",
       "L 220.898459 143.014219 \n",
       "L 221.508407 142.529882 \n",
       "L 222.728301 142.010271 \n",
       "L 223.338248 142.189617 \n",
       "L 223.948195 142.150346 \n",
       "L 224.558142 142.327791 \n",
       "L 225.16809 142.288293 \n",
       "L 225.778037 142.034317 \n",
       "L 226.387984 142.21019 \n",
       "L 226.997931 141.745261 \n",
       "L 228.217825 142.095225 \n",
       "L 228.827773 142.057475 \n",
       "L 229.43772 141.599998 \n",
       "L 230.047667 141.773582 \n",
       "L 230.657614 141.528976 \n",
       "L 231.267561 141.493845 \n",
       "L 231.877508 141.665917 \n",
       "L 232.487456 141.63055 \n",
       "L 233.70735 141.96997 \n",
       "L 234.317297 141.933884 \n",
       "L 234.927244 142.101292 \n",
       "L 235.537191 141.660003 \n",
       "L 236.147139 141.625413 \n",
       "L 236.757086 141.389999 \n",
       "L 237.367033 141.356609 \n",
       "L 237.97698 141.523104 \n",
       "L 238.586927 141.489477 \n",
       "L 239.806822 141.818049 \n",
       "L 240.416769 141.586877 \n",
       "L 241.026716 141.161109 \n",
       "L 242.24661 141.097733 \n",
       "L 243.466505 141.422257 \n",
       "L 244.076452 141.197143 \n",
       "L 244.686399 141.165764 \n",
       "L 245.296346 141.326151 \n",
       "L 245.906293 141.294543 \n",
       "L 246.51624 141.643696 \n",
       "L 248.346082 141.546981 \n",
       "L 248.956029 141.890668 \n",
       "L 250.175923 141.452175 \n",
       "L 250.785871 141.606884 \n",
       "L 253.225659 141.481747 \n",
       "L 253.835606 141.268064 \n",
       "L 255.055501 141.571736 \n",
       "L 255.665448 141.903257 \n",
       "L 256.275395 141.871531 \n",
       "L 256.885342 141.660003 \n",
       "L 258.105237 142.314138 \n",
       "L 258.715184 142.459815 \n",
       "L 259.325131 142.426839 \n",
       "L 260.545025 143.068038 \n",
       "L 261.154972 142.681304 \n",
       "L 262.374867 142.965003 \n",
       "L 262.984814 143.279997 \n",
       "L 263.594761 143.245213 \n",
       "L 264.204708 143.384038 \n",
       "L 264.814655 143.694884 \n",
       "L 265.424603 143.486811 \n",
       "L 267.254444 143.89482 \n",
       "L 267.864391 143.518376 \n",
       "L 268.474338 143.313954 \n",
       "L 269.084286 143.279997 \n",
       "L 269.694233 143.415003 \n",
       "L 270.30418 142.876205 \n",
       "L 270.914127 142.508346 \n",
       "L 272.134021 142.779709 \n",
       "L 274.57381 142.653668 \n",
       "L 275.183757 142.951308 \n",
       "L 275.793704 142.91948 \n",
       "L 277.013599 143.182243 \n",
       "L 277.623546 142.662641 \n",
       "L 278.233493 142.956005 \n",
       "L 278.84344 143.086153 \n",
       "L 279.453387 143.054486 \n",
       "L 280.063335 143.344252 \n",
       "L 280.673282 143.472203 \n",
       "L 281.283229 143.439717 \n",
       "L 281.893176 143.248145 \n",
       "L 283.11307 143.501732 \n",
       "L 283.723018 143.785406 \n",
       "L 284.942912 143.719783 \n",
       "L 286.162806 143.967278 \n",
       "L 286.772753 143.778461 \n",
       "L 287.992648 144.023607 \n",
       "L 288.602595 143.990682 \n",
       "L 289.212542 144.112009 \n",
       "L 289.822489 143.77171 \n",
       "L 290.432436 143.892978 \n",
       "L 291.042384 143.860754 \n",
       "L 292.262278 144.100856 \n",
       "L 292.872225 144.068344 \n",
       "L 293.482172 143.884799 \n",
       "L 294.092119 144.154625 \n",
       "L 294.702067 143.971832 \n",
       "L 295.312014 143.639999 \n",
       "L 296.531908 143.578423 \n",
       "L 297.751802 144.111206 \n",
       "L 298.971697 144.047813 \n",
       "L 299.581644 144.310914 \n",
       "L 300.191591 144.278859 \n",
       "L 300.801538 144.393486 \n",
       "L 301.411485 144.361397 \n",
       "L 302.021433 144.620982 \n",
       "L 302.63138 144.443081 \n",
       "L 303.241327 144.701129 \n",
       "L 303.851274 144.668575 \n",
       "L 304.461221 144.491908 \n",
       "L 305.681116 144.715442 \n",
       "L 306.291063 144.683184 \n",
       "L 306.90101 144.508265 \n",
       "L 307.510957 144.761607 \n",
       "L 308.730851 144.697505 \n",
       "L 309.340799 144.524292 \n",
       "L 309.950746 144.775074 \n",
       "L 310.560693 144.60253 \n",
       "L 311.17064 144.851884 \n",
       "L 312.390534 145.067586 \n",
       "L 313.610429 144.725293 \n",
       "L 314.220376 144.832663 \n",
       "L 314.830323 145.077809 \n",
       "L 315.44027 145.045838 \n",
       "L 316.050217 144.738786 \n",
       "L 316.660165 144.845082 \n",
       "L 317.270112 144.676957 \n",
       "L 317.880059 144.919518 \n",
       "L 318.490006 144.615719 \n",
       "L 319.099953 144.721297 \n",
       "L 320.319848 144.660287 \n",
       "L 320.929795 144.495 \n",
       "L 321.539742 144.59986 \n",
       "L 323.979531 145.548002 \n",
       "L 325.199425 145.218687 \n",
       "L 325.809372 145.187662 \n",
       "L 327.029266 145.38977 \n",
       "L 328.249161 145.065 \n",
       "L 328.859108 144.772793 \n",
       "L 329.469055 144.873877 \n",
       "L 330.079002 144.713794 \n",
       "L 330.688949 144.424409 \n",
       "L 331.298897 144.266092 \n",
       "L 332.518791 144.468251 \n",
       "L 333.128738 144.310914 \n",
       "L 334.95858 144.995077 \n",
       "L 335.568527 144.965674 \n",
       "L 336.178474 144.808989 \n",
       "L 337.398368 145.258794 \n",
       "L 338.008315 145.229062 \n",
       "L 338.618263 144.820623 \n",
       "L 339.838157 144.512067 \n",
       "L 340.448104 144.484253 \n",
       "L 341.058051 144.331394 \n",
       "L 341.667998 144.054319 \n",
       "L 342.887893 144.498557 \n",
       "L 343.49784 144.347 \n",
       "L 344.107787 144.567509 \n",
       "L 344.717734 144.539999 \n",
       "L 345.327681 144.635869 \n",
       "L 345.937629 144.239351 \n",
       "L 346.547576 144.458179 \n",
       "L 347.157523 144.55361 \n",
       "L 347.76747 144.404224 \n",
       "L 348.377417 144.621295 \n",
       "L 348.987365 144.350734 \n",
       "L 349.597312 144.324154 \n",
       "L 352.0371 145.182044 \n",
       "L 352.647048 145.153985 \n",
       "L 353.256995 145.006179 \n",
       "L 353.866942 145.09823 \n",
       "L 354.476889 144.831792 \n",
       "L 355.086836 144.923827 \n",
       "L 356.916678 144.842506 \n",
       "L 358.136572 145.024614 \n",
       "L 358.746519 145.232738 \n",
       "L 359.356466 145.205219 \n",
       "L 360.576361 144.916704 \n",
       "L 362.406202 144.836929 \n",
       "L 363.016149 144.926505 \n",
       "L 363.626097 144.784284 \n",
       "L 366.675832 145.341822 \n",
       "L 368.505674 145.830366 \n",
       "L 369.115621 145.802527 \n",
       "L 369.725568 145.888199 \n",
       "L 369.725568 145.888199 \n",
       "\" clip-path=\"url(#p216cb4f130)\" style=\"fill: none; stroke: #8c564b; stroke-width: 1.5; stroke-linecap: square\"/>\n",
       "   </g>\n",
       "   <g id=\"line2d_22\">\n",
       "    <path d=\"M 50.14375 150.651001 \n",
       "L 384.94375 150.651001 \n",
       "\" clip-path=\"url(#p216cb4f130)\" style=\"fill: none; stroke-dasharray: 5.55,2.4; stroke-dashoffset: 0; stroke: #000000; stroke-width: 1.5\"/>\n",
       "   </g>\n",
       "   <g id=\"patch_3\">\n",
       "    <path d=\"M 50.14375 256.68 \n",
       "L 50.14375 7.2 \n",
       "\" style=\"fill: none; stroke: #000000; stroke-width: 0.8; stroke-linejoin: miter; stroke-linecap: square\"/>\n",
       "   </g>\n",
       "   <g id=\"patch_4\">\n",
       "    <path d=\"M 384.94375 256.68 \n",
       "L 384.94375 7.2 \n",
       "\" style=\"fill: none; stroke: #000000; stroke-width: 0.8; stroke-linejoin: miter; stroke-linecap: square\"/>\n",
       "   </g>\n",
       "   <g id=\"patch_5\">\n",
       "    <path d=\"M 50.14375 256.68 \n",
       "L 384.94375 256.68 \n",
       "\" style=\"fill: none; stroke: #000000; stroke-width: 0.8; stroke-linejoin: miter; stroke-linecap: square\"/>\n",
       "   </g>\n",
       "   <g id=\"patch_6\">\n",
       "    <path d=\"M 50.14375 7.2 \n",
       "L 384.94375 7.2 \n",
       "\" style=\"fill: none; stroke: #000000; stroke-width: 0.8; stroke-linejoin: miter; stroke-linecap: square\"/>\n",
       "   </g>\n",
       "   <g id=\"legend_1\">\n",
       "    <g id=\"patch_7\">\n",
       "     <path d=\"M 302.089063 103.26875 \n",
       "L 377.94375 103.26875 \n",
       "Q 379.94375 103.26875 379.94375 101.26875 \n",
       "L 379.94375 14.2 \n",
       "Q 379.94375 12.2 377.94375 12.2 \n",
       "L 302.089063 12.2 \n",
       "Q 300.089063 12.2 300.089063 14.2 \n",
       "L 300.089063 101.26875 \n",
       "Q 300.089063 103.26875 302.089063 103.26875 \n",
       "z\n",
       "\" style=\"fill: #ffffff; opacity: 0.8; stroke: #cccccc; stroke-linejoin: miter\"/>\n",
       "    </g>\n",
       "    <g id=\"line2d_23\">\n",
       "     <path d=\"M 304.089063 20.298438 \n",
       "L 314.089063 20.298438 \n",
       "L 324.089063 20.298438 \n",
       "\" style=\"fill: none; stroke: #1f77b4; stroke-width: 1.5; stroke-linecap: square\"/>\n",
       "    </g>\n",
       "    <g id=\"text_18\">\n",
       "     <!-- P(die=1) -->\n",
       "     <g transform=\"translate(332.089063 23.798438)scale(0.1 -0.1)\">\n",
       "      <defs>\n",
       "       <path id=\"DejaVuSans-50\" d=\"M 1259 4147 \n",
       "L 1259 2394 \n",
       "L 2053 2394 \n",
       "Q 2494 2394 2734 2622 \n",
       "Q 2975 2850 2975 3272 \n",
       "Q 2975 3691 2734 3919 \n",
       "Q 2494 4147 2053 4147 \n",
       "L 1259 4147 \n",
       "z\n",
       "M 628 4666 \n",
       "L 2053 4666 \n",
       "Q 2838 4666 3239 4311 \n",
       "Q 3641 3956 3641 3272 \n",
       "Q 3641 2581 3239 2228 \n",
       "Q 2838 1875 2053 1875 \n",
       "L 1259 1875 \n",
       "L 1259 0 \n",
       "L 628 0 \n",
       "L 628 4666 \n",
       "z\n",
       "\" transform=\"scale(0.015625)\"/>\n",
       "       <path id=\"DejaVuSans-28\" d=\"M 1984 4856 \n",
       "Q 1566 4138 1362 3434 \n",
       "Q 1159 2731 1159 2009 \n",
       "Q 1159 1288 1364 580 \n",
       "Q 1569 -128 1984 -844 \n",
       "L 1484 -844 \n",
       "Q 1016 -109 783 600 \n",
       "Q 550 1309 550 2009 \n",
       "Q 550 2706 781 3412 \n",
       "Q 1013 4119 1484 4856 \n",
       "L 1984 4856 \n",
       "z\n",
       "\" transform=\"scale(0.015625)\"/>\n",
       "       <path id=\"DejaVuSans-3d\" d=\"M 678 2906 \n",
       "L 4684 2906 \n",
       "L 4684 2381 \n",
       "L 678 2381 \n",
       "L 678 2906 \n",
       "z\n",
       "M 678 1631 \n",
       "L 4684 1631 \n",
       "L 4684 1100 \n",
       "L 678 1100 \n",
       "L 678 1631 \n",
       "z\n",
       "\" transform=\"scale(0.015625)\"/>\n",
       "       <path id=\"DejaVuSans-29\" d=\"M 513 4856 \n",
       "L 1013 4856 \n",
       "Q 1481 4119 1714 3412 \n",
       "Q 1947 2706 1947 2009 \n",
       "Q 1947 1309 1714 600 \n",
       "Q 1481 -109 1013 -844 \n",
       "L 513 -844 \n",
       "Q 928 -128 1133 580 \n",
       "Q 1338 1288 1338 2009 \n",
       "Q 1338 2731 1133 3434 \n",
       "Q 928 4138 513 4856 \n",
       "z\n",
       "\" transform=\"scale(0.015625)\"/>\n",
       "      </defs>\n",
       "      <use xlink:href=\"#DejaVuSans-50\"/>\n",
       "      <use xlink:href=\"#DejaVuSans-28\" x=\"60.302734\"/>\n",
       "      <use xlink:href=\"#DejaVuSans-64\" x=\"99.316406\"/>\n",
       "      <use xlink:href=\"#DejaVuSans-69\" x=\"162.792969\"/>\n",
       "      <use xlink:href=\"#DejaVuSans-65\" x=\"190.576172\"/>\n",
       "      <use xlink:href=\"#DejaVuSans-3d\" x=\"252.099609\"/>\n",
       "      <use xlink:href=\"#DejaVuSans-31\" x=\"335.888672\"/>\n",
       "      <use xlink:href=\"#DejaVuSans-29\" x=\"399.511719\"/>\n",
       "     </g>\n",
       "    </g>\n",
       "    <g id=\"line2d_24\">\n",
       "     <path d=\"M 304.089063 34.976563 \n",
       "L 314.089063 34.976563 \n",
       "L 324.089063 34.976563 \n",
       "\" style=\"fill: none; stroke: #ff7f0e; stroke-width: 1.5; stroke-linecap: square\"/>\n",
       "    </g>\n",
       "    <g id=\"text_19\">\n",
       "     <!-- P(die=2) -->\n",
       "     <g transform=\"translate(332.089063 38.476563)scale(0.1 -0.1)\">\n",
       "      <use xlink:href=\"#DejaVuSans-50\"/>\n",
       "      <use xlink:href=\"#DejaVuSans-28\" x=\"60.302734\"/>\n",
       "      <use xlink:href=\"#DejaVuSans-64\" x=\"99.316406\"/>\n",
       "      <use xlink:href=\"#DejaVuSans-69\" x=\"162.792969\"/>\n",
       "      <use xlink:href=\"#DejaVuSans-65\" x=\"190.576172\"/>\n",
       "      <use xlink:href=\"#DejaVuSans-3d\" x=\"252.099609\"/>\n",
       "      <use xlink:href=\"#DejaVuSans-32\" x=\"335.888672\"/>\n",
       "      <use xlink:href=\"#DejaVuSans-29\" x=\"399.511719\"/>\n",
       "     </g>\n",
       "    </g>\n",
       "    <g id=\"line2d_25\">\n",
       "     <path d=\"M 304.089063 49.654688 \n",
       "L 314.089063 49.654688 \n",
       "L 324.089063 49.654688 \n",
       "\" style=\"fill: none; stroke: #2ca02c; stroke-width: 1.5; stroke-linecap: square\"/>\n",
       "    </g>\n",
       "    <g id=\"text_20\">\n",
       "     <!-- P(die=3) -->\n",
       "     <g transform=\"translate(332.089063 53.154688)scale(0.1 -0.1)\">\n",
       "      <use xlink:href=\"#DejaVuSans-50\"/>\n",
       "      <use xlink:href=\"#DejaVuSans-28\" x=\"60.302734\"/>\n",
       "      <use xlink:href=\"#DejaVuSans-64\" x=\"99.316406\"/>\n",
       "      <use xlink:href=\"#DejaVuSans-69\" x=\"162.792969\"/>\n",
       "      <use xlink:href=\"#DejaVuSans-65\" x=\"190.576172\"/>\n",
       "      <use xlink:href=\"#DejaVuSans-3d\" x=\"252.099609\"/>\n",
       "      <use xlink:href=\"#DejaVuSans-33\" x=\"335.888672\"/>\n",
       "      <use xlink:href=\"#DejaVuSans-29\" x=\"399.511719\"/>\n",
       "     </g>\n",
       "    </g>\n",
       "    <g id=\"line2d_26\">\n",
       "     <path d=\"M 304.089063 64.332813 \n",
       "L 314.089063 64.332813 \n",
       "L 324.089063 64.332813 \n",
       "\" style=\"fill: none; stroke: #d62728; stroke-width: 1.5; stroke-linecap: square\"/>\n",
       "    </g>\n",
       "    <g id=\"text_21\">\n",
       "     <!-- P(die=4) -->\n",
       "     <g transform=\"translate(332.089063 67.832813)scale(0.1 -0.1)\">\n",
       "      <use xlink:href=\"#DejaVuSans-50\"/>\n",
       "      <use xlink:href=\"#DejaVuSans-28\" x=\"60.302734\"/>\n",
       "      <use xlink:href=\"#DejaVuSans-64\" x=\"99.316406\"/>\n",
       "      <use xlink:href=\"#DejaVuSans-69\" x=\"162.792969\"/>\n",
       "      <use xlink:href=\"#DejaVuSans-65\" x=\"190.576172\"/>\n",
       "      <use xlink:href=\"#DejaVuSans-3d\" x=\"252.099609\"/>\n",
       "      <use xlink:href=\"#DejaVuSans-34\" x=\"335.888672\"/>\n",
       "      <use xlink:href=\"#DejaVuSans-29\" x=\"399.511719\"/>\n",
       "     </g>\n",
       "    </g>\n",
       "    <g id=\"line2d_27\">\n",
       "     <path d=\"M 304.089063 79.010938 \n",
       "L 314.089063 79.010938 \n",
       "L 324.089063 79.010938 \n",
       "\" style=\"fill: none; stroke: #9467bd; stroke-width: 1.5; stroke-linecap: square\"/>\n",
       "    </g>\n",
       "    <g id=\"text_22\">\n",
       "     <!-- P(die=5) -->\n",
       "     <g transform=\"translate(332.089063 82.510938)scale(0.1 -0.1)\">\n",
       "      <use xlink:href=\"#DejaVuSans-50\"/>\n",
       "      <use xlink:href=\"#DejaVuSans-28\" x=\"60.302734\"/>\n",
       "      <use xlink:href=\"#DejaVuSans-64\" x=\"99.316406\"/>\n",
       "      <use xlink:href=\"#DejaVuSans-69\" x=\"162.792969\"/>\n",
       "      <use xlink:href=\"#DejaVuSans-65\" x=\"190.576172\"/>\n",
       "      <use xlink:href=\"#DejaVuSans-3d\" x=\"252.099609\"/>\n",
       "      <use xlink:href=\"#DejaVuSans-35\" x=\"335.888672\"/>\n",
       "      <use xlink:href=\"#DejaVuSans-29\" x=\"399.511719\"/>\n",
       "     </g>\n",
       "    </g>\n",
       "    <g id=\"line2d_28\">\n",
       "     <path d=\"M 304.089063 93.689063 \n",
       "L 314.089063 93.689063 \n",
       "L 324.089063 93.689063 \n",
       "\" style=\"fill: none; stroke: #8c564b; stroke-width: 1.5; stroke-linecap: square\"/>\n",
       "    </g>\n",
       "    <g id=\"text_23\">\n",
       "     <!-- P(die=6) -->\n",
       "     <g transform=\"translate(332.089063 97.189063)scale(0.1 -0.1)\">\n",
       "      <defs>\n",
       "       <path id=\"DejaVuSans-36\" d=\"M 2113 2584 \n",
       "Q 1688 2584 1439 2293 \n",
       "Q 1191 2003 1191 1497 \n",
       "Q 1191 994 1439 701 \n",
       "Q 1688 409 2113 409 \n",
       "Q 2538 409 2786 701 \n",
       "Q 3034 994 3034 1497 \n",
       "Q 3034 2003 2786 2293 \n",
       "Q 2538 2584 2113 2584 \n",
       "z\n",
       "M 3366 4563 \n",
       "L 3366 3988 \n",
       "Q 3128 4100 2886 4159 \n",
       "Q 2644 4219 2406 4219 \n",
       "Q 1781 4219 1451 3797 \n",
       "Q 1122 3375 1075 2522 \n",
       "Q 1259 2794 1537 2939 \n",
       "Q 1816 3084 2150 3084 \n",
       "Q 2853 3084 3261 2657 \n",
       "Q 3669 2231 3669 1497 \n",
       "Q 3669 778 3244 343 \n",
       "Q 2819 -91 2113 -91 \n",
       "Q 1303 -91 875 529 \n",
       "Q 447 1150 447 2328 \n",
       "Q 447 3434 972 4092 \n",
       "Q 1497 4750 2381 4750 \n",
       "Q 2619 4750 2861 4703 \n",
       "Q 3103 4656 3366 4563 \n",
       "z\n",
       "\" transform=\"scale(0.015625)\"/>\n",
       "      </defs>\n",
       "      <use xlink:href=\"#DejaVuSans-50\"/>\n",
       "      <use xlink:href=\"#DejaVuSans-28\" x=\"60.302734\"/>\n",
       "      <use xlink:href=\"#DejaVuSans-64\" x=\"99.316406\"/>\n",
       "      <use xlink:href=\"#DejaVuSans-69\" x=\"162.792969\"/>\n",
       "      <use xlink:href=\"#DejaVuSans-65\" x=\"190.576172\"/>\n",
       "      <use xlink:href=\"#DejaVuSans-3d\" x=\"252.099609\"/>\n",
       "      <use xlink:href=\"#DejaVuSans-36\" x=\"335.888672\"/>\n",
       "      <use xlink:href=\"#DejaVuSans-29\" x=\"399.511719\"/>\n",
       "     </g>\n",
       "    </g>\n",
       "   </g>\n",
       "  </g>\n",
       " </g>\n",
       " <defs>\n",
       "  <clipPath id=\"p216cb4f130\">\n",
       "   <rect x=\"50.14375\" y=\"7.2\" width=\"334.8\" height=\"249.48\"/>\n",
       "  </clipPath>\n",
       " </defs>\n",
       "</svg>\n"
      ],
      "text/plain": [
       "<Figure size 600x450 with 1 Axes>"
      ]
     },
     "metadata": {},
     "output_type": "display_data"
    }
   ],
   "source": [
    "counts = multinomial.Multinomial(10, fair_probs).sample((500,))\n",
    "cum_counts = counts.cumsum(dim=0)\n",
    "estimates = cum_counts / cum_counts.sum(dim=1, keepdims=True)\n",
    "d2l.set_figsize((6, 4.5))\n",
    "for i in range(6):\n",
    "    d2l.plt.plot(estimates[:, i].numpy(),\n",
    "        label=(\"P(die=\" + str(i + 1) + \")\"))\n",
    "d2l.plt.axhline(y=0.167, color='black', linestyle='dashed')\n",
    "d2l.plt.gca().set_xlabel('Groups of experiments')\n",
    "d2l.plt.gca().set_ylabel('Estimated probability')\n",
    "d2l.plt.legend();"
   ]
  },
  {
   "cell_type": "code",
   "execution_count": 276,
   "id": "511ce465",
   "metadata": {},
   "outputs": [
    {
     "name": "stdout",
     "output_type": "stream",
     "text": [
      "['AbsTransform', 'AffineTransform', 'Bernoulli', 'Beta', 'Binomial', 'CatTransform', 'Categorical', 'Cauchy', 'Chi2', 'ComposeTransform', 'ContinuousBernoulli', 'CorrCholeskyTransform', 'CumulativeDistributionTransform', 'Dirichlet', 'Distribution', 'ExpTransform', 'Exponential', 'ExponentialFamily', 'FisherSnedecor', 'Gamma', 'Geometric', 'Gumbel', 'HalfCauchy', 'HalfNormal', 'Independent', 'IndependentTransform', 'Kumaraswamy', 'LKJCholesky', 'Laplace', 'LogNormal', 'LogisticNormal', 'LowRankMultivariateNormal', 'LowerCholeskyTransform', 'MixtureSameFamily', 'Multinomial', 'MultivariateNormal', 'NegativeBinomial', 'Normal', 'OneHotCategorical', 'OneHotCategoricalStraightThrough', 'Pareto', 'Poisson', 'PowerTransform', 'RelaxedBernoulli', 'RelaxedOneHotCategorical', 'ReshapeTransform', 'SigmoidTransform', 'SoftmaxTransform', 'SoftplusTransform', 'StackTransform', 'StickBreakingTransform', 'StudentT', 'TanhTransform', 'Transform', 'TransformedDistribution', 'Uniform', 'VonMises', 'Weibull', 'Wishart', '__all__', '__builtins__', '__cached__', '__doc__', '__file__', '__loader__', '__name__', '__package__', '__path__', '__spec__', 'bernoulli', 'beta', 'biject_to', 'binomial', 'categorical', 'cauchy', 'chi2', 'constraint_registry', 'constraints', 'continuous_bernoulli', 'dirichlet', 'distribution', 'exp_family', 'exponential', 'fishersnedecor', 'gamma', 'geometric', 'gumbel', 'half_cauchy', 'half_normal', 'identity_transform', 'independent', 'kl', 'kl_divergence', 'kumaraswamy', 'laplace', 'lkj_cholesky', 'log_normal', 'logistic_normal', 'lowrank_multivariate_normal', 'mixture_same_family', 'multinomial', 'multivariate_normal', 'negative_binomial', 'normal', 'one_hot_categorical', 'pareto', 'poisson', 'register_kl', 'relaxed_bernoulli', 'relaxed_categorical', 'studentT', 'transform_to', 'transformed_distribution', 'transforms', 'uniform', 'utils', 'von_mises', 'weibull', 'wishart']\n"
     ]
    }
   ],
   "source": [
    "import torch\n",
    "print(dir(torch.distributions))"
   ]
  },
  {
   "cell_type": "code",
   "execution_count": null,
   "id": "2f45ec83",
   "metadata": {},
   "outputs": [],
   "source": []
  }
 ],
 "metadata": {
  "kernelspec": {
   "display_name": "Python 3 (ipykernel)",
   "language": "python",
   "name": "python3"
  },
  "language_info": {
   "codemirror_mode": {
    "name": "ipython",
    "version": 3
   },
   "file_extension": ".py",
   "mimetype": "text/x-python",
   "name": "python",
   "nbconvert_exporter": "python",
   "pygments_lexer": "ipython3",
   "version": "3.9.23"
  }
 },
 "nbformat": 4,
 "nbformat_minor": 5
}
